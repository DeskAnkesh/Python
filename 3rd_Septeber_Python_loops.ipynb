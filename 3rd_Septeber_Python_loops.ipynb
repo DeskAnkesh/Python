{
 "cells": [
  {
   "cell_type": "code",
   "execution_count": 1,
   "metadata": {},
   "outputs": [
    {
     "name": "stdout",
     "output_type": "stream",
     "text": [
      "1\n",
      "2\n",
      "3\n",
      "4\n",
      "5\n",
      "6\n",
      "7\n",
      "8\n",
      "9\n",
      "10\n"
     ]
    }
   ],
   "source": [
    "#Write a Python program to print the numbers from 1 to 10 using a `for` loop.\n",
    "for i in range(1,11,1):\n",
    "    print(i)"
   ]
  },
  {
   "cell_type": "code",
   "execution_count": 2,
   "metadata": {},
   "outputs": [
    {
     "name": "stdout",
     "output_type": "stream",
     "text": [
      "Sum of the value in list  648\n"
     ]
    }
   ],
   "source": [
    "#Create a program that calculates the sum of all numbers in a list using a `for` loop.\n",
    "my_list=[1,33,44,55,66,4,422,23]\n",
    "sum=0\n",
    "for val in my_list:\n",
    "    sum+=val\n",
    "print(\"Sum of the value in list \",sum)    "
   ]
  },
  {
   "cell_type": "code",
   "execution_count": 9,
   "metadata": {},
   "outputs": [
    {
     "name": "stdout",
     "output_type": "stream",
     "text": [
      "Input String :  hello\n",
      "o\n",
      "l\n",
      "l\n",
      "e\n",
      "h\n"
     ]
    }
   ],
   "source": [
    "#3. Write a program to print the characters of a string in reverse order using a `for` loop.\n",
    "my_string=input(\"Enter the string you want to print in reverse order: \")\n",
    "print(\"Input String : \",my_string)\n",
    "for i in range (len(my_string)-1,-1,-1):\n",
    "    print(my_string[i])"
   ]
  },
  {
   "cell_type": "code",
   "execution_count": 10,
   "metadata": {},
   "outputs": [
    {
     "name": "stdout",
     "output_type": "stream",
     "text": [
      "Entred number is :  5\n",
      "Factorial of n is :  120\n"
     ]
    }
   ],
   "source": [
    "#Develop a program that finds the factorial of a given number using a `for` loop.\n",
    "n=int(input(\"Enter the number you wanted to find factorial of: \"))\n",
    "print(\"Entred number is : \",n)\n",
    "fact=1;\n",
    "for i in range(1,n+1):\n",
    "    fact*=i;\n",
    "print(\"Factorial of n is : \",fact)"
   ]
  },
  {
   "cell_type": "code",
   "execution_count": 11,
   "metadata": {},
   "outputs": [
    {
     "name": "stdout",
     "output_type": "stream",
     "text": [
      "Entred number is :  5\n",
      "5 * 1 = 5\n",
      "5 * 2 = 10\n",
      "5 * 3 = 15\n",
      "5 * 4 = 20\n",
      "5 * 5 = 25\n",
      "5 * 6 = 30\n",
      "5 * 7 = 35\n",
      "5 * 8 = 40\n",
      "5 * 9 = 45\n",
      "5 * 10 = 50\n"
     ]
    }
   ],
   "source": [
    "#5. Create a program to print the multiplication table of a given number using a `for` loop.\n",
    "n=int(input(\"Enter the number you wanted to find factorial of: \"))\n",
    "print(\"Entred number is : \",n)\n",
    "for i in range(1,11):\n",
    "    print(f\"{n} * {i} = {n*i}\")"
   ]
  },
  {
   "cell_type": "code",
   "execution_count": 15,
   "metadata": {},
   "outputs": [
    {
     "name": "stdout",
     "output_type": "stream",
     "text": [
      "my list is [1, 2, 3, 4, 5, 6, 7, 8, 9, 10, 11, 12, 13, 14, 15, 16, 17, 18, 19, 20, 21]\n",
      "Count of odd number is 11 and count of even number is 10\n"
     ]
    }
   ],
   "source": [
    "#6. Write a program that counts the number of even and odd numbers in a list using a `for` loop.\n",
    "my_list=[1,2,3,4,5,6,7,8,9,10,11,12,13,14,15,16,17,18,19,20,21]\n",
    "print(f\"my list is {my_list}\")\n",
    "count_odd=0\n",
    "count_even=0\n",
    "for value in my_list:\n",
    "    if value%2==0:\n",
    "        count_even+=1\n",
    "    else:\n",
    "        count_odd+=1\n",
    "\n",
    "print (f\"Count of odd number is {count_odd} and count of even number is {count_even}\")"
   ]
  },
  {
   "cell_type": "code",
   "execution_count": 16,
   "metadata": {},
   "outputs": [
    {
     "name": "stdout",
     "output_type": "stream",
     "text": [
      "Square of 1 is 1\n",
      "Square of 2 is 4\n",
      "Square of 3 is 9\n",
      "Square of 4 is 16\n",
      "Square of 5 is 25\n"
     ]
    }
   ],
   "source": [
    "#7. Develop a program that prints the squares of numbers from 1 to 5 using a `for` loop.\n",
    "for i in range(1,6):\n",
    "    print(f\"Square of {i} is {i**2}\")"
   ]
  },
  {
   "cell_type": "code",
   "execution_count": 19,
   "metadata": {},
   "outputs": [
    {
     "name": "stdout",
     "output_type": "stream",
     "text": [
      "Hello world!\n",
      "The length of the string is: 12\n"
     ]
    }
   ],
   "source": [
    "#8. Create a program to find the length of a string without using the `len()` function.\n",
    "my_string=input(\"Enter the string for which you need to find out the length: \")\n",
    "print(my_string)\n",
    "\n",
    "def str_length(str1):\n",
    "  count = 0\n",
    "  for i in str1:\n",
    "    count += 1\n",
    "  return count\n",
    "\n",
    "\n",
    "print(\"The length of the string is:\", str_length(my_string))\n"
   ]
  },
  {
   "cell_type": "code",
   "execution_count": 23,
   "metadata": {},
   "outputs": [
    {
     "name": "stdout",
     "output_type": "stream",
     "text": [
      "[62, 90, 20, 46, 85, 71, 3, 3, 80, 46, 48, 52, 40, 58, 63, 23, 45, 7, 32, 82]\n",
      "average of the lsit is 47.8\n"
     ]
    }
   ],
   "source": [
    "#9. Write a program that calculates the average of a list of numbers using a `for` loop.\n",
    "import random\n",
    "my_list= [random.randint(1, 100) for i in range(20)]\n",
    "print(my_list)\n",
    "sum=0\n",
    "for val in my_list:\n",
    "    sum+=val\n",
    "length=len(my_list)\n",
    "avaerage=sum/length\n",
    "print(f\"average of the lsit is {avaerage}\")"
   ]
  },
  {
   "cell_type": "code",
   "execution_count": 28,
   "metadata": {},
   "outputs": [
    {
     "name": "stdout",
     "output_type": "stream",
     "text": [
      "Entered number is: 9\n",
      "0\n",
      "1\n",
      "1\n",
      "2\n",
      "3\n",
      "5\n",
      "8\n",
      "13\n",
      "21\n",
      "34\n",
      "55\n",
      "89\n"
     ]
    }
   ],
   "source": [
    "#10. Develop a program that prints the first `n` Fibonacci numbers using a `for` loop.\n",
    "n=int(input(\"Enter the number you want fibonaccil series of\"))\n",
    "print(f\"Entered number is: {n}\")\n",
    "print(0)\n",
    "print(1)\n",
    "a=1\n",
    "b=1\n",
    "c=a+b\n",
    "for i in range(n+1):\n",
    "    a=b\n",
    "    b=c\n",
    "    c=a+b\n",
    "    print(a)"
   ]
  },
  {
   "cell_type": "code",
   "execution_count": 34,
   "metadata": {},
   "outputs": [
    {
     "name": "stdout",
     "output_type": "stream",
     "text": [
      "The number is duplicate 2\n"
     ]
    }
   ],
   "source": [
    "#11. Write a program to check if a given list contains any duplicates using a `for` loop.\n",
    "my_list=[1,2,3,2,5,6,7,8,9,0,10,11]\n",
    "my_set = set()\n",
    "for i in range(len(my_list)):\n",
    "    if my_list[i] in my_set:\n",
    "        print(f\"The number is duplicate {my_list[i]}\")\n",
    "    else:\n",
    "        my_set.add(my_list[i])    "
   ]
  },
  {
   "cell_type": "code",
   "execution_count": 38,
   "metadata": {},
   "outputs": [
    {
     "name": "stdout",
     "output_type": "stream",
     "text": [
      "Entered value is: \n",
      "2\n",
      "3\n",
      "5\n",
      "7\n",
      "11\n",
      "13\n",
      "17\n"
     ]
    }
   ],
   "source": [
    "#12. Create a program that prints the prime numbers in a given range using a `for` loop.\n",
    "n = int(input(\"Enter the number: \"))\n",
    "def is_prime(number):\n",
    "    if number <= 1:\n",
    "        return False  # 0 and 1 are not prime numbers\n",
    "    elif number <= 3:\n",
    "        return True   # 2 and 3 are prime numbers\n",
    "    elif number % 2 == 0 or number % 3 == 0:\n",
    "        return False  # Numbers divisible by 2 or 3 are not prime\n",
    "    \n",
    "    i = 5\n",
    "    while i * i <= number:\n",
    "        if number % i == 0 or number % (i + 2) == 0:\n",
    "            return False  # If number is divisible by any number from 5 to sqrt(number), it's not prime\n",
    "        i += 6  # Increment by 6 because all primes greater than 3 can be represented as 6k ± 1\n",
    "\n",
    "    return True\n",
    "\n",
    "print(\"Entered value is: \")    \n",
    "\n",
    "for val in range(n+1):\n",
    "    if is_prime(val):\n",
    "        print(val)\n",
    "\n",
    "\n",
    "\n"
   ]
  },
  {
   "cell_type": "code",
   "execution_count": 39,
   "metadata": {},
   "outputs": [
    {
     "name": "stdout",
     "output_type": "stream",
     "text": [
      "number if vowels are 3\n"
     ]
    }
   ],
   "source": [
    "#13. Develop a program that counts the number of vowels in a string using a `for` loop.\n",
    "vowels={'a','e','i','o','u'}\n",
    "my_string=input(\"Enter the string you want to count the number of vowels: \")\n",
    "count=0\n",
    "for i in my_string:\n",
    "    if(i.lower() in vowels):\n",
    "        count+=1\n",
    "\n",
    "print(f\"number if vowels are {count}\")"
   ]
  },
  {
   "cell_type": "code",
   "execution_count": 40,
   "metadata": {},
   "outputs": [
    {
     "name": "stdout",
     "output_type": "stream",
     "text": [
      "The maximum element in the 2D list is: 9\n"
     ]
    }
   ],
   "source": [
    "#14. Write a program to find the maximum element in a 2D list using a nested `for` loop.\n",
    "# Define a sample 2D list\n",
    "matrix = [\n",
    "    [1, 5, 3],\n",
    "    [8, 2, 4],\n",
    "    [6, 7, 9]\n",
    "]\n",
    "\n",
    "# Initialize the maximum value to first element\n",
    "max_element = matrix[0][0]\n",
    "\n",
    "# Nested for loop to iterate through the 2D list\n",
    "for row in matrix:\n",
    "    for element in row:\n",
    "        if element > max_element:\n",
    "            max_element = element\n",
    "\n",
    "# Print the maximum element\n",
    "print(f\"The maximum element in the 2D list is: {max_element}\")\n"
   ]
  },
  {
   "cell_type": "code",
   "execution_count": 41,
   "metadata": {},
   "outputs": [
    {
     "name": "stdout",
     "output_type": "stream",
     "text": [
      "Original list after removing all occurrences of 2 : [1, 3, 4, 5]\n"
     ]
    }
   ],
   "source": [
    "#15. Create a program that removes all occurrences of a specific element from a list using a `for` loop.\n",
    "# Define a sample list\n",
    "my_list = [1, 2, 3, 4, 2, 5, 2]\n",
    "\n",
    "# Element to be removed\n",
    "element_to_remove = 2\n",
    "\n",
    "# Create a new list to store the filtered elements\n",
    "filtered_list = []\n",
    "\n",
    "# Iterate through the original list using a for loop\n",
    "for element in my_list:\n",
    "    if element != element_to_remove:\n",
    "        filtered_list.append(element)\n",
    "\n",
    "# Replace the original list with the filtered list\n",
    "my_list = filtered_list\n",
    "\n",
    "# Print the updated list\n",
    "print(\"Original list after removing all occurrences of\", element_to_remove, \":\", my_list)\n"
   ]
  },
  {
   "cell_type": "code",
   "execution_count": 42,
   "metadata": {},
   "outputs": [
    {
     "name": "stdout",
     "output_type": "stream",
     "text": [
      "Multiplication table for 1:\n",
      "1 x 1 = 1\n",
      "1 x 2 = 2\n",
      "1 x 3 = 3\n",
      "1 x 4 = 4\n",
      "1 x 5 = 5\n",
      "1 x 6 = 6\n",
      "1 x 7 = 7\n",
      "1 x 8 = 8\n",
      "1 x 9 = 9\n",
      "1 x 10 = 10\n",
      "--------------------\n",
      "Multiplication table for 2:\n",
      "2 x 1 = 2\n",
      "2 x 2 = 4\n",
      "2 x 3 = 6\n",
      "2 x 4 = 8\n",
      "2 x 5 = 10\n",
      "2 x 6 = 12\n",
      "2 x 7 = 14\n",
      "2 x 8 = 16\n",
      "2 x 9 = 18\n",
      "2 x 10 = 20\n",
      "--------------------\n",
      "Multiplication table for 3:\n",
      "3 x 1 = 3\n",
      "3 x 2 = 6\n",
      "3 x 3 = 9\n",
      "3 x 4 = 12\n",
      "3 x 5 = 15\n",
      "3 x 6 = 18\n",
      "3 x 7 = 21\n",
      "3 x 8 = 24\n",
      "3 x 9 = 27\n",
      "3 x 10 = 30\n",
      "--------------------\n",
      "Multiplication table for 4:\n",
      "4 x 1 = 4\n",
      "4 x 2 = 8\n",
      "4 x 3 = 12\n",
      "4 x 4 = 16\n",
      "4 x 5 = 20\n",
      "4 x 6 = 24\n",
      "4 x 7 = 28\n",
      "4 x 8 = 32\n",
      "4 x 9 = 36\n",
      "4 x 10 = 40\n",
      "--------------------\n",
      "Multiplication table for 5:\n",
      "5 x 1 = 5\n",
      "5 x 2 = 10\n",
      "5 x 3 = 15\n",
      "5 x 4 = 20\n",
      "5 x 5 = 25\n",
      "5 x 6 = 30\n",
      "5 x 7 = 35\n",
      "5 x 8 = 40\n",
      "5 x 9 = 45\n",
      "5 x 10 = 50\n",
      "--------------------\n"
     ]
    }
   ],
   "source": [
    "#16. Develop a program that generates a multiplication table for numbers from 1 to 5 using a nested `for` loop.\n",
    "# Define the range for the multiplication table\n",
    "start = 1\n",
    "end = 5\n",
    "\n",
    "# Iterate through the numbers from 1 to 5\n",
    "for i in range(start, end + 1):\n",
    "    print(f\"Multiplication table for {i}:\")\n",
    "    \n",
    "    # Inner loop to generate the multiplication table for the current number\n",
    "    for j in range(1, 11):  # Multiplication from 1 to 10\n",
    "        result = i * j\n",
    "        print(f\"{i} x {j} = {result}\")\n",
    "    \n",
    "    # Print a separator between tables\n",
    "    print(\"-\" * 20)\n"
   ]
  },
  {
   "cell_type": "code",
   "execution_count": 43,
   "metadata": {},
   "outputs": [
    {
     "name": "stdout",
     "output_type": "stream",
     "text": [
      "32°F is equal to 0.00°C\n",
      "68°F is equal to 20.00°C\n",
      "100°F is equal to 37.78°C\n",
      "212°F is equal to 100.00°C\n",
      "98.6°F is equal to 37.00°C\n"
     ]
    }
   ],
   "source": [
    "#17. Write a program that converts a list of Fahrenheit temperatures to Celsius using a `for` loop.\n",
    "# Function to convert Fahrenheit to Celsius\n",
    "def fahrenheit_to_celsius(fahrenheit):\n",
    "    return (fahrenheit - 32) * 5/9\n",
    "\n",
    "# List of Fahrenheit temperatures\n",
    "fahrenheit_temperatures = [32, 68, 100, 212, 98.6]\n",
    "\n",
    "# Create an empty list to store the Celsius temperatures\n",
    "celsius_temperatures = []\n",
    "\n",
    "# Iterate through the Fahrenheit temperatures and convert each one to Celsius\n",
    "for fahrenheit in fahrenheit_temperatures:\n",
    "    celsius = fahrenheit_to_celsius(fahrenheit)\n",
    "    celsius_temperatures.append(celsius)\n",
    "\n",
    "# Print the converted Celsius temperatures\n",
    "for i in range(len(fahrenheit_temperatures)):\n",
    "    print(f\"{fahrenheit_temperatures[i]}°F is equal to {celsius_temperatures[i]:.2f}°C\")\n"
   ]
  },
  {
   "cell_type": "code",
   "execution_count": 44,
   "metadata": {},
   "outputs": [
    {
     "name": "stdout",
     "output_type": "stream",
     "text": [
      "Common elements in the two lists: [3, 4, 5]\n"
     ]
    }
   ],
   "source": [
    "#18. Create a program to print the common elements from two lists using a `for` loop.\n",
    "# Define two lists\n",
    "list1 = [1, 2, 3, 4, 5]\n",
    "list2 = [3, 4, 5, 6, 7]\n",
    "\n",
    "# Create an empty list to store the common elements\n",
    "common_elements = []\n",
    "\n",
    "# Use a for loop to iterate through elements in list1\n",
    "for element1 in list1:\n",
    "    # Check if the element is also in list2\n",
    "    if element1 in list2:\n",
    "        # If it's common, add it to the common_elements list\n",
    "        common_elements.append(element1)\n",
    "\n",
    "# Print the common elements\n",
    "print(\"Common elements in the two lists:\", common_elements)\n"
   ]
  },
  {
   "cell_type": "code",
   "execution_count": 45,
   "metadata": {},
   "outputs": [
    {
     "name": "stdout",
     "output_type": "stream",
     "text": [
      "\n",
      "* \n",
      "* * \n",
      "* * * \n",
      "* * * * \n"
     ]
    }
   ],
   "source": [
    "#19. Develop a program that prints the pattern of right-angled triangles using a `for` loop. Use ‘*’ to draw the pattern\n",
    "n=int(input(\"Enter the number of row \"))\n",
    "for i in range(n):\n",
    "    for j in range(i):\n",
    "        print(\"*\",end=\" \")\n",
    "    print()    "
   ]
  },
  {
   "cell_type": "code",
   "execution_count": 46,
   "metadata": {},
   "outputs": [
    {
     "name": "stdout",
     "output_type": "stream",
     "text": [
      "The greatest common divisor of 10 and 15 is 5\n"
     ]
    }
   ],
   "source": [
    "#20. Write a program to find the greatest common divisor (GCD) of two numbers using a `for` loop.\n",
    "def gcd(x, y):\n",
    "    for i in range(1, min(x, y) + 1):\n",
    "        if x % i == 0 and y % i == 0:\n",
    "            gcd = i\n",
    "    return gcd\n",
    "\n",
    "\n",
    "x = 10\n",
    "y = 15\n",
    "\n",
    "print(\"The greatest common divisor of {} and {} is {}\".format(x, y, gcd(x, y)))\n"
   ]
  },
  {
   "cell_type": "code",
   "execution_count": 62,
   "metadata": {},
   "outputs": [
    {
     "ename": "TypeError",
     "evalue": "'int' object is not callable",
     "output_type": "error",
     "traceback": [
      "\u001b[1;31m---------------------------------------------------------------------------\u001b[0m",
      "\u001b[1;31mTypeError\u001b[0m                                 Traceback (most recent call last)",
      "Cell \u001b[1;32mIn[62], line 6\u001b[0m\n\u001b[0;32m      3\u001b[0m     \u001b[39mreturn\u001b[39;00m [\u001b[39msum\u001b[39m(\u001b[39mint\u001b[39m(digit) \u001b[39mfor\u001b[39;00m digit \u001b[39min\u001b[39;00m \u001b[39mstr\u001b[39m(number)) \u001b[39mfor\u001b[39;00m number \u001b[39min\u001b[39;00m numbers]\n\u001b[0;32m      5\u001b[0m numbers \u001b[39m=\u001b[39m [\u001b[39m123\u001b[39m, \u001b[39m456\u001b[39m, \u001b[39m789\u001b[39m]\n\u001b[1;32m----> 6\u001b[0m result \u001b[39m=\u001b[39m sum_digits(numbers)\n\u001b[0;32m      7\u001b[0m \u001b[39mprint\u001b[39m(result)\n",
      "Cell \u001b[1;32mIn[62], line 3\u001b[0m, in \u001b[0;36msum_digits\u001b[1;34m(numbers)\u001b[0m\n\u001b[0;32m      2\u001b[0m \u001b[39mdef\u001b[39;00m \u001b[39msum_digits\u001b[39m(numbers):\n\u001b[1;32m----> 3\u001b[0m     \u001b[39mreturn\u001b[39;00m [\u001b[39msum\u001b[39;49m(\u001b[39mint\u001b[39;49m(digit) \u001b[39mfor\u001b[39;49;00m digit \u001b[39min\u001b[39;49;00m \u001b[39mstr\u001b[39;49m(number)) \u001b[39mfor\u001b[39;49;00m number \u001b[39min\u001b[39;49;00m numbers]\n",
      "Cell \u001b[1;32mIn[62], line 3\u001b[0m, in \u001b[0;36m<listcomp>\u001b[1;34m(.0)\u001b[0m\n\u001b[0;32m      2\u001b[0m \u001b[39mdef\u001b[39;00m \u001b[39msum_digits\u001b[39m(numbers):\n\u001b[1;32m----> 3\u001b[0m     \u001b[39mreturn\u001b[39;00m [\u001b[39msum\u001b[39;49m(\u001b[39mint\u001b[39;49m(digit) \u001b[39mfor\u001b[39;49;00m digit \u001b[39min\u001b[39;49;00m \u001b[39mstr\u001b[39;49m(number)) \u001b[39mfor\u001b[39;00m number \u001b[39min\u001b[39;00m numbers]\n",
      "\u001b[1;31mTypeError\u001b[0m: 'int' object is not callable"
     ]
    }
   ],
   "source": [
    "#21. Create a program that calculates the sum of the digits of numbers in a list using a list comprehension.\n",
    "def sum_digits(numbers):\n",
    "    return [sum(int(digit) for digit in str(number)) for number in numbers]\n",
    "\n",
    "numbers = [123, 456, 789]\n",
    "result = sum_digits(numbers)\n",
    "print(result)\n",
    "\n",
    "\n",
    "\n",
    "\n"
   ]
  },
  {
   "cell_type": "code",
   "execution_count": null,
   "metadata": {},
   "outputs": [],
   "source": []
  },
  {
   "cell_type": "code",
   "execution_count": null,
   "metadata": {},
   "outputs": [],
   "source": []
  },
  {
   "cell_type": "code",
   "execution_count": null,
   "metadata": {},
   "outputs": [],
   "source": []
  },
  {
   "cell_type": "code",
   "execution_count": null,
   "metadata": {},
   "outputs": [],
   "source": []
  },
  {
   "cell_type": "code",
   "execution_count": null,
   "metadata": {},
   "outputs": [],
   "source": []
  },
  {
   "cell_type": "code",
   "execution_count": null,
   "metadata": {},
   "outputs": [],
   "source": []
  },
  {
   "cell_type": "code",
   "execution_count": null,
   "metadata": {},
   "outputs": [],
   "source": []
  },
  {
   "cell_type": "code",
   "execution_count": null,
   "metadata": {},
   "outputs": [],
   "source": []
  },
  {
   "cell_type": "code",
   "execution_count": null,
   "metadata": {},
   "outputs": [],
   "source": []
  },
  {
   "cell_type": "code",
   "execution_count": null,
   "metadata": {},
   "outputs": [],
   "source": []
  }
 ],
 "metadata": {
  "kernelspec": {
   "display_name": "Python 3",
   "language": "python",
   "name": "python3"
  },
  "language_info": {
   "codemirror_mode": {
    "name": "ipython",
    "version": 3
   },
   "file_extension": ".py",
   "mimetype": "text/x-python",
   "name": "python",
   "nbconvert_exporter": "python",
   "pygments_lexer": "ipython3",
   "version": "3.11.5"
  },
  "orig_nbformat": 4
 },
 "nbformat": 4,
 "nbformat_minor": 2
}
