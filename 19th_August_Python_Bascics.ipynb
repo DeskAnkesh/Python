{
 "cells": [
  {
   "cell_type": "code",
   "execution_count": 2,
   "id": "27606c44-5225-4e70-9d6a-967cb211f9c5",
   "metadata": {},
   "outputs": [],
   "source": [
    "\"\"\"\n",
    "1. Declare two variables, `x` and `y`, and assign them integer values.\n",
    "Swap the valu\n",
    "\n",
    "es of these variables without using any temporary\n",
    "variable.\n",
    "\"\"\"\n",
    "x= int(input(\"enter first number: \"))\n",
    "\n",
    "y= int(input(\"enter first number: \"))\n",
    "\n",
    "def swap_numbers(a,b):\n",
    "    a=a+b; #a=30 (10+20)    \n",
    "    b=a-b; #b=10 (30-20)    \n",
    "    a=a-b; #a=20 (30-10) \n",
    "    print(a)\n",
    "    print(b)\n",
    "    \n",
    "swap_numbers(10,20)\n"
   ]
  },
  {
   "cell_type": "code",
   "execution_count": 2,
   "id": "d4bf4399-b3f2-4fdc-8c88-88cca7c97731",
   "metadata": {},
   "outputs": [
    {
     "name": "stdout",
     "output_type": "stream",
     "text": [
      "enter length of rectangle:  10\n",
      "enter width of  rectangle:  20\n"
     ]
    },
    {
     "name": "stdout",
     "output_type": "stream",
     "text": [
      "200\n"
     ]
    }
   ],
   "source": [
    "\"\"\"\n",
    "Create a program that calculates the area of a rectangle. Take the\n",
    "length and width as inputs from the user and store them in variables.\n",
    "Calculate and display the area.\n",
    "\"\"\"\n",
    "length= int(input(\"enter length of rectangle: \"))\n",
    "width= int(input(\"enter width of  rectangle: \"))\n",
    "def calculate_area(length,width):\n",
    "    return length*width\n",
    "print(calculate_area(length,width))"
   ]
  },
  {
   "cell_type": "code",
   "execution_count": 3,
   "id": "b5ab9e69-987d-4218-9027-dcf06d05d129",
   "metadata": {},
   "outputs": [
    {
     "name": "stdout",
     "output_type": "stream",
     "text": [
      "Enter temperature in Celsius:  15.2\n"
     ]
    },
    {
     "name": "stdout",
     "output_type": "stream",
     "text": [
      "15.2 degrees Celsius is equal to 59.36 degrees Fahrenheit\n"
     ]
    }
   ],
   "source": [
    "\"\"\"\n",
    "Write a Python program that converts temperature from Celsius to\n",
    "Fahrenheit. Take the temperature in Celsius as input, store it in a\n",
    "variable, convert it to Fahrenheit, and display the result.\n",
    "\"\"\"\n",
    "celsius = float(input(\"Enter temperature in Celsius: \"))\n",
    "# Convert Celsius to Fahrenheit\n",
    "fahrenheit = (celsius * 9/5) + 32\n",
    "\n",
    "# Display the result\n",
    "print(f\"{celsius} degrees Celsius is equal to {fahrenheit} degrees Fahrenheit\")"
   ]
  },
  {
   "cell_type": "code",
   "execution_count": 4,
   "id": "5ea77495-58c8-4a0d-a6ea-4a25243ec666",
   "metadata": {},
   "outputs": [
    {
     "name": "stdout",
     "output_type": "stream",
     "text": [
      "Enter any String value:  hello world\n"
     ]
    },
    {
     "name": "stdout",
     "output_type": "stream",
     "text": [
      "11\n"
     ]
    }
   ],
   "source": [
    "\"\"\"\n",
    "Write a Python program that takes a string as input and prints the\n",
    "length of the string.\n",
    "\"\"\"\n",
    "string1=input(\"Enter any String value: \")\n",
    "def lenth_of_string(s):\n",
    "    print(len(s))\n",
    "lenth_of_string(string1)"
   ]
  },
  {
   "cell_type": "code",
   "execution_count": 5,
   "id": "44c5aa66-7506-4584-a4a8-91414682e363",
   "metadata": {},
   "outputs": [
    {
     "name": "stdout",
     "output_type": "stream",
     "text": [
      "Enter a sentence:  Hello my name us ankkesh\n"
     ]
    },
    {
     "name": "stdout",
     "output_type": "stream",
     "text": [
      "Number of vowels in the sentence: 7\n"
     ]
    }
   ],
   "source": [
    "\"\"\"\n",
    "Create a program that takes a sentence from the user and counts the\n",
    "number of vowels (a, e, i, o, u) in the string.\n",
    "\"\"\"\n",
    "sentence = input(\"Enter a sentence: \")\n",
    "\n",
    "# Convert the sentence to lowercase to handle both uppercase and lowercase vowels\n",
    "sentence = sentence.lower()\n",
    "\n",
    "# Initialize a variable to store the vowel count\n",
    "vowel_count = 0\n",
    "\n",
    "# Define the list of vowels\n",
    "vowels = ['a', 'e', 'i', 'o', 'u']\n",
    "\n",
    "# Count the number of vowels in the sentence\n",
    "for char in sentence:\n",
    "    if char in vowels:\n",
    "        vowel_count += 1\n",
    "\n",
    "# Display the vowel count\n",
    "print(f\"Number of vowels in the sentence: {vowel_count}\")\n"
   ]
  },
  {
   "cell_type": "code",
   "execution_count": 6,
   "id": "0901ef54-783d-41fa-8082-0846e8e5af87",
   "metadata": {},
   "outputs": [
    {
     "name": "stdout",
     "output_type": "stream",
     "text": [
      "Enter a string:  Hello world\n"
     ]
    },
    {
     "name": "stdout",
     "output_type": "stream",
     "text": [
      "Reversed string: dlrow olleH\n"
     ]
    }
   ],
   "source": [
    "\"\"\"\n",
    "4. Write a program that takes a string as input and checks if it is a\n",
    "palindrome (reads the same forwards and backwards).\n",
    "\"\"\"\n",
    "# Input a string from the user\n",
    "original_string = input(\"Enter a string: \")\n",
    "\n",
    "# Reverse the string using string slicing\n",
    "reversed_string = original_string[::-1]\n",
    "\n",
    "# Display the reversed string\n",
    "print(\"Reversed string:\", reversed_string)"
   ]
  },
  {
   "cell_type": "code",
   "execution_count": 8,
   "id": "4de96923-6781-4893-b7b2-8e14b07853c5",
   "metadata": {},
   "outputs": [
    {
     "name": "stdout",
     "output_type": "stream",
     "text": [
      "Enter a string:  wow\n"
     ]
    },
    {
     "name": "stdout",
     "output_type": "stream",
     "text": [
      "The input string is a palindrome.\n"
     ]
    }
   ],
   "source": [
    "\"\"\"\n",
    "Write a program that takes a string as input and checks if it is a\n",
    "palindrome (reads the same forwards and backwards).\n",
    "\"\"\"\n",
    "# Input a string from the user\n",
    "input_string = input(\"Enter a string: \")\n",
    "\n",
    "# Remove spaces and convert the string to lowercase for case-insensitive comparison\n",
    "cleaned_string = input_string.replace(\" \", \"\").lower()\n",
    "\n",
    "# Check if the cleaned string is equal to its reverse\n",
    "if cleaned_string == cleaned_string[::-1]:\n",
    "    print(\"The input string is a palindrome.\")\n",
    "else:\n",
    "    print(\"The input string is not a palindrome.\")"
   ]
  },
  {
   "cell_type": "code",
   "execution_count": 11,
   "id": "f8b9b832-ddd0-4e1f-a750-0388503dad37",
   "metadata": {},
   "outputs": [
    {
     "name": "stdout",
     "output_type": "stream",
     "text": [
      "Enter a string:  Hello world\n"
     ]
    },
    {
     "name": "stdout",
     "output_type": "stream",
     "text": [
      "cleaned string Helloworld\n"
     ]
    }
   ],
   "source": [
    "\"\"\"\n",
    "Create a program that takes a string as input and removes all the\n",
    "spaces from it. Print the modified string without spaces.\"\"\"\n",
    "# Input a string from the user\n",
    "input_string = input(\"Enter a string: \")\n",
    "# Remove spaces\n",
    "cleaned_string = input_string.replace(\" \", \"\")\n",
    "print(f\"cleaned string {cleaned_string}\")\n"
   ]
  },
  {
   "cell_type": "code",
   "execution_count": null,
   "id": "7837b68d-43e4-4195-b445-22410246ef8e",
   "metadata": {},
   "outputs": [],
   "source": []
  }
 ],
 "metadata": {
  "kernelspec": {
   "display_name": "Python 3 (ipykernel)",
   "language": "python",
   "name": "python3"
  },
  "language_info": {
   "codemirror_mode": {
    "name": "ipython",
    "version": 3
   },
   "file_extension": ".py",
   "mimetype": "text/x-python",
   "name": "python",
   "nbconvert_exporter": "python",
   "pygments_lexer": "ipython3",
   "version": "3.11.5"
  }
 },
 "nbformat": 4,
 "nbformat_minor": 5
}
