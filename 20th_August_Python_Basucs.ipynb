{
 "cells": [
  {
   "cell_type": "code",
   "execution_count": 7,
   "metadata": {},
   "outputs": [
    {
     "name": "stdout",
     "output_type": "stream",
     "text": [
      "era woh uoy era woh olleH\n"
     ]
    }
   ],
   "source": [
    "\"\"\"\n",
    "1. Write a program to reverse a string.\n",
    "\"\"\"\n",
    "string=input(\"Enter the String you want to reverese: \")\n",
    "string=string[::-1]\n",
    "print(string)"
   ]
  },
  {
   "cell_type": "code",
   "execution_count": 8,
   "metadata": {},
   "outputs": [
    {
     "name": "stdout",
     "output_type": "stream",
     "text": [
      "The given String  are is not a Palindrome\n"
     ]
    }
   ],
   "source": [
    "\"\"\"\n",
    "2. Check if a string is a palindrome.\n",
    "\"\"\"\n",
    "string=input(\"Enter the String you want to check pallindrome: \").lower()\n",
    "string_reversed=string[::-1]\n",
    "if string_reversed == string:\n",
    "  print(f\"The given String  {string} is a Palindrome\" )\n",
    "else:\n",
    "  print(f\"The given String  {string} is not a Palindrome\" )"
   ]
  },
  {
   "cell_type": "code",
   "execution_count": 9,
   "metadata": {},
   "outputs": [
    {
     "name": "stdout",
     "output_type": "stream",
     "text": [
      "upper case of the given string is : \n"
     ]
    }
   ],
   "source": [
    "\"\"\"\n",
    "3.Convert a string to uppercase.\n",
    "\"\"\"\n",
    "string=input(\"Enter the String you want to convert to  uppercase: \")\n",
    "\n",
    "print(\"upper case of the given string is : \" +string.upper())"
   ]
  },
  {
   "cell_type": "code",
   "execution_count": 10,
   "metadata": {},
   "outputs": [
    {
     "name": "stdout",
     "output_type": "stream",
     "text": [
      "lower case of the given string is : \n"
     ]
    }
   ],
   "source": [
    "\"\"\"\n",
    "4. Convert a string to lowercase.\n",
    "\"\"\"\n",
    "string=input(\"Enter the String you want to convert to  uppercase: \")\n",
    "\n",
    "print(\"lower case of the given string is : \" +string.lower())"
   ]
  },
  {
   "cell_type": "code",
   "execution_count": 11,
   "metadata": {},
   "outputs": [
    {
     "name": "stdout",
     "output_type": "stream",
     "text": [
      "Number of vowel in the String  is 0\n"
     ]
    }
   ],
   "source": [
    "\"\"\"\n",
    "5. Count the number of vowels in a string.\n",
    "\"\"\"\n",
    "string=input(\"Enter the String you want to count  to  vowel: \").lower()\n",
    "\n",
    "count =0\n",
    "vowels=['a','e','i','o','u']\n",
    "for v in string:\n",
    "  if v in vowels:\n",
    "    count+=1\n",
    "\n",
    "print(f\"Number of vowel in the String {string} is {count}\")"
   ]
  },
  {
   "cell_type": "code",
   "execution_count": 12,
   "metadata": {},
   "outputs": [
    {
     "name": "stdout",
     "output_type": "stream",
     "text": [
      "Number of consonent in the String  is 0\n"
     ]
    }
   ],
   "source": [
    "\"\"\"\n",
    "6. Count the number of consonants in a string.\n",
    "\"\"\"\n",
    "string=input(\"Enter the String you want to count  to  consonant: \").lower()\n",
    "\n",
    "count =0\n",
    "vowels=['a','e','i','o','u']\n",
    "for v in string:\n",
    "  if v not in vowels:\n",
    "    count+=1\n",
    "  \n",
    "  \n",
    "print(f\"Number of consonent in the String {string} is {count}\")\n"
   ]
  },
  {
   "cell_type": "code",
   "execution_count": 13,
   "metadata": {},
   "outputs": [
    {
     "name": "stdout",
     "output_type": "stream",
     "text": [
      "String without white spaces is \n"
     ]
    }
   ],
   "source": [
    "\"\"\"\n",
    "7. Remove all whitespaces from a string.\n",
    "\"\"\"\n",
    "# Input a string from the user\n",
    "input_string = input(\"Enter a string: \")\n",
    "\n",
    "# Remove spaces and convert the string to lowercase for case-insensitive comparison\n",
    "cleaned_string = input_string.replace(\" \", \"\")\n",
    "print(f\"String without white spaces is {cleaned_string}\")"
   ]
  },
  {
   "cell_type": "code",
   "execution_count": 14,
   "metadata": {},
   "outputs": [
    {
     "name": "stdout",
     "output_type": "stream",
     "text": [
      "The lenth of the string is 0\n"
     ]
    }
   ],
   "source": [
    "\"\"\"\n",
    "8 Find the length of a string without using the `len()` function.\n",
    "\"\"\"\n",
    "# Input a string from the user\n",
    "input_string = input(\"Enter a string: \")\n",
    "count =0\n",
    "for character in input_string:\n",
    "  count+=1\n",
    "print(f\"The lenth of the string is {count}\")"
   ]
  },
  {
   "cell_type": "code",
   "execution_count": 15,
   "metadata": {},
   "outputs": [
    {
     "name": "stdout",
     "output_type": "stream",
     "text": [
      "the word  is there is the \n"
     ]
    }
   ],
   "source": [
    "\"\"\"\n",
    "9. Check if a string contains a specific word.\n",
    "\"\"\"\n",
    "# Input a string from the user\n",
    "input_string = input(\"Enter a string: \")\n",
    "specific_word=input(\"Enter the word you are looking: \")\n",
    "if specific_word in input_string:\n",
    "  print(f\"the word {specific_word} is there is the {input_string}\")\n",
    "else:\n",
    "    print(f\"the word {specific_word} is there is not in the {input_string}\")"
   ]
  },
  {
   "cell_type": "code",
   "execution_count": 16,
   "metadata": {},
   "outputs": [
    {
     "name": "stdout",
     "output_type": "stream",
     "text": [
      "Hi\n"
     ]
    }
   ],
   "source": [
    "\"\"\"  \n",
    "10. Replace a word in a string with another word.\n",
    "\"\"\"\n",
    "input_string = input(\"Enter a string: \")\n",
    "old_word=input(\"Enter the word you want to replace: \")\n",
    "new_word=input(\"Enter the word you want to replace with: \")\n",
    "\n",
    "new_string = input_string.replace(old_word, new_word)\n",
    "print(new_string)"
   ]
  },
  {
   "cell_type": "code",
   "execution_count": 20,
   "metadata": {},
   "outputs": [
    {
     "name": "stdout",
     "output_type": "stream",
     "text": [
      "The word 'sample' last appears at index 75.\n"
     ]
    }
   ],
   "source": [
    "\"\"\"\n",
    "11 Find first occurance\n",
    "\n",
    "\"\"\"\n",
    "sentence=input(\"Enter the sentence : \")\n",
    "word=input(\"Enter the word you were looking: \")\n",
    "def find_first_occurrence(word, sentence):\n",
    "    index = sentence.find(word)\n",
    "    return index\n",
    "\n",
    "\n",
    "index = find_first_occurrence(word, sentence)\n",
    "if index != -1:\n",
    "    print(f\"The word '{word}' first appears at index {index}.\")\n",
    "else:\n",
    "    print(f\"The word '{word}' was not found in the sentence.\")\n"
   ]
  },
  {
   "cell_type": "code",
   "execution_count": 18,
   "metadata": {},
   "outputs": [
    {
     "data": {
      "text/plain": [
       "18"
      ]
     },
     "execution_count": 18,
     "metadata": {},
     "output_type": "execute_result"
    }
   ],
   "source": [
    "\"\"\"\n",
    "12 Find Last Occurance\n",
    "\"\"\"\n",
    "sentence=input(\"Enter the Sentence : \")\n",
    "word=input(\"Enter the target word: \")\n",
    "\n",
    "def find_last_occurrence(word, sentence):\n",
    "    index = sentence.rfind(word)\n",
    "    return index\n",
    "\n",
    "\n",
    "index = find_last_occurrence(word, sentence)\n",
    "if index != -1:\n",
    "    print(f\"The word '{word}' last appears at index {index}.\")\n",
    "else:\n",
    "    print(f\"The word '{word}' was not found in the sentence.\")\n"
   ]
  },
  {
   "cell_type": "code",
   "execution_count": 21,
   "metadata": {},
   "outputs": [
    {
     "name": "stdout",
     "output_type": "stream",
     "text": [
      "the splited word fron the setntence is ['Hello', 'how', 'are', 'you', 'doing?']\n"
     ]
    }
   ],
   "source": [
    "\"\"\"\n",
    "13 Split String into words\n",
    "\"\"\"\n",
    "sentence=input(\"Enter the sentence: \")\n",
    "def split_string_into_words(input_string):\n",
    "    words_list = input_string.split()\n",
    "    return words_list\n",
    "print(f\"the splited word fron the setntence is {split_string_into_words(sentence)}\")"
   ]
  },
  {
   "cell_type": "code",
   "execution_count": null,
   "metadata": {},
   "outputs": [],
   "source": []
  },
  {
   "cell_type": "code",
   "execution_count": null,
   "metadata": {},
   "outputs": [],
   "source": []
  }
 ],
 "metadata": {
  "kernelspec": {
   "display_name": "Python 3",
   "language": "python",
   "name": "python3"
  },
  "language_info": {
   "codemirror_mode": {
    "name": "ipython",
    "version": 3
   },
   "file_extension": ".py",
   "mimetype": "text/x-python",
   "name": "python",
   "nbconvert_exporter": "python",
   "pygments_lexer": "ipython3",
   "version": "3.11.5"
  },
  "orig_nbformat": 4
 },
 "nbformat": 4,
 "nbformat_minor": 2
}
