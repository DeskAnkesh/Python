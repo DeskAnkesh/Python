{
 "cells": [
  {
   "cell_type": "code",
   "execution_count": 7,
   "metadata": {},
   "outputs": [
    {
     "name": "stdout",
     "output_type": "stream",
     "text": [
      "era woh uoy era woh olleH\n"
     ]
    }
   ],
   "source": [
    "\"\"\"\n",
    "1. Write a program to reverse a string.\n",
    "\"\"\"\n",
    "string=input(\"Enter the String you want to reverese: \")\n",
    "string=string[::-1]\n",
    "print(string)"
   ]
  },
  {
   "cell_type": "code",
   "execution_count": 8,
   "metadata": {},
   "outputs": [
    {
     "name": "stdout",
     "output_type": "stream",
     "text": [
      "The given String  are is not a Palindrome\n"
     ]
    }
   ],
   "source": [
    "\"\"\"\n",
    "2. Check if a string is a palindrome.\n",
    "\"\"\"\n",
    "string=input(\"Enter the String you want to check pallindrome: \").lower()\n",
    "string_reversed=string[::-1]\n",
    "if string_reversed == string:\n",
    "  print(f\"The given String  {string} is a Palindrome\" )\n",
    "else:\n",
    "  print(f\"The given String  {string} is not a Palindrome\" )"
   ]
  },
  {
   "cell_type": "code",
   "execution_count": 9,
   "metadata": {},
   "outputs": [
    {
     "name": "stdout",
     "output_type": "stream",
     "text": [
      "upper case of the given string is : \n"
     ]
    }
   ],
   "source": [
    "\"\"\"\n",
    "3.Convert a string to uppercase.\n",
    "\"\"\"\n",
    "string=input(\"Enter the String you want to convert to  uppercase: \")\n",
    "\n",
    "print(\"upper case of the given string is : \" +string.upper())"
   ]
  },
  {
   "cell_type": "code",
   "execution_count": 10,
   "metadata": {},
   "outputs": [
    {
     "name": "stdout",
     "output_type": "stream",
     "text": [
      "lower case of the given string is : \n"
     ]
    }
   ],
   "source": [
    "\"\"\"\n",
    "4. Convert a string to lowercase.\n",
    "\"\"\"\n",
    "string=input(\"Enter the String you want to convert to  uppercase: \")\n",
    "\n",
    "print(\"lower case of the given string is : \" +string.lower())"
   ]
  },
  {
   "cell_type": "code",
   "execution_count": 11,
   "metadata": {},
   "outputs": [
    {
     "name": "stdout",
     "output_type": "stream",
     "text": [
      "Number of vowel in the String  is 0\n"
     ]
    }
   ],
   "source": [
    "\"\"\"\n",
    "5. Count the number of vowels in a string.\n",
    "\"\"\"\n",
    "string=input(\"Enter the String you want to count  to  vowel: \").lower()\n",
    "\n",
    "count =0\n",
    "vowels=['a','e','i','o','u']\n",
    "for v in string:\n",
    "  if v in vowels:\n",
    "    count+=1\n",
    "\n",
    "print(f\"Number of vowel in the String {string} is {count}\")"
   ]
  },
  {
   "cell_type": "code",
   "execution_count": 12,
   "metadata": {},
   "outputs": [
    {
     "name": "stdout",
     "output_type": "stream",
     "text": [
      "Number of consonent in the String  is 0\n"
     ]
    }
   ],
   "source": [
    "\"\"\"\n",
    "6. Count the number of consonants in a string.\n",
    "\"\"\"\n",
    "string=input(\"Enter the String you want to count  to  consonant: \").lower()\n",
    "\n",
    "count =0\n",
    "vowels=['a','e','i','o','u']\n",
    "for v in string:\n",
    "  if v not in vowels:\n",
    "    count+=1\n",
    "  \n",
    "  \n",
    "print(f\"Number of consonent in the String {string} is {count}\")\n"
   ]
  },
  {
   "cell_type": "code",
   "execution_count": 13,
   "metadata": {},
   "outputs": [
    {
     "name": "stdout",
     "output_type": "stream",
     "text": [
      "String without white spaces is \n"
     ]
    }
   ],
   "source": [
    "\"\"\"\n",
    "7. Remove all whitespaces from a string.\n",
    "\"\"\"\n",
    "# Input a string from the user\n",
    "input_string = input(\"Enter a string: \")\n",
    "\n",
    "# Remove spaces and convert the string to lowercase for case-insensitive comparison\n",
    "cleaned_string = input_string.replace(\" \", \"\")\n",
    "print(f\"String without white spaces is {cleaned_string}\")"
   ]
  },
  {
   "cell_type": "code",
   "execution_count": 14,
   "metadata": {},
   "outputs": [
    {
     "name": "stdout",
     "output_type": "stream",
     "text": [
      "The lenth of the string is 0\n"
     ]
    }
   ],
   "source": [
    "\"\"\"\n",
    "8 Find the length of a string without using the `len()` function.\n",
    "\"\"\"\n",
    "# Input a string from the user\n",
    "input_string = input(\"Enter a string: \")\n",
    "count =0\n",
    "for character in input_string:\n",
    "  count+=1\n",
    "print(f\"The lenth of the string is {count}\")"
   ]
  },
  {
   "cell_type": "code",
   "execution_count": 15,
   "metadata": {},
   "outputs": [
    {
     "name": "stdout",
     "output_type": "stream",
     "text": [
      "the word  is there is the \n"
     ]
    }
   ],
   "source": [
    "\"\"\"\n",
    "9. Check if a string contains a specific word.\n",
    "\"\"\"\n",
    "# Input a string from the user\n",
    "input_string = input(\"Enter a string: \")\n",
    "specific_word=input(\"Enter the word you are looking: \")\n",
    "if specific_word in input_string:\n",
    "  print(f\"the word {specific_word} is there is the {input_string}\")\n",
    "else:\n",
    "    print(f\"the word {specific_word} is there is not in the {input_string}\")"
   ]
  },
  {
   "cell_type": "code",
   "execution_count": 16,
   "metadata": {},
   "outputs": [
    {
     "name": "stdout",
     "output_type": "stream",
     "text": [
      "Hi\n"
     ]
    }
   ],
   "source": [
    "\"\"\"  \n",
    "10. Replace a word in a string with another word.\n",
    "\"\"\"\n",
    "input_string = input(\"Enter a string: \")\n",
    "old_word=input(\"Enter the word you want to replace: \")\n",
    "new_word=input(\"Enter the word you want to replace with: \")\n",
    "\n",
    "new_string = input_string.replace(old_word, new_word)\n",
    "print(new_string)"
   ]
  },
  {
   "cell_type": "code",
   "execution_count": 20,
   "metadata": {},
   "outputs": [
    {
     "name": "stdout",
     "output_type": "stream",
     "text": [
      "The word 'sample' last appears at index 75.\n"
     ]
    }
   ],
   "source": [
    "\"\"\"\n",
    "11 Find first occurance\n",
    "\n",
    "\"\"\"\n",
    "sentence=input(\"Enter the sentence : \")\n",
    "word=input(\"Enter the word you were looking: \")\n",
    "def find_first_occurrence(word, sentence):\n",
    "    index = sentence.find(word)\n",
    "    return index\n",
    "\n",
    "\n",
    "index = find_first_occurrence(word, sentence)\n",
    "if index != -1:\n",
    "    print(f\"The word '{word}' first appears at index {index}.\")\n",
    "else:\n",
    "    print(f\"The word '{word}' was not found in the sentence.\")\n"
   ]
  },
  {
   "cell_type": "code",
   "execution_count": 18,
   "metadata": {},
   "outputs": [
    {
     "data": {
      "text/plain": [
       "18"
      ]
     },
     "execution_count": 18,
     "metadata": {},
     "output_type": "execute_result"
    }
   ],
   "source": [
    "\"\"\"\n",
    "12 Find Last Occurance\n",
    "\"\"\"\n",
    "sentence=input(\"Enter the Sentence : \")\n",
    "word=input(\"Enter the target word: \")\n",
    "\n",
    "def find_last_occurrence(word, sentence):\n",
    "    index = sentence.rfind(word)\n",
    "    return index\n",
    "\n",
    "\n",
    "index = find_last_occurrence(word, sentence)\n",
    "if index != -1:\n",
    "    print(f\"The word '{word}' last appears at index {index}.\")\n",
    "else:\n",
    "    print(f\"The word '{word}' was not found in the sentence.\")\n"
   ]
  },
  {
   "cell_type": "code",
   "execution_count": 21,
   "metadata": {},
   "outputs": [
    {
     "name": "stdout",
     "output_type": "stream",
     "text": [
      "the splited word fron the setntence is ['Hello', 'how', 'are', 'you', 'doing?']\n"
     ]
    }
   ],
   "source": [
    "\"\"\"\n",
    "13 Split String into words\n",
    "\"\"\"\n",
    "sentence=input(\"Enter the sentence: \")\n",
    "def split_string_into_words(input_string):\n",
    "    words_list = input_string.split()\n",
    "    return words_list\n",
    "print(f\"the splited word fron the setntence is {split_string_into_words(sentence)}\")"
   ]
  },
  {
   "cell_type": "code",
   "execution_count": 1,
   "metadata": {},
   "outputs": [
    {
     "name": "stdout",
     "output_type": "stream",
     "text": [
      "The word 'things' appears 1 times in the text.\n"
     ]
    }
   ],
   "source": [
    "\"\"\"\n",
    "14 Count the occurance of the word\n",
    "\"\"\"\n",
    "def count_word_occurrences(text, word):\n",
    "    words = text.lower().split()  # Split the text into words and convert to lowercase\n",
    "    word_count = words.count(word.lower())  # Count the occurrences of the word\n",
    "    \n",
    "    return word_count\n",
    "\n",
    "input_text = input(\"Enter the String\")\n",
    "target_word = input(\"Enter the target word\")\n",
    "result = count_word_occurrences(input_text, target_word)\n",
    "print(f\"The word '{target_word}' appears {result} times in the text.\")\n",
    "\n"
   ]
  },
  {
   "cell_type": "code",
   "execution_count": 3,
   "metadata": {},
   "outputs": [
    {
     "name": "stdout",
     "output_type": "stream",
     "text": [
      "['This', 'is', 'a', 'list']\n",
      "Joined string: This is a list\n"
     ]
    }
   ],
   "source": [
    "\"\"\"\n",
    "15. Join a list of words into a string.\n",
    "\"\"\"\n",
    "word_list = input(\"Enter a list of words, separated by spaces: \").split()\n",
    "print(word_list)\n",
    "separator = \" \"  # This is the string that will be used to separate the words\n",
    "\n",
    "result_string = separator.join(word_list)\n",
    "print(\"Joined string:\", result_string)\n"
   ]
  },
  {
   "cell_type": "code",
   "execution_count": 4,
   "metadata": {},
   "outputs": [
    {
     "name": "stdout",
     "output_type": "stream",
     "text": [
      "Converted string: Hello_how_are_you_doing?\n"
     ]
    }
   ],
   "source": [
    "\"\"\"\n",
    "16. Convert a string where words are separated by spaces to one where words\n",
    "are separated by underscores.\n",
    "\"\"\"\n",
    "input_string = input(\"Enter a string with words separated by spaces: \")\n",
    "output_string = input_string.replace(\" \", \"_\")\n",
    "\n",
    "print(\"Converted string:\", output_string)\n",
    "\n"
   ]
  },
  {
   "cell_type": "code",
   "execution_count": 5,
   "metadata": {},
   "outputs": [
    {
     "name": "stdout",
     "output_type": "stream",
     "text": [
      "The string starts with 'Hello'.\n"
     ]
    }
   ],
   "source": [
    "\"\"\"\n",
    "17. Check if a string starts with a specific word or phrase.\n",
    "\"\"\"\n",
    "input_string = input(\"Enter a string: \")\n",
    "target_word = input(\"Enter the Target word\")\n",
    "\n",
    "if input_string.startswith(target_word):\n",
    "    print(f\"The string starts with '{target_word}'.\")\n",
    "else:\n",
    "    print(f\"The string does not start with '{target_word}'.\")\n"
   ]
  },
  {
   "cell_type": "code",
   "execution_count": 6,
   "metadata": {},
   "outputs": [
    {
     "name": "stdout",
     "output_type": "stream",
     "text": [
      "The string does not end with 'Hello how'.\n"
     ]
    }
   ],
   "source": [
    "\"\"\"\n",
    "18. Check if a string ends with a specific word or phrase\n",
    "\"\"\"\n",
    "input_string = input(\"Enter a string: \")\n",
    "target_word =input(\"Enter the target word \")  # The word or phrase you want to check for\n",
    "\n",
    "if input_string.endswith(target_word):\n",
    "    print(f\"The string ends with '{target_word}'.\")\n",
    "else:\n",
    "    print(f\"The string does not end with '{target_word}'.\")\n"
   ]
  },
  {
   "cell_type": "code",
   "execution_count": 7,
   "metadata": {},
   "outputs": [
    {
     "name": "stdout",
     "output_type": "stream",
     "text": [
      "Title case: Hello World How Are You Doing?\n"
     ]
    }
   ],
   "source": [
    "\"\"\"\n",
    "19. Convert a string to title case (e.g., \"hello world\" to \"Hello World\").\n",
    "\"\"\"\n",
    "input_string = input(\"Enter a string: \")\n",
    "title_case_string = input_string.title()\n",
    "\n",
    "print(\"Title case:\", title_case_string)\n"
   ]
  },
  {
   "cell_type": "code",
   "execution_count": 8,
   "metadata": {},
   "outputs": [
    {
     "name": "stdout",
     "output_type": "stream",
     "text": [
      "Longest word: missicccipii?\n"
     ]
    }
   ],
   "source": [
    "\"\"\"\n",
    "20. Find the longest word in a string.\n",
    "\"\"\"\n",
    "def find_longest_word(input_string):\n",
    "    words = input_string.split()  # Split the string into words\n",
    "    longest_word = max(words, key=len)  # Find the word with the maximum length\n",
    "    return longest_word\n",
    "\n",
    "input_string = input(\"Enter a string: \")\n",
    "longest_word = find_longest_word(input_string)\n",
    "print(\"Longest word:\", longest_word)\n"
   ]
  },
  {
   "cell_type": "code",
   "execution_count": 9,
   "metadata": {},
   "outputs": [
    {
     "name": "stdout",
     "output_type": "stream",
     "text": [
      "Shortest word: is\n"
     ]
    }
   ],
   "source": [
    "#21. Find the shortest word in a string.\n",
    "def find_shortest_word(input_string):\n",
    "    words = input_string.split()  # Split the string into words\n",
    "    shortest_word = min(words, key=len)  # Find the word with the minimum length\n",
    "    return shortest_word\n",
    "\n",
    "input_string = input(\"Enter a string: \")\n",
    "shortest_word = find_shortest_word(input_string)\n",
    "print(\"Shortest word:\", shortest_word)\n"
   ]
  },
  {
   "cell_type": "code",
   "execution_count": 10,
   "metadata": {},
   "outputs": [
    {
     "name": "stdout",
     "output_type": "stream",
     "text": [
      "Reversed string: entence reversed is This\n"
     ]
    }
   ],
   "source": [
    "#22. Reverse the order of words in a string.\n",
    "def reverse_words(input_string):\n",
    "    words = input_string.split()  # Split the string into words\n",
    "    reversed_words = \" \".join(reversed(words))  # Join the reversed words with spaces\n",
    "    return reversed_words\n",
    "\n",
    "input_string = input(\"Enter a string: \")\n",
    "reversed_string = reverse_words(input_string)\n",
    "print(\"Reversed string:\", reversed_string)\n"
   ]
  },
  {
   "cell_type": "code",
   "execution_count": 11,
   "metadata": {},
   "outputs": [
    {
     "name": "stdout",
     "output_type": "stream",
     "text": [
      "The string is not alphanumeric.\n"
     ]
    }
   ],
   "source": [
    "#23. Check if a string is alphanumeric.\n",
    "input_string = input(\"Enter a string: \")\n",
    "\n",
    "if input_string.isalnum():\n",
    "    print(\"The string is alphanumeric.\")\n",
    "else:\n",
    "    print(\"The string is not alphanumeric.\")\n"
   ]
  },
  {
   "cell_type": "code",
   "execution_count": 12,
   "metadata": {},
   "outputs": [
    {
     "name": "stdout",
     "output_type": "stream",
     "text": [
      "Extracted digits: 114240\n"
     ]
    }
   ],
   "source": [
    "#24. Extract all digits from a string.\n",
    "def extract_digits(input_string):\n",
    "    digits = \"\"\n",
    "    for char in input_string:\n",
    "        if char.isdigit():\n",
    "            digits += char\n",
    "    return digits\n",
    "\n",
    "input_string = input(\"Enter a string: \")\n",
    "extracted_digits = extract_digits(input_string)\n",
    "print(\"Extracted digits:\", extracted_digits)\n"
   ]
  },
  {
   "cell_type": "code",
   "execution_count": 13,
   "metadata": {},
   "outputs": [
    {
     "name": "stdout",
     "output_type": "stream",
     "text": [
      "Extracted letters: Helloworld\n"
     ]
    }
   ],
   "source": [
    "#25. Extract all alphabets from a string.\n",
    "def extract_letters(input_string):\n",
    "    letters = \"\"\n",
    "    for char in input_string:\n",
    "        if char.isalpha():\n",
    "            letters += char\n",
    "    return letters\n",
    "\n",
    "input_string = input(\"Enter a string: \")\n",
    "extracted_letters = extract_letters(input_string)\n",
    "print(\"Extracted letters:\", extracted_letters)\n"
   ]
  },
  {
   "cell_type": "code",
   "execution_count": 14,
   "metadata": {},
   "outputs": [
    {
     "name": "stdout",
     "output_type": "stream",
     "text": [
      "Number of uppercase letters: 3\n"
     ]
    }
   ],
   "source": [
    "#26. Count the number of uppercase letters in a string.\n",
    "def count_uppercase_letters(input_string):\n",
    "    count = 0\n",
    "    for char in input_string:\n",
    "        if char.isupper():\n",
    "            count += 1\n",
    "    return count\n",
    "\n",
    "input_string = input(\"Enter a string: \")\n",
    "uppercase_count = count_uppercase_letters(input_string)\n",
    "print(\"Number of uppercase letters:\", uppercase_count)\n"
   ]
  },
  {
   "cell_type": "code",
   "execution_count": 15,
   "metadata": {},
   "outputs": [
    {
     "name": "stdout",
     "output_type": "stream",
     "text": [
      "Number of lowercase letters: 40\n"
     ]
    }
   ],
   "source": [
    "#27. Count the number of lowercase letters in a string.\n",
    "def count_lowercase_letters(input_string):\n",
    "    count = 0\n",
    "    for char in input_string:\n",
    "        if char.islower():\n",
    "            count += 1\n",
    "    return count\n",
    "\n",
    "input_string = input(\"Enter a string: \")\n",
    "lowercase_count = count_lowercase_letters(input_string)\n",
    "print(\"Number of lowercase letters:\", lowercase_count)\n"
   ]
  },
  {
   "cell_type": "code",
   "execution_count": 16,
   "metadata": {},
   "outputs": [
    {
     "name": "stdout",
     "output_type": "stream",
     "text": [
      "Swapped case string: 28. sWAP THE CASE OF EACH CHARACTER IN A STRING.\n"
     ]
    }
   ],
   "source": [
    "#28. Swap the case of each character in a string.\n",
    "input_string = input(\"Enter a string: \")\n",
    "swapped_string = input_string.swapcase()\n",
    "print(\"Swapped case string:\", swapped_string)\n"
   ]
  },
  {
   "cell_type": "code",
   "execution_count": 18,
   "metadata": {},
   "outputs": [
    {
     "name": "stdout",
     "output_type": "stream",
     "text": [
      "Modified string: 29. Remove a specific  from a string.\n"
     ]
    }
   ],
   "source": [
    "#29. Remove a specific word from a string\n",
    "input_string = input(\"Enter a string: \")\n",
    "word_to_remove = input(\"Enter the word to remove: \")\n",
    "\n",
    "modified_string = input_string.replace(word_to_remove, \"\")\n",
    "print(\"Modified string:\", modified_string)\n"
   ]
  },
  {
   "cell_type": "code",
   "execution_count": 21,
   "metadata": {},
   "outputs": [
    {
     "name": "stdout",
     "output_type": "stream",
     "text": [
      "Valid email address.ankesh@gmail.com"
     ]
    }
   ],
   "source": [
    "#30. Check if a string is a valid email address.\n",
    "import re\n",
    "\n",
    "def is_valid_email(email):\n",
    "    pattern = r'^[\\w\\.-]+@[\\w\\.-]+\\.\\w+$'\n",
    "    return re.match(pattern, email) is not None\n",
    "\n",
    "input_email = input(\"Enter an email address: \")\n",
    "if is_valid_email(input_email):\n",
    "    print(\"Valid email address. \",end=input_email)\n",
    "else:\n",
    "    print(\"Invalid email address. \",end=input_email)\n"
   ]
  },
  {
   "cell_type": "code",
   "execution_count": 22,
   "metadata": {},
   "outputs": [
    {
     "name": "stdout",
     "output_type": "stream",
     "text": [
      "Extracted username: ankesh\n"
     ]
    }
   ],
   "source": [
    "#31. Extract the username from an email address string.\n",
    "def extract_username(email):\n",
    "    username = email.split('@')[0]\n",
    "    return username\n",
    "\n",
    "input_email = input(\"Enter an email address: \")\n",
    "username = extract_username(input_email)\n",
    "print(\"Extracted username:\", username)\n"
   ]
  },
  {
   "cell_type": "code",
   "execution_count": 23,
   "metadata": {},
   "outputs": [
    {
     "name": "stdout",
     "output_type": "stream",
     "text": [
      "Extracted domain: gmail.com\n"
     ]
    }
   ],
   "source": [
    "#32. Extract the domain name from an email address string.\n",
    "def extract_domain(email):\n",
    "    domain = email.split('@')[1]\n",
    "    return domain\n",
    "\n",
    "input_email = input(\"Enter an email address: \")\n",
    "domain = extract_domain(input_email)\n",
    "print(\"Extracted domain:\", domain)\n"
   ]
  },
  {
   "cell_type": "code",
   "execution_count": 24,
   "metadata": {},
   "outputs": [
    {
     "name": "stdout",
     "output_type": "stream",
     "text": [
      "This is input String This is space       and very space  I am wrtiting this too test \n",
      "Modified string: This is space and very space I am wrtiting this too test \n"
     ]
    }
   ],
   "source": [
    "#33. Replace multiple spaces in a string with a single space.\n",
    "def replace_multiple_spaces(input_string):\n",
    "    while \"  \" in input_string:\n",
    "        input_string = input_string.replace(\"  \", \" \")\n",
    "    return input_string\n",
    "\n",
    "input_string = input(\"Enter a string: \")\n",
    "modified_string = replace_multiple_spaces(input_string)\n",
    "print(f\"This is input String {input_string}\")\n",
    "print(\"Modified string:\", modified_string)\n"
   ]
  },
  {
   "cell_type": "code",
   "execution_count": 27,
   "metadata": {},
   "outputs": [
    {
     "name": "stdout",
     "output_type": "stream",
     "text": [
      "Valid URL. https://drive.google.com/file/d/1q2FG27cypBxxldsz32YjxCtHlupki8jJ/view"
     ]
    }
   ],
   "source": [
    "#34. Check if a string is a valid URL.\n",
    "import re\n",
    "\n",
    "def is_valid_url(url):\n",
    "    pattern = r'^(http|https|ftp)://[a-zA-Z0-9.-]+\\.[a-zA-Z]{2,4}(/.*)?$'\n",
    "    return re.match(pattern, url) is not None\n",
    "\n",
    "input_url = input(\"Enter a URL: \")\n",
    "if is_valid_url(input_url):\n",
    "    print(\"Valid URL. \",end=input_url)\n",
    "else:\n",
    "    print(\"Invalid URL. \",end=index)\n"
   ]
  },
  {
   "cell_type": "code",
   "execution_count": 28,
   "metadata": {},
   "outputs": [
    {
     "name": "stdout",
     "output_type": "stream",
     "text": [
      "Extracted protocol: https\n"
     ]
    }
   ],
   "source": [
    "#35. Extract the protocol (http or https) from a URL string.\n",
    "from urllib.parse import urlparse\n",
    "\n",
    "def extract_protocol(url):\n",
    "    parsed_url = urlparse(url)\n",
    "    return parsed_url.scheme\n",
    "\n",
    "input_url = input(\"Enter a URL: \")\n",
    "protocol = extract_protocol(input_url)\n",
    "print(\"Extracted protocol:\", protocol)\n"
   ]
  },
  {
   "cell_type": "code",
   "execution_count": 29,
   "metadata": {},
   "outputs": [
    {
     "name": "stdout",
     "output_type": "stream",
     "text": [
      "Character frequencies:\n",
      "'H': 1\n",
      "'h': 1\n",
      "'e': 1\n",
      "'l': 3\n",
      "'o': 2\n",
      "' ': 1\n",
      "'w': 1\n",
      "'r': 1\n",
      "'d': 1\n"
     ]
    }
   ],
   "source": [
    "#36. Find the frequency of each character in a string.\n",
    "def character_frequency(input_string):\n",
    "    frequency = {}\n",
    "\n",
    "    for char in input_string:\n",
    "        if char in frequency:\n",
    "            frequency[char] += 1\n",
    "        else:\n",
    "            frequency[char] = 1\n",
    "\n",
    "    return frequency\n",
    "\n",
    "input_string = input(\"Enter a string: \")\n",
    "frequency_dict = character_frequency(input_string)\n",
    "\n",
    "print(\"Character frequencies:\")\n",
    "for char, count in frequency_dict.items():\n",
    "    print(f\"'{char}': {count}\")\n"
   ]
  },
  {
   "cell_type": "code",
   "execution_count": 33,
   "metadata": {},
   "outputs": [
    {
     "name": "stdout",
     "output_type": "stream",
     "text": [
      "Original String 37. Remove all :punctuation !from a ?string.\n",
      "Cleaned string: 37 Remove all punctuation from a string\n"
     ]
    }
   ],
   "source": [
    "#37. Remove all punctuation from a string.\n",
    "import string\n",
    "\n",
    "def remove_punctuation(input_string):\n",
    "    translator = str.maketrans('', '', string.punctuation)\n",
    "    clean_string = input_string.translate(translator)\n",
    "    return clean_string\n",
    "\n",
    "input_string = input(\"Enter a string: \")\n",
    "cleaned_string = remove_punctuation(input_string)\n",
    "print(f\"Original String {input_string}\")\n",
    "print(\"Cleaned string:\", cleaned_string)\n"
   ]
  },
  {
   "cell_type": "code",
   "execution_count": 34,
   "metadata": {},
   "outputs": [
    {
     "name": "stdout",
     "output_type": "stream",
     "text": [
      "input string is Hellow world\n",
      "The string does not contain only digits.\n"
     ]
    }
   ],
   "source": [
    "#38. Check if a string contains only digits.\n",
    "input_string = input(\"Enter a string: \")\n",
    "print(f\"input string is {input_string}\")\n",
    "\n",
    "if input_string.isdigit():\n",
    "    print(\"The string contains only digits.\")\n",
    "else:\n",
    "    print(\"The string does not contain only digits.\")\n"
   ]
  },
  {
   "cell_type": "code",
   "execution_count": 35,
   "metadata": {},
   "outputs": [
    {
     "name": "stdout",
     "output_type": "stream",
     "text": [
      "The string does not contain only alphabetic characters.\n"
     ]
    }
   ],
   "source": [
    "#39. Check if a string contains only alphabets. \n",
    "input_string = input(\"Enter a string: \")\n",
    "\n",
    "if input_string.isalpha():\n",
    "    print(\"The string contains only alphabetic characters.\")\n",
    "else:\n",
    "    print(\"The string does not contain only alphabetic characters.\")\n"
   ]
  },
  {
   "cell_type": "code",
   "execution_count": null,
   "metadata": {},
   "outputs": [],
   "source": [
    "#40. Convert a string to a list of characters.\n",
    "input_string = input(\"Enter a string: \")\n",
    "character_list = list(input_string)\n",
    "print(\"List of characters:\", character_list)\n"
   ]
  },
  {
   "cell_type": "code",
   "execution_count": 36,
   "metadata": {},
   "outputs": [
    {
     "name": "stdout",
     "output_type": "stream",
     "text": [
      "The strings are anagrams.\n"
     ]
    }
   ],
   "source": [
    "#41. Check if two strings are anagrams.\n",
    "def are_anagrams(str1, str2):\n",
    "    return sorted(str1) == sorted(str2)\n",
    "\n",
    "input_str1 = input(\"Enter the first string: \")\n",
    "input_str2 = input(\"Enter the second string: \")\n",
    "\n",
    "if are_anagrams(input_str1, input_str2):\n",
    "    print(\"The strings are anagrams.\")\n",
    "else:\n",
    "    print(\"The strings are not anagrams.\")\n",
    "\n"
   ]
  },
  {
   "cell_type": "code",
   "execution_count": 37,
   "metadata": {},
   "outputs": [
    {
     "name": "stdout",
     "output_type": "stream",
     "text": [
      "Original text Hello world\n",
      "Khoor zruog\n"
     ]
    }
   ],
   "source": [
    "#42. Encode a string using a Caesar cipher.\n",
    "def caesar_cipher_encode(text, shift):\n",
    "    encoded_text = \"\"\n",
    "\n",
    "    for char in text:\n",
    "        if char.isalpha():\n",
    "            if char.islower():\n",
    "                encoded_char = chr((ord(char) - ord('a' ) + shift) % 26 + ord('a'))\n",
    "            else:\n",
    "                encoded_char = chr((ord(char) - ord('A') + shift) % 26 + ord('A'))\n",
    "        else:\n",
    "            encoded_char = char\n",
    "        encoded_text += encoded_char\n",
    "\n",
    "    return encoded_text\n",
    "\n",
    "# Example usage\n",
    "plaintext =input(\"Enter the string\")\n",
    "shift = 3\n",
    "encoded_text = caesar_cipher_encode(plaintext, shift)\n",
    "print(f\"Original text {plaintext}\")\n",
    "print(encoded_text)\n"
   ]
  },
  {
   "cell_type": "code",
   "execution_count": 38,
   "metadata": {},
   "outputs": [
    {
     "name": "stdout",
     "output_type": "stream",
     "text": [
      "Original String Hello world\n",
      "Hello, World!\n"
     ]
    }
   ],
   "source": [
    "#43. Decode a Caesar cipher encoded string.\n",
    "def caesar_cipher_decode(encoded_text, shift):\n",
    "    decoded_text = \"\"\n",
    "\n",
    "    for char in encoded_text:\n",
    "        if char.isalpha():\n",
    "            if char.islower():\n",
    "                decoded_char = chr((ord(char) - ord('a' ) - shift) % 26 + ord('a'))\n",
    "            else:\n",
    "                decoded_char = chr((ord(char) - ord('A') - shift) % 26 + ord('A'))\n",
    "        else:\n",
    "            decoded_char = char\n",
    "        decoded_text += decoded_char\n",
    "\n",
    "    return decoded_text\n",
    "\n",
    "# Example usage\n",
    "encoded_text = input(\"Enter string \") \n",
    "shift = 3\n",
    "decoded_text = caesar_cipher_decode(encoded_text, shift)\n",
    "print(\"Original String \"+plaintext)\n",
    "print(decoded_text)\n"
   ]
  },
  {
   "cell_type": "code",
   "execution_count": 39,
   "metadata": {},
   "outputs": [
    {
     "name": "stdout",
     "output_type": "stream",
     "text": [
      "The most frequent word is: this\n",
      "It appears 2 times.\n"
     ]
    }
   ],
   "source": [
    "#44. Find the most frequent word in a string.\n",
    "from collections import Counter\n",
    "import re\n",
    "\n",
    "def most_frequent_word(text):\n",
    "    # Remove punctuation and convert to lowercase\n",
    "    cleaned_text = re.sub(r'[^\\w\\s]', '', text).lower()\n",
    "\n",
    "    # Split the cleaned text into words\n",
    "    words = cleaned_text.split()\n",
    "\n",
    "    # Count the frequency of each word\n",
    "    word_counts = Counter(words)\n",
    "\n",
    "    # Find the most common word\n",
    "    most_common_word = word_counts.most_common(1)[0]\n",
    "\n",
    "    return most_common_word\n",
    "\n",
    "# Example usage\n",
    "input_text =input(\"Enter the String\") \n",
    "result = most_frequent_word(input_text)\n",
    "print(\"The most frequent word is:\", result[0])\n",
    "print(\"It appears\", result[1], \"times.\")\n"
   ]
  },
  {
   "cell_type": "code",
   "execution_count": 40,
   "metadata": {},
   "outputs": [
    {
     "name": "stdout",
     "output_type": "stream",
     "text": [
      "Unique words: {'test', 'this', 'is', 'only', 'a'}\n"
     ]
    }
   ],
   "source": [
    "#45. Find all unique words in a string.\n",
    "import re\n",
    "\n",
    "def unique_words(text):\n",
    "    # Remove punctuation and convert to lowercase\n",
    "    cleaned_text = re.sub(r'[^\\w\\s]', '', text).lower()\n",
    "\n",
    "    # Split the cleaned text into words\n",
    "    words = cleaned_text.split()\n",
    "\n",
    "    # Get unique words using set\n",
    "    unique_words_set = set(words)\n",
    "\n",
    "    return unique_words_set\n",
    "\n",
    "# Example usage\n",
    "input_text = input(\"Enter the string\")\n",
    "unique_words_set = unique_words(input_text)\n",
    "print(\"Unique words:\", unique_words_set)\n"
   ]
  },
  {
   "cell_type": "code",
   "execution_count": 44,
   "metadata": {},
   "outputs": [
    {
     "name": "stdout",
     "output_type": "stream",
     "text": [
      "Total syllables: 11\n"
     ]
    }
   ],
   "source": [
    "#46. Count the number of syllables in a string.\n",
    "import re\n",
    "\n",
    "def count_syllables(word):\n",
    "    # Using a regular expression to identify vowel sequences\n",
    "    vowels = re.findall(r'[aeiouy]+', word, re.IGNORECASE)\n",
    "    return len(vowels)\n",
    "\n",
    "def total_syllables(text):\n",
    "    words = text.split()\n",
    "    total = sum(count_syllables(word) for word in words)\n",
    "    return total\n",
    "\n",
    "# Example usage\n",
    "input_text = \"The quick brown fox jumps over the lazy dog.\"\n",
    "syllable_count = total_syllables(input_text)\n",
    "print(\"Total syllables:\", syllable_count)\n"
   ]
  },
  {
   "cell_type": "code",
   "execution_count": 45,
   "metadata": {},
   "outputs": [
    {
     "name": "stdout",
     "output_type": "stream",
     "text": [
      "The text contains special characters.\n"
     ]
    }
   ],
   "source": [
    "#47. Check if a string contains any special characters.\n",
    "import re\n",
    "\n",
    "def contains_special_characters(text):\n",
    "    # Define a regular expression pattern to match special characters\n",
    "    pattern = r'[^\\w\\s]'\n",
    "    \n",
    "    # Search for the pattern in the text\n",
    "    match = re.search(pattern, text)\n",
    "    \n",
    "    # Return True if a special character is found, False otherwise\n",
    "    return bool(match)\n",
    "\n",
    "# Example usage\n",
    "input_text = \"Hello, World!\"\n",
    "contains_special = contains_special_characters(input_text)\n",
    "if contains_special:\n",
    "    print(\"The text contains special characters.\")\n",
    "else:\n",
    "    print(\"The text does not contain special characters.\")\n"
   ]
  },
  {
   "cell_type": "code",
   "execution_count": 47,
   "metadata": {},
   "outputs": [
    {
     "name": "stdout",
     "output_type": "stream",
     "text": [
      "This is an example sentence for demonstration.\"\n",
      "This is example sentence for demonstration.\"\n"
     ]
    }
   ],
   "source": [
    "#48. Remove the nth word from a string.\n",
    "def remove_nth_word(text, n):\n",
    "    words = text.split()\n",
    "    if 1 <= n <= len(words):\n",
    "        words.pop(n - 1)\n",
    "        return ' '.join(words)\n",
    "    else:\n",
    "        return text\n",
    "\n",
    "# Example usage\n",
    "input_text = input(\"Enter the sentence \")\n",
    "print(input_text)\n",
    "nth_word_to_remove = int(input(\"Enter the position of word that you want to remove.\"))\n",
    "new_text = remove_nth_word(input_text, nth_word_to_remove)\n",
    "print(new_text)\n"
   ]
  },
  {
   "cell_type": "code",
   "execution_count": 48,
   "metadata": {},
   "outputs": [
    {
     "name": "stdout",
     "output_type": "stream",
     "text": [
      "This is new a sentence.\n"
     ]
    }
   ],
   "source": [
    "#49. Insert a word at the nth position in a string.\n",
    "def insert_word_at_nth_position(text, n, word_to_insert):\n",
    "    words = text.split()\n",
    "    if 0 <= n <= len(words):\n",
    "        words.insert(n, word_to_insert)\n",
    "        return ' '.join(words)\n",
    "    else:\n",
    "        return text\n",
    "\n",
    "# Example usage\n",
    "input_text = input(\"Enter the value \")\n",
    "nth_position = int(input(\"Enter the position \"))\n",
    "word_to_insert = \"new\"\n",
    "new_text = insert_word_at_nth_position(input_text, nth_position, word_to_insert)\n",
    "print(new_text)\n"
   ]
  },
  {
   "cell_type": "code",
   "execution_count": 50,
   "metadata": {},
   "outputs": [
    {
     "name": "stdout",
     "output_type": "stream",
     "text": [
      "['1', 'Ankesh', 'Mishra']\n",
      "['2', 'Prahant', 'Bhadula']\n",
      "['3', 'Bobby', 'jhaa']\n"
     ]
    }
   ],
   "source": [
    "#50. Convert a CSV string to a list of lists.\n",
    "import csv\n",
    "from io import StringIO\n",
    "\n",
    "def csv_string_to_list_of_lists(csv_string):\n",
    "    csv_io = StringIO(csv_string)  # Create a file-like object from the CSV string\n",
    "    csv_reader = csv.reader(csv_io)  # Create a CSV reader object\n",
    "\n",
    "    list_of_lists = []\n",
    "    for row in csv_reader:\n",
    "        list_of_lists.append(row)\n",
    "\n",
    "    return list_of_lists\n",
    "\n",
    "# Example usage\n",
    "csv_string = \"1,Ankesh,Mishra\\n2,Prahant,Bhadula\\n3,Bobby,jhaa\"\n",
    "list_of_lists = csv_string_to_list_of_lists(csv_string)\n",
    "for row in list_of_lists:\n",
    "    print(row)\n",
    "\n"
   ]
  },
  {
   "cell_type": "code",
   "execution_count": null,
   "metadata": {},
   "outputs": [],
   "source": [
    "\"\"\"       \n",
    "            STRING SECTION ENDS THE NEXT SECTION IS OF LIST\n",
    "\"\"\""
   ]
  },
  {
   "cell_type": "code",
   "execution_count": 1,
   "metadata": {},
   "outputs": [
    {
     "name": "stdout",
     "output_type": "stream",
     "text": [
      "[1, 2, 3, 4, 5, 6, 7, 8, 9, 10]\n"
     ]
    }
   ],
   "source": [
    "#1. Create a list with integers from 1 to 10.\n",
    "integer_list = list(range(1, 11))\n",
    "print(integer_list)\n"
   ]
  },
  {
   "cell_type": "code",
   "execution_count": 2,
   "metadata": {},
   "outputs": [
    {
     "name": "stdout",
     "output_type": "stream",
     "text": [
      "Length: 10\n"
     ]
    }
   ],
   "source": [
    "my_list = [1, 2, 3, 4, 5, 6, 7, 8, 9, 10]\n",
    "length = sum(1 for _ in my_list)\n",
    "print(\"Length:\", length)\n"
   ]
  },
  {
   "cell_type": "code",
   "execution_count": 4,
   "metadata": {},
   "outputs": [
    {
     "name": "stdout",
     "output_type": "stream",
     "text": [
      "[1, 21, 21, 13, 42, 53, 56, 78]\n",
      "[1, 21, 21, 5555, 13, 42, 53, 56, 78]\n"
     ]
    }
   ],
   "source": [
    "#4. Insert an element at a specific index in a list.\n",
    "my_list = input(\"Enter the list (comma-separated numbers): \").split(',')\n",
    "my_list = [int(num) for num in my_list]\n",
    "\n",
    "element_to_insert = int(input(\"Enter the element to insert: \"))\n",
    "index_to_insert = int(input(\"Enter the index at which to insert: \"))\n",
    "print(my_list)\n",
    "my_list.insert(index_to_insert, element_to_insert)\n",
    "print(my_list)\n"
   ]
  },
  {
   "cell_type": "code",
   "execution_count": 5,
   "metadata": {},
   "outputs": [
    {
     "name": "stdout",
     "output_type": "stream",
     "text": [
      "Element 22 not found in the list.\n",
      "[1, 21, 34, 431, 34, 32, 56, 435, 67, 424]\n"
     ]
    }
   ],
   "source": [
    "#5. Remove an element from a list by its value.\n",
    "my_list = input(\"Enter the list (comma-separated numbers): \").split(',')\n",
    "my_list = [int(num) for num in my_list]\n",
    "\n",
    "element_to_remove = int(input(\"Enter the element to remove: \"))\n",
    "\n",
    "if element_to_remove in my_list:\n",
    "    my_list.remove(element_to_remove)\n",
    "    print(f\"Element {element_to_remove} removed.\")\n",
    "else:\n",
    "    print(f\"Element {element_to_remove} not found in the list.\")\n",
    "\n",
    "print(my_list)\n"
   ]
  },
  {
   "cell_type": "code",
   "execution_count": 6,
   "metadata": {},
   "outputs": [
    {
     "name": "stdout",
     "output_type": "stream",
     "text": [
      "[1, 2, 3, 4, 5, 6]\n",
      "Element 3 at index 2 removed.\n",
      "[1, 2, 4, 5, 6]\n"
     ]
    }
   ],
   "source": [
    "#6. Remove an element from a list by its index.\n",
    "my_list = [1, 2, 3, 4, 5, 6]\n",
    "print(my_list)\n",
    "index_to_remove = int(input(\"Enter the index to remove: \"))\n",
    "\n",
    "if 0 <= index_to_remove < len(my_list):\n",
    "    removed_element = my_list.pop(index_to_remove)\n",
    "    print(f\"Element {removed_element} at index {index_to_remove} removed.\")\n",
    "else:\n",
    "    print(\"Invalid index.\")\n",
    "\n",
    "print(my_list)\n"
   ]
  },
  {
   "cell_type": "code",
   "execution_count": 7,
   "metadata": {},
   "outputs": [
    {
     "name": "stdout",
     "output_type": "stream",
     "text": [
      "Element 5 exists in the list.\n"
     ]
    }
   ],
   "source": [
    "#7. Check if an element exists in a list.\n",
    "my_list = [1, 2, 3, 4, 5, 6]\n",
    "element_to_check = int(input(\"Enter the element to check: \"))\n",
    "\n",
    "if element_to_check in my_list:\n",
    "    print(f\"Element {element_to_check} exists in the list.\")\n",
    "else:\n",
    "    print(f\"Element {element_to_check} does not exist in the list.\")\n"
   ]
  },
  {
   "cell_type": "code",
   "execution_count": 8,
   "metadata": {},
   "outputs": [
    {
     "name": "stdout",
     "output_type": "stream",
     "text": [
      "Element 6 found at index 5.\n"
     ]
    }
   ],
   "source": [
    "#8. Find the index of the first occurrence of an element in a list.\n",
    "my_list = [1, 2, 3, 4, 5, 6]\n",
    "element_to_find = int(input(\"Enter the element to find: \"))\n",
    "\n",
    "try:\n",
    "    index = my_list.index(element_to_find)\n",
    "    print(f\"Element {element_to_find} found at index {index}.\")\n",
    "except ValueError:\n",
    "    print(f\"Element {element_to_find} not found in the list.\")\n"
   ]
  },
  {
   "cell_type": "code",
   "execution_count": 9,
   "metadata": {},
   "outputs": [
    {
     "name": "stdout",
     "output_type": "stream",
     "text": [
      "Element 2 appears 3 times in the list.\n"
     ]
    }
   ],
   "source": [
    "#9. Count the occurrences of an element in a list.\n",
    "my_list = [1, 2, 2, 3, 4, 2, 5, 6]\n",
    "element_to_count = int(input(\"Enter the element to count: \"))\n",
    "\n",
    "count = my_list.count(element_to_count)\n",
    "print(f\"Element {element_to_count} appears {count} times in the list.\")\n"
   ]
  },
  {
   "cell_type": "code",
   "execution_count": 11,
   "metadata": {},
   "outputs": [
    {
     "name": "stdout",
     "output_type": "stream",
     "text": [
      "[1, 2, 3, 4, 5, 6]\n",
      "[6, 5, 4, 3, 2, 1]\n"
     ]
    }
   ],
   "source": [
    "#10. Reverse the order of elements in a list.\n",
    "my_list = [1, 2, 3, 4, 5, 6]\n",
    "print(my_list)\n",
    "my_list.reverse()\n",
    "print(my_list)\n"
   ]
  },
  {
   "cell_type": "code",
   "execution_count": 13,
   "metadata": {},
   "outputs": [
    {
     "name": "stdout",
     "output_type": "stream",
     "text": [
      "[4, 1, 6, 3, 2, 5]\n",
      "[1, 2, 3, 4, 5, 6]\n"
     ]
    }
   ],
   "source": [
    "#11. Sort a list in ascending order.\n",
    "my_list = [4, 1, 6, 3, 2, 5]\n",
    "print(my_list)\n",
    "my_list.sort()\n",
    "print(my_list)\n",
    "\n",
    "\n"
   ]
  },
  {
   "cell_type": "code",
   "execution_count": 14,
   "metadata": {},
   "outputs": [
    {
     "name": "stdout",
     "output_type": "stream",
     "text": [
      "[4, 1, 6, 3, 2, 5]\n",
      "[6, 5, 4, 3, 2, 1]\n"
     ]
    }
   ],
   "source": [
    "#12. Sort a list in descending order.\n",
    "my_list = [4, 1, 6, 3, 2, 5]\n",
    "print(my_list)\n",
    "my_list.sort(reverse=True)\n",
    "print(my_list)\n"
   ]
  },
  {
   "cell_type": "code",
   "execution_count": 15,
   "metadata": {},
   "outputs": [
    {
     "name": "stdout",
     "output_type": "stream",
     "text": [
      "[2, 4, 6, 8, 10, 12, 14, 16, 18, 20]\n"
     ]
    }
   ],
   "source": [
    "#13. Create a list of even numbers from 1 to 20.\n",
    "even_numbers = [x for x in range(2, 21, 2)]\n",
    "print(even_numbers)\n"
   ]
  },
  {
   "cell_type": "code",
   "execution_count": 16,
   "metadata": {},
   "outputs": [
    {
     "name": "stdout",
     "output_type": "stream",
     "text": [
      "[1, 3, 5, 7, 9, 11, 13, 15, 17, 19]\n"
     ]
    }
   ],
   "source": [
    "#14. Create a list of odd numbers from 1 to 20.\n",
    "odd_numbers = [x for x in range(1, 21, 2)]\n",
    "print(odd_numbers)\n"
   ]
  },
  {
   "cell_type": "code",
   "execution_count": 17,
   "metadata": {},
   "outputs": [
    {
     "name": "stdout",
     "output_type": "stream",
     "text": [
      "Sum: 15\n"
     ]
    }
   ],
   "source": [
    "#15. Find the sum of all elements in a list.\n",
    "my_list = [1, 2, 3, 4, 5]\n",
    "total_sum = sum(my_list)\n",
    "print(\"Sum:\", total_sum)\n"
   ]
  },
  {
   "cell_type": "code",
   "execution_count": 18,
   "metadata": {},
   "outputs": [
    {
     "name": "stdout",
     "output_type": "stream",
     "text": [
      "Maximum value: 9\n"
     ]
    }
   ],
   "source": [
    "#16. Find the maximum value in a list.\n",
    "my_list = [4, 9, 2, 7, 5]\n",
    "max_value = max(my_list)\n",
    "print(\"Maximum value:\", max_value)\n"
   ]
  },
  {
   "cell_type": "code",
   "execution_count": 19,
   "metadata": {},
   "outputs": [
    {
     "name": "stdout",
     "output_type": "stream",
     "text": [
      "Minimum value: 2\n"
     ]
    }
   ],
   "source": [
    "#17. Find the minimum value in a list.\n",
    "my_list = [4, 9, 2, 7, 5]\n",
    "min_value = min(my_list)\n",
    "print(\"Minimum value:\", min_value)\n"
   ]
  },
  {
   "cell_type": "code",
   "execution_count": 20,
   "metadata": {},
   "outputs": [
    {
     "name": "stdout",
     "output_type": "stream",
     "text": [
      "[1, 4, 9, 16, 25, 36, 49, 64, 81, 100]\n"
     ]
    }
   ],
   "source": [
    "#18. Create a list of squares of numbers from 1 to 10.\n",
    "squares = [x ** 2 for x in range(1, 11)]\n",
    "print(squares)\n"
   ]
  },
  {
   "cell_type": "code",
   "execution_count": 21,
   "metadata": {},
   "outputs": [
    {
     "name": "stdout",
     "output_type": "stream",
     "text": [
      "[59, 53, 90, 81, 70, 57, 1, 80, 15, 20]\n"
     ]
    }
   ],
   "source": [
    "#19. Create a list of random numbers.\n",
    "import random\n",
    "\n",
    "num_of_random_numbers = 10  \n",
    "min_value = 1  \n",
    "max_value = 100  \n",
    "\n",
    "random_numbers = [random.randint(min_value, max_value) for _ in range(num_of_random_numbers)]\n",
    "print(random_numbers)\n",
    "\n"
   ]
  },
  {
   "cell_type": "code",
   "execution_count": 25,
   "metadata": {},
   "outputs": [
    {
     "name": "stdout",
     "output_type": "stream",
     "text": [
      "original list:  [1, 2, 2, 3, 4, 4, 5, 6, 6]\n",
      "unique list:  [1, 2, 3, 4, 5, 6]\n"
     ]
    }
   ],
   "source": [
    "#20. Remove duplicates from a list.\n",
    "my_list = [1, 2, 2, 3, 4, 4, 5, 6, 6]\n",
    "print(\"original list: \",my_list)\n",
    "unique_list = list(set(my_list))\n",
    "print(\"unique list: \",unique_list)\n"
   ]
  },
  {
   "cell_type": "code",
   "execution_count": 26,
   "metadata": {},
   "outputs": [
    {
     "name": "stdout",
     "output_type": "stream",
     "text": [
      "[3, 4, 5]\n"
     ]
    }
   ],
   "source": [
    "#21. Find the common elements between two lists.\n",
    "list1 = [1, 2, 3, 4, 5]\n",
    "list2 = [3, 4, 5, 6, 7]\n",
    "\n",
    "common_elements = list(set(list1).intersection(list2))\n",
    "print(common_elements)\n"
   ]
  },
  {
   "cell_type": "code",
   "execution_count": 27,
   "metadata": {},
   "outputs": [
    {
     "name": "stdout",
     "output_type": "stream",
     "text": [
      "[1, 2]\n"
     ]
    }
   ],
   "source": [
    "#22. Find the difference between two lists.\n",
    "list1 = [1, 2, 3, 4, 5]\n",
    "list2 = [3, 4, 5, 6, 7]\n",
    "\n",
    "difference_elements = []\n",
    "for item in list1:\n",
    "    if item not in list2:\n",
    "        difference_elements.append(item)\n",
    "        \n",
    "print(difference_elements)\n"
   ]
  },
  {
   "cell_type": "code",
   "execution_count": 28,
   "metadata": {},
   "outputs": [
    {
     "name": "stdout",
     "output_type": "stream",
     "text": [
      "[1, 2, 3, 4, 5, 6]\n"
     ]
    }
   ],
   "source": [
    "#23. Merge two lists.\n",
    "list1 = [1, 2, 3]\n",
    "list2 = [4, 5, 6]\n",
    "\n",
    "merged_list = list1 + list2\n",
    "print(merged_list)\n"
   ]
  },
  {
   "cell_type": "code",
   "execution_count": 29,
   "metadata": {},
   "outputs": [
    {
     "name": "stdout",
     "output_type": "stream",
     "text": [
      "[2, 4, 6, 8, 10]\n"
     ]
    }
   ],
   "source": [
    "#24. Multiply all elements in a list by 2.\n",
    "my_list = [1, 2, 3, 4, 5]\n",
    "\n",
    "multiplied_list = list(map(lambda x: x * 2, my_list))\n",
    "print(multiplied_list)\n"
   ]
  },
  {
   "cell_type": "code",
   "execution_count": 30,
   "metadata": {},
   "outputs": [
    {
     "name": "stdout",
     "output_type": "stream",
     "text": [
      "[1, 3, 5]\n"
     ]
    }
   ],
   "source": [
    "#25. Filter out all even numbers from a list.\n",
    "my_list = [1, 2, 3, 4, 5, 6]\n",
    "\n",
    "filtered_list = list(filter(lambda x: x % 2 != 0, my_list))\n",
    "print(filtered_list)\n"
   ]
  },
  {
   "cell_type": "code",
   "execution_count": 31,
   "metadata": {},
   "outputs": [
    {
     "name": "stdout",
     "output_type": "stream",
     "text": [
      "[1, 2, 3, 4, 5]\n"
     ]
    }
   ],
   "source": [
    "#26. Convert a list of strings to a list of integers.\n",
    "string_list = ['1', '2', '3', '4', '5']\n",
    "int_list = list(map(int, string_list))\n",
    "print(int_list)\n"
   ]
  },
  {
   "cell_type": "code",
   "execution_count": 33,
   "metadata": {},
   "outputs": [
    {
     "name": "stdout",
     "output_type": "stream",
     "text": [
      "[1, 2, 3, 4, 5, 6, 7, 8, 9]\n"
     ]
    }
   ],
   "source": [
    "#27. Convert a list of integers to a list of strings.\n",
    "nested_list = [[1, 2, 3], [4, 5], [6, 7, 8, 9]]\n",
    "flattened_list = []\n",
    "\n",
    "for sublist in nested_list:\n",
    "\n",
    "    for element in sublist:\n",
    "\n",
    "        flattened_list.append(element)\n",
    "\n",
    "print(flattened_list)\n"
   ]
  },
  {
   "cell_type": "code",
   "execution_count": 34,
   "metadata": {},
   "outputs": [
    {
     "name": "stdout",
     "output_type": "stream",
     "text": [
      "[0, 1, 1, 2, 3, 5, 8, 13, 21, 34]\n"
     ]
    }
   ],
   "source": [
    "#29. Create a list of the first 10 Fibonacci numbers.\n",
    "fibonacci_list = [0, 1]  # Initialize with the first two Fibonacci numbers\n",
    "\n",
    "while len(fibonacci_list) < 10:\n",
    "    next_fibonacci = fibonacci_list[-1] + fibonacci_list[-2]\n",
    "    fibonacci_list.append(next_fibonacci)\n",
    "\n",
    "print(fibonacci_list)\n"
   ]
  },
  {
   "cell_type": "code",
   "execution_count": 36,
   "metadata": {},
   "outputs": [
    {
     "name": "stdout",
     "output_type": "stream",
     "text": [
      "[1, 3, 5, 7, 9]\n",
      "True\n",
      "[3, 1, 5, 7, 9]\n",
      "False\n"
     ]
    }
   ],
   "source": [
    "#30. Check if a list is sorted.\n",
    "def is_sorted_ascending(lst):\n",
    "    return all(lst[i] <= lst[i + 1] for i in range(len(lst) - 1))\n",
    "\n",
    "my_list = [1, 3, 5, 7, 9]\n",
    "print(my_list)\n",
    "print(is_sorted_ascending(my_list))  # Output: True\n",
    "\n",
    "my_list = [3, 1, 5, 7, 9]\n",
    "print(my_list)\n",
    "\n",
    "print(is_sorted_ascending(my_list))  # Output: False\n"
   ]
  },
  {
   "cell_type": "code",
   "execution_count": 38,
   "metadata": {},
   "outputs": [
    {
     "name": "stdout",
     "output_type": "stream",
     "text": [
      "[1, 2, 3, 4, 5]\n",
      "[3, 4, 5, 1, 2]\n"
     ]
    }
   ],
   "source": [
    "#31. Rotate a list to the left by `n` positions.\n",
    "def rotate_left(lst, n):\n",
    "    return lst[n:] + lst[:n]\n",
    "\n",
    "my_list = [1, 2, 3, 4, 5]\n",
    "n = 2\n",
    "rotated_list = rotate_left(my_list, n)\n",
    "print(my_list)\n",
    "print(rotated_list)\n"
   ]
  },
  {
   "cell_type": "code",
   "execution_count": 39,
   "metadata": {},
   "outputs": [
    {
     "name": "stdout",
     "output_type": "stream",
     "text": [
      "[1, 2, 3, 4, 5]\n",
      "[4, 5, 1, 2, 3]\n"
     ]
    }
   ],
   "source": [
    "#32. Rotate a list to the right by `n` positions.\n",
    "def rotate_right(lst, n):\n",
    "    return lst[-n:] + lst[:-n]\n",
    "\n",
    "my_list = [1, 2, 3, 4, 5]\n",
    "n = 2\n",
    "rotated_list = rotate_right(my_list, n)\n",
    "print(my_list)\n",
    "print(rotated_list)\n"
   ]
  },
  {
   "cell_type": "code",
   "execution_count": 40,
   "metadata": {},
   "outputs": [
    {
     "name": "stdout",
     "output_type": "stream",
     "text": [
      "[2, 3, 5, 7, 11, 13, 17, 19, 23, 29, 31, 37, 41, 43, 47]\n"
     ]
    }
   ],
   "source": [
    "#33. Create a list of prime numbers up to 50.\n",
    "def is_prime(num):\n",
    "    if num <= 1:\n",
    "        return False\n",
    "    if num <= 3:\n",
    "        return True\n",
    "    if num % 2 == 0 or num % 3 == 0:\n",
    "        return False\n",
    "    i = 5\n",
    "    while i * i <= num:\n",
    "        if num % i == 0 or num % (i + 2) == 0:\n",
    "            return False\n",
    "        i += 6\n",
    "    return True\n",
    "\n",
    "prime_numbers = [num for num in range(2, 51) if is_prime(num)]\n",
    "print(prime_numbers)\n"
   ]
  },
  {
   "cell_type": "code",
   "execution_count": 42,
   "metadata": {},
   "outputs": [
    {
     "name": "stdout",
     "output_type": "stream",
     "text": [
      "[[1, 2, 3], [4, 5, 6], [7, 8, 9], [10]]\n"
     ]
    }
   ],
   "source": [
    "#34. Split a list into chunks of size `n`.\n",
    "def split_into_chunks(lst, n):\n",
    "    return [lst[i:i + n] for i in range(0, len(lst), n)]\n",
    "\n",
    "my_list = [1, 2, 3, 4, 5, 6, 7, 8, 9, 10]\n",
    "chunk_size = 3\n",
    "chunked_list = split_into_chunks(my_list, chunk_size)\n",
    "print(chunked_list)\n"
   ]
  },
  {
   "cell_type": "code",
   "execution_count": 43,
   "metadata": {},
   "outputs": [
    {
     "name": "stdout",
     "output_type": "stream",
     "text": [
      "Second largest number: 23\n"
     ]
    }
   ],
   "source": [
    "#35. Find the second largest number in a list.\n",
    "def second_largest(lst):\n",
    "    sorted_list = sorted(lst)\n",
    "    return sorted_list[-2]\n",
    "\n",
    "my_list = [15, 7, 23, 10, 9, 35]\n",
    "second_largest_number = second_largest(my_list)\n",
    "print(\"Second largest number:\", second_largest_number)\n"
   ]
  },
  {
   "cell_type": "code",
   "execution_count": 44,
   "metadata": {},
   "outputs": [
    {
     "name": "stdout",
     "output_type": "stream",
     "text": [
      "[4, 16, 36, 64, 100]\n"
     ]
    }
   ],
   "source": [
    "#36. Replace every element in a list with its square.\n",
    "original_list = [2, 4, 6, 8, 10]\n",
    "squared_list = [x ** 2 for x in original_list]\n",
    "print(squared_list)\n"
   ]
  },
  {
   "cell_type": "code",
   "execution_count": 45,
   "metadata": {},
   "outputs": [
    {
     "name": "stdout",
     "output_type": "stream",
     "text": [
      "{'Ankesh ': 0, 'Misra': 1, 'Delhi': 2, 'Engineer': 3}\n"
     ]
    }
   ],
   "source": [
    "#37. Convert a list to a dictionary where list elements become keys and their indices become values.\n",
    "my_list = ['Ankesh ', 'Misra', 'Delhi', 'Engineer']\n",
    "dictionary = {element: index for index, element in enumerate(my_list)}\n",
    "print(dictionary)\n"
   ]
  },
  {
   "cell_type": "code",
   "execution_count": 46,
   "metadata": {},
   "outputs": [
    {
     "name": "stdout",
     "output_type": "stream",
     "text": [
      "[1, 2, 3, 4, 5]\n",
      "[5, 3, 4, 2, 1]\n"
     ]
    }
   ],
   "source": [
    "#38. Shuffle the elements of a list randomly.\n",
    "import random\n",
    "\n",
    "my_list = [1, 2, 3, 4, 5]\n",
    "print(my_list)\n",
    "random.shuffle(my_list)\n",
    "print(my_list)\n"
   ]
  },
  {
   "cell_type": "code",
   "execution_count": 47,
   "metadata": {},
   "outputs": [
    {
     "name": "stdout",
     "output_type": "stream",
     "text": [
      "[1, 1, 2, 6, 24, 120, 720, 5040, 40320, 362880]\n"
     ]
    }
   ],
   "source": [
    "#39. Create a list of the first 10 factorial numbers.\n",
    "def factorial(n):\n",
    "    if n == 0:\n",
    "        return 1\n",
    "    else:\n",
    "        return n * factorial(n - 1)\n",
    "\n",
    "factorial_numbers = [factorial(i) for i in range(10)]\n",
    "print(factorial_numbers)\n"
   ]
  },
  {
   "cell_type": "code",
   "execution_count": 49,
   "metadata": {},
   "outputs": [
    {
     "name": "stdout",
     "output_type": "stream",
     "text": [
      "The lists have at least one common element.\n"
     ]
    }
   ],
   "source": [
    "#40. Check if two lists have at least one element in common.\n",
    "def have_common_element(list1, list2):\n",
    "    return any(item in list2 for item in list1)\n",
    "\n",
    "list1 = [1, 2, 3, 4, 5]\n",
    "list2 = [5, 6, 7, 8, 9]\n",
    "\n",
    "if have_common_element(list1, list2):\n",
    "    print(\"The lists have at least one common element.\")\n",
    "else:\n",
    "    print(\"The lists do not have any common elements.\")\n"
   ]
  },
  {
   "cell_type": "code",
   "execution_count": 50,
   "metadata": {},
   "outputs": [
    {
     "name": "stdout",
     "output_type": "stream",
     "text": [
      "[]\n"
     ]
    }
   ],
   "source": [
    "#41. Remove all elements from a list.\n",
    "my_list = [1, 2, 3, 4, 5]\n",
    "my_list.clear()\n",
    "print(my_list)  # Output: []\n"
   ]
  },
  {
   "cell_type": "code",
   "execution_count": 51,
   "metadata": {},
   "outputs": [
    {
     "name": "stdout",
     "output_type": "stream",
     "text": [
      "[5, 0, 9, 0, 7, 0, 0]\n"
     ]
    }
   ],
   "source": [
    "#42. Replace negative numbers in a list with 0.\n",
    "original_list = [5, -2, 9, -4, 7, -1, 0]\n",
    "modified_list = [x if x >= 0 else 0 for x in original_list]\n",
    "print(modified_list)\n"
   ]
  },
  {
   "cell_type": "code",
   "execution_count": 52,
   "metadata": {},
   "outputs": [
    {
     "name": "stdout",
     "output_type": "stream",
     "text": [
      "['Hello,', 'how', 'are', 'you', 'doing', 'today?']\n"
     ]
    }
   ],
   "source": [
    "#43. Convert a string into a list of words.\n",
    "sentence = \"Hello, how are you doing today?\"\n",
    "word_list = sentence.split()\n",
    "print(word_list)\n"
   ]
  },
  {
   "cell_type": "code",
   "execution_count": 53,
   "metadata": {},
   "outputs": [
    {
     "name": "stdout",
     "output_type": "stream",
     "text": [
      "Hello, how are you doing today?\n"
     ]
    }
   ],
   "source": [
    "#44. Convert a list of words into a string.\n",
    "word_list = ['Hello,', 'how', 'are', 'you', 'doing', 'today?']\n",
    "sentence = ' '.join(word_list)\n",
    "print(sentence)\n"
   ]
  },
  {
   "cell_type": "code",
   "execution_count": 54,
   "metadata": {},
   "outputs": [
    {
     "name": "stdout",
     "output_type": "stream",
     "text": [
      "[1, 2, 4, 8, 16]\n"
     ]
    }
   ],
   "source": [
    "#45. Create a list of the first `n` powers of 2.\n",
    "n = 5\n",
    "powers_of_2 = [2 ** i for i in range(n)]\n",
    "print(powers_of_2)\n"
   ]
  },
  {
   "cell_type": "code",
   "execution_count": 59,
   "metadata": {},
   "outputs": [
    {
     "name": "stdout",
     "output_type": "stream",
     "text": [
      "Longest string: Hello\n"
     ]
    }
   ],
   "source": [
    "#46. Find the longest string in a list of strings.\n",
    "string_list = ['Hello', 'World', 'how', 'are', 'you', 'doing']\n",
    "longest_string = max(string_list, key=len)\n",
    "print(\"Longest string:\", longest_string)\n"
   ]
  },
  {
   "cell_type": "code",
   "execution_count": 62,
   "metadata": {},
   "outputs": [
    {
     "name": "stdout",
     "output_type": "stream",
     "text": [
      "Shortest string: how\n"
     ]
    }
   ],
   "source": [
    "#47. Find the shortest string in a list of strings.\n",
    "string_list = ['Hello', 'World', 'how', 'are', 'you', 'doing']\n",
    "shortest_string = min(string_list, key=len)\n",
    "print(\"Shortest string:\", shortest_string)\n"
   ]
  },
  {
   "cell_type": "code",
   "execution_count": 63,
   "metadata": {},
   "outputs": [
    {
     "name": "stdout",
     "output_type": "stream",
     "text": [
      "[1, 3, 6, 10, 15]\n"
     ]
    }
   ],
   "source": [
    "#48. Create a list of the first `n` triangular numbers.\n",
    "n = 5\n",
    "triangular_numbers = [i * (i + 1) // 2 for i in range(1, n + 1)]\n",
    "print(triangular_numbers)\n"
   ]
  },
  {
   "cell_type": "code",
   "execution_count": 65,
   "metadata": {},
   "outputs": [
    {
     "name": "stdout",
     "output_type": "stream",
     "text": [
      "The subsequence is present in the main list.\n"
     ]
    }
   ],
   "source": [
    "#49. Check if a list contains another list as a subsequence.\n",
    "def is_subsequence(subseq, seq):\n",
    "    subseq_idx = 0\n",
    "\n",
    "    for element in seq:\n",
    "        if subseq_idx < len(subseq) and element == subseq[subseq_idx]:\n",
    "            subseq_idx += 1\n",
    "\n",
    "    return subseq_idx == len(subseq)\n",
    "\n",
    "main_list = [1, 2, 3, 4, 5, 6, 7, 8, 9, 10]\n",
    "subsequence = [3, 5, 8]\n",
    "\n",
    "if is_subsequence(subsequence, main_list):\n",
    "    print(\"The subsequence is present in the main list.\")\n",
    "else:\n",
    "    print(\"The subsequence is not present in the main list.\")\n"
   ]
  },
  {
   "cell_type": "code",
   "execution_count": 66,
   "metadata": {},
   "outputs": [
    {
     "name": "stdout",
     "output_type": "stream",
     "text": [
      "[1, 4, 3, 2, 5]\n"
     ]
    }
   ],
   "source": [
    "#50. Swap two elements in a list by their indices.\n",
    "def swap_elements(lst, index1, index2):\n",
    "    lst[index1], lst[index2] = lst[index2], lst[index1]\n",
    "\n",
    "my_list = [1, 2, 3, 4, 5]\n",
    "index1 = 1\n",
    "index2 = 3\n",
    "\n",
    "swap_elements(my_list, index1, index2)\n",
    "print(my_list)\n"
   ]
  },
  {
   "cell_type": "code",
   "execution_count": null,
   "metadata": {},
   "outputs": [],
   "source": [
    "\"\"\"\n",
    "            QUESTION FROM LIST COMPLETED HERE NEXT WILL START QUETIONS FROM Tuple\n",
    "\"\"\""
   ]
  },
  {
   "cell_type": "code",
   "execution_count": 68,
   "metadata": {},
   "outputs": [
    {
     "name": "stdout",
     "output_type": "stream",
     "text": [
      "(1, 2, 3, 4, 5)\n"
     ]
    }
   ],
   "source": [
    "#1. Create a tuple with integers from 1 to 5.\n",
    "my_tuple=(1,2,3,4,5)\n",
    "print(my_tuple)"
   ]
  },
  {
   "cell_type": "code",
   "execution_count": 69,
   "metadata": {},
   "outputs": [
    {
     "name": "stdout",
     "output_type": "stream",
     "text": [
      "3\n"
     ]
    }
   ],
   "source": [
    "#2. Access the third element of a tuple.\n",
    "my_tuple=(1,2,3,4,5)\n",
    "print(my_tuple[2])"
   ]
  },
  {
   "cell_type": "code",
   "execution_count": 70,
   "metadata": {},
   "outputs": [
    {
     "name": "stdout",
     "output_type": "stream",
     "text": [
      "length of My tuple is   5\n"
     ]
    }
   ],
   "source": [
    "#3. Find the length of a tuple without using the `len()` function.\n",
    "my_tuple=(1,2,3,4,5)\n",
    "count=0\n",
    "for t in my_tuple:\n",
    "    count+=1\n",
    "print(\"length of My tuple is  \", count)"
   ]
  },
  {
   "cell_type": "code",
   "execution_count": 72,
   "metadata": {},
   "outputs": [
    {
     "name": "stdout",
     "output_type": "stream",
     "text": [
      "(1, 2, 2, 2, 3, 4, 5)\n",
      "3\n"
     ]
    }
   ],
   "source": [
    "#4. Count the occurrences of an element in a tuple.\n",
    "my_tuple=(1,2,2,2,3,4,5)\n",
    "print(my_tuple)\n",
    "element=int(input(\"enter the element you are looking for: \"))\n",
    "def count_element(my_tuple,element):\n",
    "    \n",
    "    count =0\n",
    "    for value in my_tuple:\n",
    "        if value == element:\n",
    "            count+=1\n",
    "\n",
    "    return count        \n",
    "print(count_element(my_tuple,element))"
   ]
  },
  {
   "cell_type": "code",
   "execution_count": 73,
   "metadata": {},
   "outputs": [
    {
     "name": "stdout",
     "output_type": "stream",
     "text": [
      "Index of the first occurrence: 1\n"
     ]
    }
   ],
   "source": [
    "#5. Find the index of the first occurrence of an element in a tuple.\n",
    "def find_index_recursive(my_tuple, element_to_find, index=0):\n",
    "    if index == len(my_tuple):\n",
    "        return -1  # Element not found\n",
    "    elif my_tuple[index] == element_to_find:\n",
    "        return index\n",
    "    else:\n",
    "        return find_index_recursive(my_tuple, element_to_find, index + 1)\n",
    "\n",
    "my_tuple = (10, 20, 30, 20, 40, 50)\n",
    "element_to_find = 20\n",
    "\n",
    "index = find_index_recursive(my_tuple, element_to_find)\n",
    "if index != -1:\n",
    "    print(\"Index of the first occurrence:\", index)\n",
    "else:\n",
    "    print(\"Element not found in the tuple.\")\n"
   ]
  },
  {
   "cell_type": "code",
   "execution_count": 76,
   "metadata": {},
   "outputs": [
    {
     "name": "stdout",
     "output_type": "stream",
     "text": [
      "Element exists in the tuple.\n"
     ]
    }
   ],
   "source": [
    "#6. Check if an element exists in a tuple.\n",
    "my_tuple = (10, 20, 30, 40, 50)\n",
    "element_to_check = int(input(\"Enter the element you are looking for: \"))\n",
    "\n",
    "if element_to_check in my_tuple:\n",
    "    print(\"Element exists in the tuple.\")\n",
    "else:\n",
    "    print(\"Element does not exist in the tuple.\")\n"
   ]
  },
  {
   "cell_type": "code",
   "execution_count": 77,
   "metadata": {},
   "outputs": [
    {
     "name": "stdout",
     "output_type": "stream",
     "text": [
      "[10, 20, 30, 40, 50]\n"
     ]
    }
   ],
   "source": [
    "#7. Convert a tuple to a list.\n",
    "my_tuple = (10, 20, 30, 40, 50)\n",
    "my_list = list(my_tuple)\n",
    "print(my_list)\n"
   ]
  },
  {
   "cell_type": "code",
   "execution_count": 78,
   "metadata": {},
   "outputs": [
    {
     "name": "stdout",
     "output_type": "stream",
     "text": [
      "(10, 20, 30, 40, 50)\n"
     ]
    }
   ],
   "source": [
    "#8. Convert a list to a tuple.\n",
    "my_list = [10, 20, 30, 40, 50]\n",
    "my_tuple = tuple(my_list)\n",
    "print(my_tuple)\n"
   ]
  },
  {
   "cell_type": "code",
   "execution_count": null,
   "metadata": {},
   "outputs": [],
   "source": [
    "#9. Unpack the elements of a tuple into variables\n"
   ]
  },
  {
   "cell_type": "code",
   "execution_count": 82,
   "metadata": {},
   "outputs": [
    {
     "name": "stdout",
     "output_type": "stream",
     "text": [
      "(2, 4, 6, 8, 10)\n"
     ]
    }
   ],
   "source": [
    "#10. Create a tuple of even numbers from 1 to 10.\n",
    "my_tuple=[x for x in range(1,11) if x%2==0]\n",
    "my_tuple=tuple(my_tuple)\n",
    "print(my_tuple)"
   ]
  },
  {
   "cell_type": "code",
   "execution_count": 83,
   "metadata": {},
   "outputs": [
    {
     "name": "stdout",
     "output_type": "stream",
     "text": [
      "(1, 3, 5, 7, 9)\n"
     ]
    }
   ],
   "source": [
    "#11. Create a tuple of odd numbers from 1 to 10.\n",
    "my_tuple=[x for x in range(1,11) if x%2!=0]\n",
    "my_tuple=tuple(my_tuple)\n",
    "print(my_tuple)"
   ]
  },
  {
   "cell_type": "code",
   "execution_count": 84,
   "metadata": {},
   "outputs": [
    {
     "name": "stdout",
     "output_type": "stream",
     "text": [
      "The original tuple 1 : (1, 3, 5)\n",
      "The original tuple 2 : (4, 6)\n",
      "The tuple after concatenation is : (1, 3, 5, 4, 6)\n"
     ]
    }
   ],
   "source": [
    "#12. Concatenate two tuples.\n",
    "\n",
    "test_tup1 = (1, 3, 5)\n",
    "test_tup2 = (4, 6)\n",
    "\n",
    "#Original tuples\n",
    "print(\"The original tuple 1 : \" + str(test_tup1))\n",
    "print(\"The original tuple 2 : \" + str(test_tup2))\n",
    "\n",
    "\n",
    "\n",
    "res = test_tup1 + test_tup2\n",
    "\n",
    "# printing result\n",
    "print(\"The tuple after concatenation is : \" + str(res))\n"
   ]
  },
  {
   "cell_type": "code",
   "execution_count": 86,
   "metadata": {},
   "outputs": [
    {
     "name": "stdout",
     "output_type": "stream",
     "text": [
      "The original tuple : (1, 3)\n",
      "The duplicated tuple elements are : ((1, 3), (1, 3), (1, 3))\n"
     ]
    }
   ],
   "source": [
    "#13. Repeat a tuple three times.\n",
    "\n",
    "test_tup = (1, 3)\n",
    "\n",
    "# printing original tuple\n",
    "print(\"The original tuple : \" + str(test_tup))\n",
    "\n",
    "\n",
    "N = 3\n",
    "\n",
    "res = ((test_tup, ) * N)\n",
    "\n",
    "# printing result\n",
    "print(\"The duplicated tuple elements are : \" + str(res))\n",
    "  \n",
    "\n"
   ]
  },
  {
   "cell_type": "code",
   "execution_count": 94,
   "metadata": {},
   "outputs": [
    {
     "name": "stdout",
     "output_type": "stream",
     "text": [
      "True\n"
     ]
    }
   ],
   "source": [
    "#14. Check if a tuple is empty.\n",
    "my_tuple=()\n",
    "print(  my_tuple==())"
   ]
  },
  {
   "cell_type": "code",
   "execution_count": 95,
   "metadata": {},
   "outputs": [
    {
     "name": "stdout",
     "output_type": "stream",
     "text": [
      "((1, 2), (3, 4), (5, 6, 7))\n"
     ]
    }
   ],
   "source": [
    "#15. Create a nested tuple.\n",
    "my_tuple=((1,2),(3,4),(5,6,7))\n",
    "print(my_tuple)"
   ]
  },
  {
   "cell_type": "code",
   "execution_count": 96,
   "metadata": {},
   "outputs": [
    {
     "name": "stdout",
     "output_type": "stream",
     "text": [
      "1\n"
     ]
    }
   ],
   "source": [
    "#16. Access the first element of a nested tuple.\n",
    "my_tuple=((1,2),(3,4),(5,6,7))\n",
    "print(my_tuple[0][0])"
   ]
  },
  {
   "cell_type": "code",
   "execution_count": 97,
   "metadata": {},
   "outputs": [
    {
     "name": "stdout",
     "output_type": "stream",
     "text": [
      "1\n"
     ]
    }
   ],
   "source": [
    "#17. Create a tuple with a single element.\n",
    "my_tuple=(1)\n",
    "print(my_tuple)"
   ]
  },
  {
   "cell_type": "code",
   "execution_count": 101,
   "metadata": {},
   "outputs": [
    {
     "name": "stdout",
     "output_type": "stream",
     "text": [
      "False\n"
     ]
    }
   ],
   "source": [
    "#18. Compare two tuples.\n",
    "my_tuple1=(1,2,3,4)\n",
    "my_tuple2=(1,2,63,4)\n",
    "print(my_tuple1==my_tuple2)"
   ]
  },
  {
   "cell_type": "code",
   "execution_count": 103,
   "metadata": {},
   "outputs": [
    {
     "name": "stdout",
     "output_type": "stream",
     "text": [
      "The tuple does not exist any more\n"
     ]
    }
   ],
   "source": [
    "#19. Delete a tuple.\n",
    "thistuple = (\"apple\", \"banana\", \"cherry\")\n",
    "del thistuple\n",
    "try:\n",
    "    print(thistuple)\n",
    "except:\n",
    "    print(\"The tuple does not exist any more\")    \n",
    "   "
   ]
  },
  {
   "cell_type": "code",
   "execution_count": 104,
   "metadata": {},
   "outputs": [
    {
     "name": "stdout",
     "output_type": "stream",
     "text": [
      "Sliced Tuple : (2, 5, 8, 1)\n"
     ]
    }
   ],
   "source": [
    "#20. Slice a tuple.\n",
    "my_tuple = (2, 5, 8, 1, 9, 3, 7, 4)\n",
    "stop = 4\n",
    "indices = slice(stop)\n",
    "result = my_tuple[indices]\n",
    "print('Sliced Tuple :', result)"
   ]
  },
  {
   "cell_type": "code",
   "execution_count": 106,
   "metadata": {},
   "outputs": [
    {
     "name": "stdout",
     "output_type": "stream",
     "text": [
      "Maximum value is: 63\n"
     ]
    }
   ],
   "source": [
    "#21. Find the maximum value in a tuple.\n",
    "my_tuple = (25, 17, 55, 63, 40)\n",
    "\n",
    "max_val = my_tuple[0]\n",
    "\n",
    "for i in range(len(my_tuple)):\n",
    "\tif my_tuple[i] > max_val:\n",
    "\t\tmax_val = my_tuple[i]\n",
    "\n",
    "print(\"Maximum value is:\", max_val)\n"
   ]
  },
  {
   "cell_type": "code",
   "execution_count": 107,
   "metadata": {},
   "outputs": [
    {
     "name": "stdout",
     "output_type": "stream",
     "text": [
      "Maximum value is: 17\n"
     ]
    }
   ],
   "source": [
    "#22. Find the minimum value in a tuple.\n",
    "my_tuple = (25, 17, 55, 63, 40)\n",
    "\n",
    "min_val = my_tuple[0]\n",
    "\n",
    "for i in range(len(my_tuple)):\n",
    "\tif my_tuple[i] < min_val:\n",
    "\t\tmin_val = my_tuple[i]\n",
    "\n",
    "print(\"Maximum value is:\", min_val)"
   ]
  },
  {
   "cell_type": "code",
   "execution_count": 108,
   "metadata": {},
   "outputs": [
    {
     "name": "stdout",
     "output_type": "stream",
     "text": [
      "The original string : 1, -5, 4, 6, 7\n",
      "Tuple after getting conversion from String : (1, -5, 4, 6, 7)\n"
     ]
    }
   ],
   "source": [
    "#23. Convert a string to a tuple of characters.\n",
    "test_str = \"1, -5, 4, 6, 7\"\n",
    "print(\"The original string : \" + str(test_str))\n",
    "res = eval(test_str)\n",
    "print(\"Tuple after getting conversion from String : \" + str(res))\n"
   ]
  },
  {
   "cell_type": "code",
   "execution_count": 109,
   "metadata": {},
   "outputs": [
    {
     "name": "stdout",
     "output_type": "stream",
     "text": [
      "hello\n"
     ]
    }
   ],
   "source": [
    "#24. Convert a tuple of characters to a string.\n",
    "tuple_of_characters = ('h', 'e', 'l', 'l', 'o')\n",
    "string = ''.join(tuple_of_characters)\n",
    "\n",
    "print(string)\n"
   ]
  },
  {
   "cell_type": "code",
   "execution_count": 110,
   "metadata": {},
   "outputs": [
    {
     "name": "stdout",
     "output_type": "stream",
     "text": [
      "The tuples are identical.\n"
     ]
    }
   ],
   "source": [
    "#26. Check if two tuples are identical.\n",
    "tuple1 = (1, 2, 3)\n",
    "tuple2 = (1, 2, 3)\n",
    "\n",
    "if tuple1 == tuple2:\n",
    "  print(\"The tuples are identical.\")\n",
    "else:\n",
    "  print(\"The tuples are not identical.\")\n"
   ]
  },
  {
   "cell_type": "code",
   "execution_count": 111,
   "metadata": {},
   "outputs": [
    {
     "name": "stdout",
     "output_type": "stream",
     "text": [
      "((1, 2, 3), ('hello', 'world'), True)\n"
     ]
    }
   ],
   "source": [
    "#25. Create a tuple from multiple data types.\n",
    "tuple_of_tuples = ((1, 2, 3), (\"hello\", \"world\"), True)\n",
    "\n",
    "print(tuple_of_tuples)\n"
   ]
  },
  {
   "cell_type": "code",
   "execution_count": 112,
   "metadata": {},
   "outputs": [
    {
     "name": "stdout",
     "output_type": "stream",
     "text": [
      "['hello', 'world', 'goodbye']\n"
     ]
    }
   ],
   "source": [
    "#27. Sort the elements of a tuple.\n",
    "tuple_of_strings = (\"hello\", \"world\", \"goodbye\")\n",
    "\n",
    "sorted_tuple = sorted(tuple_of_strings, key=lambda x: len(x))\n",
    "\n",
    "print(sorted_tuple)\n"
   ]
  },
  {
   "cell_type": "code",
   "execution_count": 113,
   "metadata": {},
   "outputs": [
    {
     "name": "stdout",
     "output_type": "stream",
     "text": [
      "('1', '2', '3')\n"
     ]
    }
   ],
   "source": [
    "#28. Convert a tuple of integers to a tuple of strings.\n",
    "def convert_tuple_of_integers_to_tuple_of_strings(tuple_of_integers):\n",
    "  \"\"\"\n",
    "  Converts a tuple of integers to a tuple of strings.\n",
    "\n",
    "  Args:\n",
    "    tuple_of_integers: A tuple of integers.\n",
    "\n",
    "  Returns:\n",
    "    A tuple of strings.\n",
    "  \"\"\"\n",
    "\n",
    "  tuple_of_strings = tuple(str(integer) for integer in tuple_of_integers)\n",
    "\n",
    "  return tuple_of_strings\n",
    "\n",
    "\n",
    "tuple_of_integers = (1, 2, 3)\n",
    "\n",
    "tuple_of_strings = convert_tuple_of_integers_to_tuple_of_strings(tuple_of_integers)\n",
    "\n",
    "print(tuple_of_strings)\n"
   ]
  },
  {
   "cell_type": "code",
   "execution_count": 114,
   "metadata": {},
   "outputs": [
    {
     "name": "stdout",
     "output_type": "stream",
     "text": [
      "(1, 2, 3)\n"
     ]
    }
   ],
   "source": [
    "#29. Convert a tuple of strings to a tuple of integers.\n",
    "def convert_tuple_of_strings_to_tuple_of_integers(tuple_of_strings):\n",
    "  \"\"\"\n",
    "  Converts a tuple of strings to a tuple of integers.\n",
    "\n",
    "  Args:\n",
    "    tuple_of_strings: A tuple of strings.\n",
    "\n",
    "  Returns:\n",
    "    A tuple of integers.\n",
    "  \"\"\"\n",
    "\n",
    "  tuple_of_integers = tuple(int(string) for string in tuple_of_strings)\n",
    "\n",
    "  return tuple_of_integers\n",
    "\n",
    "\n",
    "tuple_of_strings = (\"1\", \"2\", \"3\")\n",
    "\n",
    "tuple_of_integers = convert_tuple_of_strings_to_tuple_of_integers(tuple_of_strings)\n",
    "\n",
    "print(tuple_of_integers)\n"
   ]
  },
  {
   "cell_type": "code",
   "execution_count": 115,
   "metadata": {},
   "outputs": [
    {
     "name": "stdout",
     "output_type": "stream",
     "text": [
      "(1, 2, 3, 4, 5, 6)\n"
     ]
    }
   ],
   "source": [
    "#30. Merge two tuples.\n",
    "tuple1 = (1, 2, 3)\n",
    "tuple2 = (4, 5, 6)\n",
    "\n",
    "tuple3 = tuple1 + tuple2\n",
    "\n",
    "print(tuple3)\n"
   ]
  },
  {
   "cell_type": "code",
   "execution_count": 116,
   "metadata": {},
   "outputs": [
    {
     "name": "stdout",
     "output_type": "stream",
     "text": [
      "(1, 2, 3, 4, 5, 6, 7, 8, 9)\n"
     ]
    }
   ],
   "source": [
    "#31. Flatten a nested tuple.\n",
    "def flatten_tuple(nested_tuple):\n",
    "  \"\"\"\n",
    "  Flattens a nested tuple.\n",
    "\n",
    "  Args:\n",
    "    nested_tuple: A nested tuple.\n",
    "\n",
    "  Returns:\n",
    "    A flat tuple.\n",
    "  \"\"\"\n",
    "\n",
    "  flat_tuple = []\n",
    "\n",
    "  for element in nested_tuple:\n",
    "    if isinstance(element, tuple):\n",
    "      flat_tuple.extend(flatten_tuple(element))\n",
    "    else:\n",
    "      flat_tuple.append(element)\n",
    "\n",
    "  return tuple(flat_tuple)\n",
    "\n",
    "\n",
    "nested_tuple = ((1, 2, 3), (4, 5, 6), (7, 8, 9))\n",
    "\n",
    "flat_tuple = flatten_tuple(nested_tuple)\n",
    "\n",
    "print(flat_tuple)\n"
   ]
  },
  {
   "cell_type": "code",
   "execution_count": 117,
   "metadata": {},
   "outputs": [
    {
     "name": "stdout",
     "output_type": "stream",
     "text": [
      "(2, 3, 5, 7, 11)\n"
     ]
    }
   ],
   "source": [
    "#32. Create a tuple of the first 5 prime numbers.\n",
    "def first_n_prime_numbers(n):\n",
    "  \"\"\"\n",
    "  Returns a tuple of the first n prime numbers.\n",
    "\n",
    "  Args:\n",
    "    n: The number of prime numbers to return.\n",
    "\n",
    "  Returns:\n",
    "    A tuple of prime numbers.\n",
    "  \"\"\"\n",
    "\n",
    "  prime_numbers = []\n",
    "\n",
    "  number = 2\n",
    "\n",
    "  while len(prime_numbers) < n:\n",
    "    is_prime = True\n",
    "\n",
    "    for prime in prime_numbers:\n",
    "      if number % prime == 0:\n",
    "        is_prime = False\n",
    "        break\n",
    "\n",
    "    if is_prime:\n",
    "      prime_numbers.append(number)\n",
    "\n",
    "    number += 1\n",
    "\n",
    "  return tuple(prime_numbers)\n",
    "\n",
    "\n",
    "prime_numbers = first_n_prime_numbers(5)\n",
    "\n",
    "print(prime_numbers)\n"
   ]
  },
  {
   "cell_type": "code",
   "execution_count": 118,
   "metadata": {},
   "outputs": [
    {
     "name": "stdout",
     "output_type": "stream",
     "text": [
      "True\n"
     ]
    }
   ],
   "source": [
    "#33. Check if a tuple is a palindrome.\n",
    "def is_palindrome(tuple):\n",
    "  \"\"\"\n",
    "  Checks if a tuple is a palindrome.\n",
    "\n",
    "  Args:\n",
    "    tuple: The tuple to check.\n",
    "\n",
    "  Returns:\n",
    "    True if the tuple is a palindrome, False otherwise.\n",
    "  \"\"\"\n",
    "\n",
    "  reversed_tuple = tuple[::-1]\n",
    "\n",
    "  return tuple == reversed_tuple\n",
    "\n",
    "\n",
    "tuple = (1, 2, 2, 1)\n",
    "\n",
    "is_palindrome = is_palindrome(tuple)\n",
    "\n",
    "print(is_palindrome)\n"
   ]
  },
  {
   "cell_type": "code",
   "execution_count": 1,
   "metadata": {},
   "outputs": [
    {
     "name": "stdout",
     "output_type": "stream",
     "text": [
      "[1, 4, 9, 16, 25]\n",
      "(1, 4, 9, 16, 25)\n"
     ]
    }
   ],
   "source": [
    "#34. Create a tuple of squares of numbers from 1 to 5.\n",
    "squares_of_numbers = [i ** 2 for i in range(1, 6)]\n",
    "print(squares_of_numbers)\n",
    "\n",
    "squares_tuple = tuple(squares_of_numbers)\n",
    "\n",
    "print(squares_tuple)\n"
   ]
  },
  {
   "cell_type": "code",
   "execution_count": 2,
   "metadata": {},
   "outputs": [
    {
     "name": "stdout",
     "output_type": "stream",
     "text": [
      "(1, 2, 3, 4, 5, 6, 7, 8, 9, 10)\n",
      "(1, 3, 5, 7, 9)\n"
     ]
    }
   ],
   "source": [
    "#35. Filter out all even numbers from a tuple.\n",
    "original_tuple = (1, 2, 3, 4, 5, 6, 7, 8, 9, 10)\n",
    "print(original_tuple)\n",
    "\n",
    "filtered_tuple = tuple(x for x in original_tuple if x % 2 != 0)\n",
    "\n",
    "print(filtered_tuple)\n"
   ]
  },
  {
   "cell_type": "code",
   "execution_count": 3,
   "metadata": {},
   "outputs": [
    {
     "name": "stdout",
     "output_type": "stream",
     "text": [
      "(2, 4, 6, 8, 10)\n"
     ]
    }
   ],
   "source": [
    "#36. Multiply all elements in a tuple by 2.\n",
    "original_tuple = (1, 2, 3, 4, 5)\n",
    "\n",
    "doubled_tuple = tuple(x * 2 for x in original_tuple)\n",
    "\n",
    "print(doubled_tuple)\n"
   ]
  },
  {
   "cell_type": "code",
   "execution_count": 4,
   "metadata": {},
   "outputs": [
    {
     "name": "stdout",
     "output_type": "stream",
     "text": [
      "(94, 2, 29, 100, 86)\n"
     ]
    }
   ],
   "source": [
    "#37. Create a tuple of random numbers.\n",
    "import random\n",
    "\n",
    "# Generate a tuple of 5 random numbers between 1 and 100 \n",
    "random_tuple = tuple(random.randint(1, 100) for _ in range(5))\n",
    "\n",
    "print(random_tuple)\n"
   ]
  },
  {
   "cell_type": "code",
   "execution_count": 5,
   "metadata": {},
   "outputs": [
    {
     "name": "stdout",
     "output_type": "stream",
     "text": [
      "The tuple is sorted.\n"
     ]
    }
   ],
   "source": [
    "#38. Check if a tuple is sorted.\n",
    "def is_sorted(t):\n",
    "    return t == tuple(sorted(t))\n",
    "\n",
    "# Example tuple\n",
    "my_tuple = (1, 2, 3, 4, 5)\n",
    "\n",
    "# Check if the tuple is sorted\n",
    "if is_sorted(my_tuple):\n",
    "    print(\"The tuple is sorted.\")\n",
    "else:\n",
    "    print(\"The tuple is not sorted.\")\n"
   ]
  },
  {
   "cell_type": "code",
   "execution_count": 12,
   "metadata": {},
   "outputs": [
    {
     "name": "stdout",
     "output_type": "stream",
     "text": [
      "(3, 4, 5, 1, 2)\n"
     ]
    }
   ],
   "source": [
    "#39. Rotate a tuple to the left by `n` positions.\n",
    "def rotate_tuple_left(input_tuple, n):\n",
    "    if len(input_tuple) == 0:\n",
    "        return input_tuple\n",
    "\n",
    "    n = n % len(input_tuple)  # Ensure n is within the length of the tuple\n",
    "    rotated_tuple = input_tuple[n:] + input_tuple[:n]\n",
    "\n",
    "    return rotated_tuple\n",
    "\n",
    "# Original tuple\n",
    "original_tuple = (1, 2, 3, 4, 5)\n",
    "\n",
    "# Number of positions to rotate to the left\n",
    "n = 2\n",
    "\n",
    "# Rotate the tuple to the left by n positions\n",
    "rotated_tuple = rotate_tuple_left(original_tuple, n)\n",
    "\n",
    "print(rotated_tuple)\n"
   ]
  },
  {
   "cell_type": "code",
   "execution_count": 11,
   "metadata": {},
   "outputs": [
    {
     "name": "stdout",
     "output_type": "stream",
     "text": [
      "(4, 5, 1, 2, 3)\n"
     ]
    }
   ],
   "source": [
    "#40. Rotate a tuple to the right by `n` positions.\n",
    "def rotate_tuple_right(input_tuple, n):\n",
    "    if len(input_tuple) == 0:\n",
    "        return input_tuple\n",
    "\n",
    "    n = n % len(input_tuple)  # Ensure n is within the length of the tuple\n",
    "    rotated_tuple = input_tuple[-n:] + input_tuple[:-n]\n",
    "\n",
    "    return rotated_tuple\n",
    "\n",
    "# Original tuple\n",
    "original_tuple = (1, 2, 3, 4, 5)\n",
    "\n",
    "# Number of positions to rotate to the right\n",
    "n = 2\n",
    "\n",
    "# Rotate the tuple to the right by n positions\n",
    "rotated_tuple = rotate_tuple_right(original_tuple, n)\n",
    "\n",
    "print(rotated_tuple)\n"
   ]
  },
  {
   "cell_type": "code",
   "execution_count": 10,
   "metadata": {},
   "outputs": [
    {
     "name": "stdout",
     "output_type": "stream",
     "text": [
      "(0, 1, 1, 2, 3)\n"
     ]
    }
   ],
   "source": [
    "#41. Create a tuple of the first 5 Fibonacci numbers.\n",
    "# Function to generate the first n Fibonacci numbers\n",
    "def generate_fibonacci(n):\n",
    "    fibonacci_sequence = [0, 1]  # Initialize with the first two Fibonacci numbers\n",
    "\n",
    "    while len(fibonacci_sequence) < n:\n",
    "        next_fibonacci = fibonacci_sequence[-1] + fibonacci_sequence[-2]\n",
    "        fibonacci_sequence.append(next_fibonacci)\n",
    "\n",
    "    return fibonacci_sequence[:n]\n",
    "\n",
    "# Generate the first 5 Fibonacci numbers and store them in a tuple\n",
    "n = 5\n",
    "fibonacci_tuple = tuple(generate_fibonacci(n))\n",
    "\n",
    "print(fibonacci_tuple)\n"
   ]
  },
  {
   "cell_type": "code",
   "execution_count": 9,
   "metadata": {},
   "outputs": [
    {
     "name": "stdout",
     "output_type": "stream",
     "text": [
      "('1', '2', '3', '4', '544', '32', '234', '567', '3')\n"
     ]
    }
   ],
   "source": [
    "#42. Create a tuple from user input.\n",
    "# Get user input as a comma-separated string\n",
    "user_input = input(\"Enter comma-separated values for the tuple: \")\n",
    "\n",
    "# Split the user input by commas and convert it into a tuple\n",
    "user_tuple = tuple(user_input.split(\",\"))\n",
    "\n",
    "print(user_tuple)\n"
   ]
  },
  {
   "cell_type": "code",
   "execution_count": 8,
   "metadata": {},
   "outputs": [
    {
     "name": "stdout",
     "output_type": "stream",
     "text": [
      "(1, 4, 3, 2, 5)\n"
     ]
    }
   ],
   "source": [
    "#43. Swap two elements in a tuple.\n",
    "# Original tuple\n",
    "original_tuple = (1, 2, 3, 4, 5)\n",
    "\n",
    "\n",
    "index1 = 1  # Index of the first element to swap\n",
    "index2 = 3  # Index of the second element to swap\n",
    "\n",
    "# Convert the tuple to a list to make modifications\n",
    "tuple_list = list(original_tuple)\n",
    "\n",
    "# Swap the elements\n",
    "tuple_list[index1], tuple_list[index2] = tuple_list[index2], tuple_list[index1]\n",
    "\n",
    "# Convert the list back to a tuple\n",
    "swapped_tuple = tuple(tuple_list)\n",
    "\n",
    "print(swapped_tuple)\n"
   ]
  },
  {
   "cell_type": "code",
   "execution_count": 7,
   "metadata": {},
   "outputs": [
    {
     "name": "stdout",
     "output_type": "stream",
     "text": [
      "(5, 4, 3, 2, 1)\n"
     ]
    }
   ],
   "source": [
    "#44. Reverse the elements of a tuple.\n",
    "original_tuple = (1, 2, 3, 4, 5)\n",
    "\n",
    "reversed_tuple = tuple(reversed(original_tuple))\n",
    "\n",
    "print(reversed_tuple)\n"
   ]
  },
  {
   "cell_type": "code",
   "execution_count": 6,
   "metadata": {},
   "outputs": [
    {
     "name": "stdout",
     "output_type": "stream",
     "text": [
      "(1, 2, 4, 8, 16)\n"
     ]
    }
   ],
   "source": [
    "#45. Create a tuple of the first `n` powers of 2.\n",
    "n = 5  \n",
    "# Using a list comprehension to generate the first n powers of 2\n",
    "powers_of_2 = [2 ** i for i in range(n)]\n",
    "\n",
    "# Converting the list to a tuple\n",
    "powers_of_2_tuple = tuple(powers_of_2)\n",
    "\n",
    "print(powers_of_2_tuple)\n"
   ]
  },
  {
   "cell_type": "code",
   "execution_count": 18,
   "metadata": {},
   "outputs": [
    {
     "name": "stdout",
     "output_type": "stream",
     "text": [
      "The longest string is: banana\n"
     ]
    }
   ],
   "source": [
    "#46. Find the longest string in a tuple of strings.\n",
    "def find_longest_string(input_tuple):\n",
    "    if not input_tuple:\n",
    "        return None  # Return None for an empty tuple\n",
    "\n",
    "    longest = input_tuple[0]  # Initialize with the first string\n",
    "\n",
    "    for string in input_tuple:\n",
    "        if len(string) > len(longest):\n",
    "            longest = string\n",
    "\n",
    "    return longest\n",
    "\n",
    "# Example tuple of strings\n",
    "string_tuple = (\"apple\", \"banana\", \"cherry\", \"date\", \"fig\")\n",
    "\n",
    "# Find the longest string in the tuple\n",
    "longest_string = find_longest_string(string_tuple)\n",
    "\n",
    "if longest_string is not None:\n",
    "    print(\"The longest string is:\", longest_string)\n",
    "else:\n",
    "    print(\"The tuple is empty.\")\n"
   ]
  },
  {
   "cell_type": "code",
   "execution_count": 17,
   "metadata": {},
   "outputs": [
    {
     "name": "stdout",
     "output_type": "stream",
     "text": [
      "The shortest string is: fig\n"
     ]
    }
   ],
   "source": [
    "#47. Find the shortest string in a tuple of strings.\n",
    "def find_shortest_string(input_tuple):\n",
    "    if not input_tuple:\n",
    "        return None  # Return None for an empty tuple\n",
    "\n",
    "    shortest = input_tuple[0]  # Initialize with the first string\n",
    "\n",
    "    for string in input_tuple:\n",
    "        if len(string) < len(shortest):\n",
    "            shortest = string\n",
    "\n",
    "    return shortest\n",
    "\n",
    "# Example tuple of strings\n",
    "string_tuple = (\"apple\", \"banana\", \"cherry\", \"date\", \"fig\")\n",
    "\n",
    "# Find the shortest string in the tuple\n",
    "shortest_string = find_shortest_string(string_tuple)\n",
    "\n",
    "if shortest_string is not None:\n",
    "    print(\"The shortest string is:\", shortest_string)\n",
    "else:\n",
    "    print(\"The tuple is empty.\")\n"
   ]
  },
  {
   "cell_type": "code",
   "execution_count": 15,
   "metadata": {},
   "outputs": [
    {
     "name": "stdout",
     "output_type": "stream",
     "text": [
      "(1, 3, 6, 10, 15)\n"
     ]
    }
   ],
   "source": [
    "#48. Create a tuple of the first `n` triangular numbers.\n",
    "def generate_triangular_numbers(n):\n",
    "    triangular_numbers = []\n",
    "    total = 0\n",
    "\n",
    "    for i in range(1, n + 1):\n",
    "        total += i\n",
    "        triangular_numbers.append(total)\n",
    "\n",
    "    return triangular_numbers\n",
    "\n",
    "# Specify the value of n (the number of triangular numbers you want)\n",
    "n = 5\n",
    "\n",
    "# Generate the first n triangular numbers and store them in a tuple\n",
    "triangular_tuple = tuple(generate_triangular_numbers(n))\n",
    "\n",
    "print(triangular_tuple)\n"
   ]
  },
  {
   "cell_type": "code",
   "execution_count": 14,
   "metadata": {},
   "outputs": [
    {
     "name": "stdout",
     "output_type": "stream",
     "text": [
      "sub_tuple is a subsequence of main_tuple.\n"
     ]
    }
   ],
   "source": [
    "#49. Check if a tuple contains another tuple as a subsequence.\n",
    "def contains_subsequence(main_tuple, sub_tuple):\n",
    "    # Initialize variables to keep track of the current position in both tuples\n",
    "    main_index = 0\n",
    "    sub_index = 0\n",
    "\n",
    "    # Iterate through the main tuple\n",
    "    while main_index < len(main_tuple):\n",
    "        # If the current elements match, move to the next element in the sub-tuple\n",
    "        if main_tuple[main_index] == sub_tuple[sub_index]:\n",
    "            sub_index += 1\n",
    "\n",
    "            # If we have matched all elements in the sub-tuple, it's a subsequence\n",
    "            if sub_index == len(sub_tuple):\n",
    "                return True\n",
    "\n",
    "        # Move to the next element in the main tuple\n",
    "        main_index += 1\n",
    "\n",
    "    # If we reach the end of the main tuple without finding the subsequence, it's not present\n",
    "    return False\n",
    "\n",
    "# Example tuples\n",
    "main_tuple = (1, 2, 3, 4, 5, 6, 7, 8)\n",
    "sub_tuple = (3, 4, 5)\n",
    "\n",
    "# Check if sub_tuple is a subsequence of main_tuple\n",
    "if contains_subsequence(main_tuple, sub_tuple):\n",
    "    print(\"sub_tuple is a subsequence of main_tuple.\")\n",
    "else:\n",
    "    print(\"sub_tuple is not a subsequence of main_tuple.\")\n"
   ]
  },
  {
   "cell_type": "code",
   "execution_count": 13,
   "metadata": {},
   "outputs": [
    {
     "name": "stdout",
     "output_type": "stream",
     "text": [
      "(1, 0, 1, 0, 1, 0, 1, 0, 1, 0)\n"
     ]
    }
   ],
   "source": [
    "#50. Create a tuple of alternating 1s and 0s of length `n`.\n",
    "n = 10  # Change this value to the desired length\n",
    "\n",
    "# Create a tuple of alternating 1s and 0s\n",
    "alternating_tuple = tuple(1 if i % 2 == 0 else 0 for i in range(n))\n",
    "\n",
    "print(alternating_tuple)\n"
   ]
  },
  {
   "cell_type": "code",
   "execution_count": null,
   "metadata": {},
   "outputs": [],
   "source": [
    "##########################  TUPLE QUETIONS ENDED NOW SET QUESTIONS BEGINS##################################\n"
   ]
  },
  {
   "cell_type": "code",
   "execution_count": 28,
   "metadata": {},
   "outputs": [
    {
     "name": "stdout",
     "output_type": "stream",
     "text": [
      "{1, 2, 3, 4, 5}\n"
     ]
    }
   ],
   "source": [
    "#1. Create a set with integers from 1 to 5.\n",
    "# Create a set with integers from 1 to 5 using the 'set()' constructor\n",
    "my_set = set([1, 2, 3, 4, 5])\n",
    "\n",
    "# Print the set\n",
    "print(my_set)\n"
   ]
  },
  {
   "cell_type": "code",
   "execution_count": 27,
   "metadata": {},
   "outputs": [
    {
     "name": "stdout",
     "output_type": "stream",
     "text": [
      "{42}\n"
     ]
    }
   ],
   "source": [
    "#2. Add an element to a set.\n",
    "# Create an empty set\n",
    "my_set = set()\n",
    "\n",
    "# Element to add\n",
    "element_to_add = 42\n",
    "\n",
    "# Add the element to the set using the 'add()' method\n",
    "my_set.add(element_to_add)\n",
    "\n",
    "# Print the modified set\n",
    "print(my_set)\n"
   ]
  },
  {
   "cell_type": "code",
   "execution_count": 26,
   "metadata": {},
   "outputs": [
    {
     "name": "stdout",
     "output_type": "stream",
     "text": [
      "{1, 2, 4, 5}\n"
     ]
    }
   ],
   "source": [
    "#3. Remove an element from a set.\n",
    "# Create a set\n",
    "my_set = {1, 2, 3, 4, 5}\n",
    "\n",
    "# Element to remove\n",
    "element_to_remove = 3\n",
    "\n",
    "# Remove the element using the 'remove()' method\n",
    "my_set.remove(element_to_remove)\n",
    "\n",
    "# Print the modified set\n",
    "print(my_set)\n"
   ]
  },
  {
   "cell_type": "code",
   "execution_count": 25,
   "metadata": {},
   "outputs": [
    {
     "name": "stdout",
     "output_type": "stream",
     "text": [
      "3 exists in the set.\n"
     ]
    }
   ],
   "source": [
    "#4. Check if an element exists in a set.\n",
    "# Create a set\n",
    "my_set = {1, 2, 3, 4, 5}\n",
    "\n",
    "# Element to check\n",
    "element_to_check = 3\n",
    "\n",
    "# Check if the element exists in the set using the 'in' operator\n",
    "if element_to_check in my_set:\n",
    "    print(f\"{element_to_check} exists in the set.\")\n",
    "else:\n",
    "    print(f\"{element_to_check} does not exist in the set.\")\n"
   ]
  },
  {
   "cell_type": "code",
   "execution_count": 24,
   "metadata": {},
   "outputs": [
    {
     "name": "stdout",
     "output_type": "stream",
     "text": [
      "Length of the set: 5\n"
     ]
    }
   ],
   "source": [
    "#5. Find the length of a set without using the `len()` function.\n",
    "# Create a set\n",
    "my_set = {1, 2, 3, 4, 5}\n",
    "\n",
    "# Initialize a variable to count the elements\n",
    "count = 0\n",
    "\n",
    "# Iterate through the set and increment the count for each element\n",
    "for _ in my_set:\n",
    "    count += 1\n",
    "\n",
    "# Print the length of the set\n",
    "print(\"Length of the set:\", count)\n"
   ]
  },
  {
   "cell_type": "code",
   "execution_count": 23,
   "metadata": {},
   "outputs": [
    {
     "name": "stdout",
     "output_type": "stream",
     "text": [
      "set()\n"
     ]
    }
   ],
   "source": [
    "#6. Clear all elements from a set.\n",
    "# Create a set\n",
    "my_set = {1, 2, 3, 4, 5}\n",
    "\n",
    "# Clear all elements from the set using the clear() method\n",
    "my_set.clear()\n",
    "\n",
    "# Print the empty set\n",
    "print(my_set)\n"
   ]
  },
  {
   "cell_type": "code",
   "execution_count": 22,
   "metadata": {},
   "outputs": [
    {
     "name": "stdout",
     "output_type": "stream",
     "text": [
      "{2, 4, 6, 8, 10}\n"
     ]
    }
   ],
   "source": [
    "#7. Create a set of even numbers from 1 to 10.\n",
    "# Create a set of even numbers from 1 to 10 using a set comprehension\n",
    "even_numbers_set = {x for x in range(1, 11) if x % 2 == 0}\n",
    "\n",
    "# Print the set\n",
    "print(even_numbers_set)\n"
   ]
  },
  {
   "cell_type": "code",
   "execution_count": 21,
   "metadata": {},
   "outputs": [
    {
     "name": "stdout",
     "output_type": "stream",
     "text": [
      "{1, 3, 5, 7, 9}\n"
     ]
    }
   ],
   "source": [
    "#8. Create a set of odd numbers from 1 to 10.\n",
    "# Create a set of odd numbers from 1 to 10 using a set comprehension\n",
    "odd_numbers_set = {x for x in range(1, 11) if x % 2 != 0}\n",
    "\n",
    "# Print the set\n",
    "print(odd_numbers_set)\n"
   ]
  },
  {
   "cell_type": "code",
   "execution_count": 20,
   "metadata": {},
   "outputs": [
    {
     "name": "stdout",
     "output_type": "stream",
     "text": [
      "{1, 2, 3, 4, 5, 6, 7}\n"
     ]
    }
   ],
   "source": [
    "#9. Find the union of two sets.\n",
    "# Define two sets\n",
    "set1 = {1, 2, 3, 4, 5}\n",
    "set2 = {3, 4, 5, 6, 7}\n",
    "\n",
    "# Find the union using the union() method\n",
    "union_set = set1.union(set2)\n",
    "\n",
    "# Print the union\n",
    "print(union_set)\n"
   ]
  },
  {
   "cell_type": "code",
   "execution_count": 19,
   "metadata": {},
   "outputs": [
    {
     "name": "stdout",
     "output_type": "stream",
     "text": [
      "{3, 4, 5}\n"
     ]
    }
   ],
   "source": [
    "#10. Find the intersection of two sets.\n",
    "# Define two sets\n",
    "set1 = {1, 2, 3, 4, 5}\n",
    "set2 = {3, 4, 5, 6, 7}\n",
    "\n",
    "# Find the intersection using the intersection() method\n",
    "intersection_set = set1.intersection(set2)\n",
    "\n",
    "# Print the intersection\n",
    "print(intersection_set)\n"
   ]
  },
  {
   "cell_type": "code",
   "execution_count": 51,
   "metadata": {},
   "outputs": [
    {
     "name": "stdout",
     "output_type": "stream",
     "text": [
      "{1, 2}\n"
     ]
    }
   ],
   "source": [
    "#11. Find the difference between two sets.\n",
    "# Create two sets\n",
    "set1 = {1, 2, 3, 4, 5}\n",
    "set2 = {3, 4, 5, 6, 7}\n",
    "\n",
    "# Find the difference between set1 and set2 using the 'difference()' method\n",
    "difference_set = set1.difference(set2)\n",
    "\n",
    "# Print the difference\n",
    "print(difference_set)\n"
   ]
  },
  {
   "cell_type": "code",
   "execution_count": 50,
   "metadata": {},
   "outputs": [
    {
     "name": "stdout",
     "output_type": "stream",
     "text": [
      "set1 is a subset of set2.\n"
     ]
    }
   ],
   "source": [
    "#12. Check if a set is a subset of another set.\n",
    "# Create two sets\n",
    "set1 = {1, 2, 3}\n",
    "set2 = {1, 2, 3, 4, 5}\n",
    "\n",
    "# Check if set1 is a subset of set2 using the 'issubset()' method\n",
    "is_subset = set1.issubset(set2)\n",
    "\n",
    "# Print the result\n",
    "if is_subset:\n",
    "    print(\"set1 is a subset of set2.\")\n",
    "else:\n",
    "    print(\"set1 is not a subset of set2.\")\n"
   ]
  },
  {
   "cell_type": "code",
   "execution_count": 49,
   "metadata": {},
   "outputs": [
    {
     "name": "stdout",
     "output_type": "stream",
     "text": [
      "set1 is a superset of set2.\n"
     ]
    }
   ],
   "source": [
    "#13. Check if a set is a superset of another set.\n",
    "# Create two sets\n",
    "set1 = {1, 2, 3, 4, 5, 6}\n",
    "set2 = {2, 4, 6}\n",
    "\n",
    "# Check if set1 is a superset of set2 using the 'issuperset()' method\n",
    "is_superset = set1.issuperset(set2)\n",
    "\n",
    "# Print the result\n",
    "if is_superset:\n",
    "    print(\"set1 is a superset of set2.\")\n",
    "else:\n",
    "    print(\"set1 is not a superset of set2.\")\n"
   ]
  },
  {
   "cell_type": "code",
   "execution_count": 48,
   "metadata": {},
   "outputs": [
    {
     "name": "stdout",
     "output_type": "stream",
     "text": [
      "{1, 2, 3, 4, 5}\n"
     ]
    }
   ],
   "source": [
    "#14. Create a set from a list.\n",
    "# Create a list\n",
    "my_list = [1, 2, 3, 4, 5]\n",
    "\n",
    "# Convert the list to a set using the 'set()' constructor\n",
    "my_set = set(my_list)\n",
    "\n",
    "# Print the resulting set\n",
    "print(my_set)\n"
   ]
  },
  {
   "cell_type": "code",
   "execution_count": 47,
   "metadata": {},
   "outputs": [
    {
     "name": "stdout",
     "output_type": "stream",
     "text": [
      "[1, 2, 3, 4, 5]\n"
     ]
    }
   ],
   "source": [
    "#15. Convert a set to a list.\n",
    "# Create a set\n",
    "my_set = {1, 2, 3, 4, 5}\n",
    "\n",
    "# Convert the set to a list using the 'list()' constructor\n",
    "my_list = list(my_set)\n",
    "\n",
    "# Print the resulting list\n",
    "print(my_list)\n"
   ]
  },
  {
   "cell_type": "code",
   "execution_count": 46,
   "metadata": {},
   "outputs": [
    {
     "name": "stdout",
     "output_type": "stream",
     "text": [
      "Removed Element: 1\n",
      "Modified Set: {2, 3, 4, 5}\n"
     ]
    }
   ],
   "source": [
    "#16. Remove a random element from a set.\n",
    "# Create a set\n",
    "my_set = {1, 2, 3, 4, 5}\n",
    "\n",
    "# Remove a random element from the set using the 'pop()' method\n",
    "removed_element = my_set.pop()\n",
    "\n",
    "# Print the removed element and the modified set\n",
    "print(\"Removed Element:\", removed_element)\n",
    "print(\"Modified Set:\", my_set)\n"
   ]
  },
  {
   "cell_type": "code",
   "execution_count": 31,
   "metadata": {},
   "outputs": [
    {
     "name": "stdout",
     "output_type": "stream",
     "text": [
      "Popped Element: 1\n",
      "Modified Set: {2, 3, 4, 5}\n"
     ]
    }
   ],
   "source": [
    "#17. Pop an element from a set.\n",
    "# Create a set\n",
    "my_set = {1, 2, 3, 4, 5}\n",
    "\n",
    "# Pop an element from the set using the 'pop()' method\n",
    "popped_element = my_set.pop()\n",
    "\n",
    "# Print the popped element and the modified set\n",
    "print(\"Popped Element:\", popped_element)\n",
    "print(\"Modified Set:\", my_set)\n"
   ]
  },
  {
   "cell_type": "code",
   "execution_count": 32,
   "metadata": {},
   "outputs": [
    {
     "name": "stdout",
     "output_type": "stream",
     "text": [
      "The sets have no elements in common.\n"
     ]
    }
   ],
   "source": [
    "#18. Check if two sets have no elements in common.\n",
    "# Create two sets\n",
    "set1 = {1, 2, 3}\n",
    "set2 = {4, 5, 6}\n",
    "\n",
    "# Check if the sets have no elements in common using 'isdisjoint()'\n",
    "have_no_elements_in_common = set1.isdisjoint(set2)\n",
    "\n",
    "# Print the result\n",
    "if have_no_elements_in_common:\n",
    "    print(\"The sets have no elements in common.\")\n",
    "else:\n",
    "    print(\"The sets have elements in common.\")\n"
   ]
  },
  {
   "cell_type": "code",
   "execution_count": 30,
   "metadata": {},
   "outputs": [
    {
     "name": "stdout",
     "output_type": "stream",
     "text": [
      "{1, 2, 5, 6}\n"
     ]
    }
   ],
   "source": [
    "#19. Find the symmetric difference between two sets.\n",
    "# Create two sets\n",
    "set1 = {1, 2, 3, 4}\n",
    "set2 = {3, 4, 5, 6}\n",
    "\n",
    "# Find the symmetric difference using the 'symmetric_difference()' method\n",
    "symmetric_diff = set1.symmetric_difference(set2)\n",
    "\n",
    "# Print the symmetric difference\n",
    "print(symmetric_diff)\n"
   ]
  },
  {
   "cell_type": "code",
   "execution_count": 29,
   "metadata": {},
   "outputs": [
    {
     "name": "stdout",
     "output_type": "stream",
     "text": [
      "{1, 2, 3, 4, 5}\n"
     ]
    }
   ],
   "source": [
    "#20. Update a set with elements from another set.\n",
    "# Create two sets\n",
    "set1 = {1, 2, 3}\n",
    "set2 = {3, 4, 5}\n",
    "\n",
    "# Update set1 with elements from set2 using the 'update()' method\n",
    "set1.update(set2)\n",
    "\n",
    "# Print the updated set1\n",
    "print(set1)\n"
   ]
  },
  {
   "cell_type": "code",
   "execution_count": 62,
   "metadata": {},
   "outputs": [
    {
     "name": "stdout",
     "output_type": "stream",
     "text": [
      "{2, 3, 5, 7, 11}\n"
     ]
    }
   ],
   "source": [
    "# 21. Create a set of the first 5 prime numbers.\n",
    "# Function to check if a number is prime\n",
    "def is_prime(n):\n",
    "    if n <= 1:\n",
    "        return False\n",
    "    if n <= 3:\n",
    "        return True\n",
    "    if n % 2 == 0 or n % 3 == 0:\n",
    "        return False\n",
    "    i = 5\n",
    "    while i * i <= n:\n",
    "        if n % i == 0 or n % (i + 2) == 0:\n",
    "            return False\n",
    "        i += 6\n",
    "    return True\n",
    "\n",
    "# Create a set of the first 5 prime numbers\n",
    "prime_numbers_set = set()\n",
    "num = 2  # Start with the first prime number\n",
    "\n",
    "while len(prime_numbers_set) < 5:\n",
    "    if is_prime(num):\n",
    "        prime_numbers_set.add(num)\n",
    "    num += 1\n",
    "\n",
    "# Print the set of prime numbers\n",
    "print(prime_numbers_set)\n"
   ]
  },
  {
   "cell_type": "code",
   "execution_count": 61,
   "metadata": {},
   "outputs": [
    {
     "name": "stdout",
     "output_type": "stream",
     "text": [
      "The sets are identical.\n"
     ]
    }
   ],
   "source": [
    "#22. Check if two sets are identical.\n",
    "# Create two sets\n",
    "set1 = {1, 2, 3, 4, 5}\n",
    "set2 = {5, 4, 3, 2, 1}\n",
    "\n",
    "# Check if the sets are identical using the '==' operator\n",
    "are_identical = set1 == set2\n",
    "\n",
    "# Print the result\n",
    "if are_identical:\n",
    "    print(\"The sets are identical.\")\n",
    "else:\n",
    "    print(\"The sets are not identical.\")\n"
   ]
  },
  {
   "cell_type": "code",
   "execution_count": 60,
   "metadata": {},
   "outputs": [
    {
     "name": "stdout",
     "output_type": "stream",
     "text": [
      "frozenset({1, 2, 3, 4, 5})\n"
     ]
    }
   ],
   "source": [
    "#23. Create a frozen set.\n",
    "# Create a frozen set\n",
    "my_frozen_set = frozenset([1, 2, 3, 4, 5])\n",
    "\n",
    "# Print the frozen set\n",
    "print(my_frozen_set)\n"
   ]
  },
  {
   "cell_type": "code",
   "execution_count": 59,
   "metadata": {},
   "outputs": [
    {
     "name": "stdout",
     "output_type": "stream",
     "text": [
      "The sets are disjoint (have no elements in common).\n"
     ]
    }
   ],
   "source": [
    "#24. Check if a set is disjoint with another set.\n",
    "# Create two sets\n",
    "set1 = {1, 2, 3}\n",
    "set2 = {4, 5, 6}\n",
    "\n",
    "# Check if the sets are disjoint using the 'isdisjoint()' method\n",
    "are_disjoint = set1.isdisjoint(set2)\n",
    "\n",
    "# Print the result\n",
    "if are_disjoint:\n",
    "    print(\"The sets are disjoint (have no elements in common).\")\n",
    "else:\n",
    "    print(\"The sets are not disjoint (have elements in common).\")\n"
   ]
  },
  {
   "cell_type": "code",
   "execution_count": 58,
   "metadata": {},
   "outputs": [
    {
     "name": "stdout",
     "output_type": "stream",
     "text": [
      "{1, 4, 9, 16, 25}\n"
     ]
    }
   ],
   "source": [
    "    #25. Create a set of squares of numbers from 1 to 5.\n",
    "# Create a set of squares of numbers from 1 to 5 using a set comprehension\n",
    "squares_set = {x ** 2 for x in range(1, 6)}\n",
    "\n",
    "# Print the set of squares\n",
    "print(squares_set)\n"
   ]
  },
  {
   "cell_type": "code",
   "execution_count": 57,
   "metadata": {},
   "outputs": [
    {
     "name": "stdout",
     "output_type": "stream",
     "text": [
      "{1, 3, 5, 7, 9}\n"
     ]
    }
   ],
   "source": [
    "#26. Filter out all even numbers from a set.\n",
    "# Create a set\n",
    "my_set = {1, 2, 3, 4, 5, 6, 7, 8, 9, 10}\n",
    "\n",
    "# Create a new set containing only the odd numbers\n",
    "odd_numbers_set = {x for x in my_set if x % 2 != 0}\n",
    "\n",
    "# Print the set of odd numbers\n",
    "print(odd_numbers_set)\n"
   ]
  },
  {
   "cell_type": "code",
   "execution_count": 56,
   "metadata": {},
   "outputs": [
    {
     "name": "stdout",
     "output_type": "stream",
     "text": [
      "{2, 4, 6, 8, 10}\n"
     ]
    }
   ],
   "source": [
    "#27. Multiply all elements in a set by 2.\n",
    "# Create a set\n",
    "my_set = {1, 2, 3, 4, 5}\n",
    "\n",
    "# Create a new set with elements multiplied by 2\n",
    "doubled_set = {x * 2 for x in my_set}\n",
    "\n",
    "# Print the doubled set\n",
    "print(doubled_set)\n"
   ]
  },
  {
   "cell_type": "code",
   "execution_count": 55,
   "metadata": {},
   "outputs": [
    {
     "name": "stdout",
     "output_type": "stream",
     "text": [
      "{32, 4, 36, 14, 15, 82, 18, 29, 95}\n"
     ]
    }
   ],
   "source": [
    "#28. Create a set of random numbers.\n",
    "import random\n",
    "\n",
    "# Set the seed for reproducibility (optional)\n",
    "random.seed(42)\n",
    "\n",
    "# Create an empty set to store random numbers\n",
    "random_numbers_set = set()\n",
    "\n",
    "# Generate and add random integers to the set\n",
    "for _ in range(10):  # Change 10 to the desired number of random numbers\n",
    "    random_number = random.randint(1, 100)  # Change the range as needed\n",
    "    random_numbers_set.add(random_number)\n",
    "\n",
    "# Print the set of random numbers\n",
    "print(random_numbers_set)\n"
   ]
  },
  {
   "cell_type": "code",
   "execution_count": 54,
   "metadata": {},
   "outputs": [
    {
     "name": "stdout",
     "output_type": "stream",
     "text": [
      "The set is empty.\n"
     ]
    }
   ],
   "source": [
    "#29. Check if a set is empty.\n",
    "# Create a set\n",
    "my_set = set()\n",
    "\n",
    "# Check if the set is empty using the 'len()' function\n",
    "if len(my_set) == 0:\n",
    "    print(\"The set is empty.\")\n",
    "else:\n",
    "    print(\"The set is not empty.\")\n"
   ]
  },
  {
   "cell_type": "code",
   "execution_count": 53,
   "metadata": {},
   "outputs": [
    {
     "name": "stdout",
     "output_type": "stream",
     "text": [
      "{frozenset({3, 4, 5}), frozenset({1, 2})}\n"
     ]
    }
   ],
   "source": [
    "#30. Create a nested set (hint: use frozenset).\n",
    "# Create nested sets using frozensets\n",
    "nested_set = {frozenset({1, 2}), frozenset({3, 4, 5})}\n",
    "\n",
    "# Print the nested set\n",
    "print(nested_set)\n"
   ]
  },
  {
   "cell_type": "code",
   "execution_count": 52,
   "metadata": {},
   "outputs": [
    {
     "name": "stdout",
     "output_type": "stream",
     "text": [
      "{1, 2, 4, 5}\n"
     ]
    }
   ],
   "source": [
    "#31. Remove an element from a set using the discard method.\n",
    "# Create a set\n",
    "my_set = {1, 2, 3, 4, 5}\n",
    "\n",
    "# Element to remove\n",
    "element_to_remove = 3\n",
    "\n",
    "# Remove the element using the 'discard()' method\n",
    "my_set.discard(element_to_remove)\n",
    "\n",
    "# Print the modified set\n",
    "print(my_set)\n"
   ]
  },
  {
   "cell_type": "code",
   "execution_count": 72,
   "metadata": {},
   "outputs": [
    {
     "name": "stdout",
     "output_type": "stream",
     "text": [
      "The sets are equal.\n"
     ]
    }
   ],
   "source": [
    "#32. Compare two sets.\n",
    "set1 = {1, 2, 3}\n",
    "set2 = {3, 2, 1}\n",
    "\n",
    "are_equal = set1 == set2  # Check for equality\n",
    "\n",
    "if are_equal:\n",
    "    print(\"The sets are equal.\")\n",
    "else:\n",
    "    print(\"The sets are not equal.\")\n"
   ]
  },
  {
   "cell_type": "code",
   "execution_count": 73,
   "metadata": {},
   "outputs": [
    {
     "name": "stdout",
     "output_type": "stream",
     "text": [
      "{'h', 'e', 'l', 'o'}\n"
     ]
    }
   ],
   "source": [
    "#33. Create a set from a string.\n",
    "# Create a string\n",
    "my_string = \"hello\"\n",
    "\n",
    "# Create a set from the characters of the string\n",
    "my_set = set(my_string)\n",
    "\n",
    "# Print the resulting set\n",
    "print(my_set)\n"
   ]
  },
  {
   "cell_type": "code",
   "execution_count": 71,
   "metadata": {},
   "outputs": [
    {
     "name": "stdout",
     "output_type": "stream",
     "text": [
      "{1, 2, 3, 4, 5}\n"
     ]
    }
   ],
   "source": [
    "#34. Convert a set of strings to a set of integers.\n",
    "# Create a set of strings\n",
    "str_set = {'1', '2', '3', '4', '5'}\n",
    "\n",
    "# Convert the set of strings to a set of integers using a set comprehension\n",
    "int_set = {int(x) for x in str_set}\n",
    "\n",
    "# Print the resulting set of integers\n",
    "print(int_set)\n"
   ]
  },
  {
   "cell_type": "code",
   "execution_count": 70,
   "metadata": {},
   "outputs": [
    {
     "name": "stdout",
     "output_type": "stream",
     "text": [
      "{'1', '4', '3', '2', '5'}\n"
     ]
    }
   ],
   "source": [
    "#35. Convert a set of integers to a set of strings.\n",
    "# Create a set of integers\n",
    "int_set = {1, 2, 3, 4, 5}\n",
    "\n",
    "# Convert the set of integers to a set of strings using a set comprehension\n",
    "str_set = {str(x) for x in int_set}\n",
    "\n",
    "# Print the resulting set of strings\n",
    "print(str_set)\n"
   ]
  },
  {
   "cell_type": "code",
   "execution_count": 69,
   "metadata": {},
   "outputs": [
    {
     "name": "stdout",
     "output_type": "stream",
     "text": [
      "{1, 2, 3, 4, 5}\n"
     ]
    }
   ],
   "source": [
    "#36. Create a set from a tuple.\n",
    "# Create a tuple\n",
    "my_tuple = (1, 2, 3, 4, 5)\n",
    "\n",
    "# Convert the tuple to a set\n",
    "my_set = set(my_tuple)\n",
    "\n",
    "# Print the resulting set\n",
    "print(my_set)\n"
   ]
  },
  {
   "cell_type": "code",
   "execution_count": 68,
   "metadata": {},
   "outputs": [
    {
     "name": "stdout",
     "output_type": "stream",
     "text": [
      "(1, 2, 3, 4, 5)\n"
     ]
    }
   ],
   "source": [
    "    #37. Convert a set to a tuple.\n",
    "# Create a set\n",
    "my_set = {1, 2, 3, 4, 5}\n",
    "\n",
    "# Convert the set to a tuple\n",
    "my_tuple = tuple(my_set)\n",
    "\n",
    "# Print the resulting tuple\n",
    "print(my_tuple)\n"
   ]
  },
  {
   "cell_type": "code",
   "execution_count": 67,
   "metadata": {},
   "outputs": [
    {
     "name": "stdout",
     "output_type": "stream",
     "text": [
      "The maximum value in the set is: 9\n"
     ]
    }
   ],
   "source": [
    "#38. Find the maximum value in a set.\n",
    "# Create a set\n",
    "my_set = {5, 2, 9, 1, 8, 3}\n",
    "\n",
    "# Find the maximum value in the set using the 'max()' function\n",
    "max_value = max(my_set)\n",
    "\n",
    "# Print the maximum value\n",
    "print(\"The maximum value in the set is:\", max_value)\n"
   ]
  },
  {
   "cell_type": "code",
   "execution_count": 66,
   "metadata": {},
   "outputs": [
    {
     "name": "stdout",
     "output_type": "stream",
     "text": [
      "The minimum value in the set is: 1\n"
     ]
    }
   ],
   "source": [
    "#39. Find the minimum value in a set.\n",
    "# Create a set\n",
    "my_set = {5, 2, 9, 1, 8, 3}\n",
    "\n",
    "# Find the minimum value in the set using the 'min()' function\n",
    "min_value = min(my_set)\n",
    "\n",
    "# Print the minimum value\n",
    "print(\"The minimum value in the set is:\", min_value)\n"
   ]
  },
  {
   "cell_type": "code",
   "execution_count": 65,
   "metadata": {},
   "outputs": [
    {
     "name": "stdout",
     "output_type": "stream",
     "text": [
      "Set from user input: {'d', '3232', 'ec', '2'}\n"
     ]
    }
   ],
   "source": [
    "#40. Create a set from user input.\n",
    "# Create an empty set\n",
    "user_set = set()\n",
    "\n",
    "# Prompt the user to enter values until they are done\n",
    "while True:\n",
    "    user_input = input(\"Enter a value (or 'done' to finish): \")\n",
    "    \n",
    "    # Check if the user wants to finish\n",
    "    if user_input.lower() == 'done':\n",
    "        break\n",
    "    \n",
    "    user_set.add(user_input)\n",
    "\n",
    "# Print the set created from user input\n",
    "print(\"Set from user input:\", user_set)\n"
   ]
  },
  {
   "cell_type": "code",
   "execution_count": 64,
   "metadata": {},
   "outputs": [
    {
     "name": "stdout",
     "output_type": "stream",
     "text": [
      "The intersection of the sets is empty.\n"
     ]
    }
   ],
   "source": [
    "#41. Check if the intersection of two sets is empty.\n",
    "# Create two sets\n",
    "set1 = {1, 2, 3}\n",
    "set2 = {4, 5, 6}\n",
    "\n",
    "# Check if the intersection of the sets is empty using the 'isdisjoint()' method\n",
    "intersection_is_empty = set1.isdisjoint(set2)\n",
    "\n",
    "# Print the result\n",
    "if intersection_is_empty:\n",
    "    print(\"The intersection of the sets is empty.\")\n",
    "else:\n",
    "    print(\"The intersection of the sets is not empty.\")\n"
   ]
  },
  {
   "cell_type": "code",
   "execution_count": 63,
   "metadata": {},
   "outputs": [
    {
     "name": "stdout",
     "output_type": "stream",
     "text": [
      "{0, 1, 2, 3}\n"
     ]
    }
   ],
   "source": [
    "#42. Create a set of the first 5 Fibonacci numbers.\n",
    "# Function to generate the first n Fibonacci numbers\n",
    "def generate_fibonacci(n):\n",
    "    fibonacci_set = set()\n",
    "    a, b = 0, 1\n",
    "    for _ in range(n):\n",
    "        fibonacci_set.add(a)\n",
    "        a, b = b, a + b\n",
    "    return fibonacci_set\n",
    "\n",
    "# Create a set of the first 5 Fibonacci numbers\n",
    "fibonacci_numbers_set = generate_fibonacci(5)\n",
    "\n",
    "# Print the set of Fibonacci numbers\n",
    "print(fibonacci_numbers_set)\n"
   ]
  },
  {
   "cell_type": "code",
   "execution_count": 74,
   "metadata": {},
   "outputs": [
    {
     "name": "stdout",
     "output_type": "stream",
     "text": [
      "[1, 2, 3, 4, 5]\n"
     ]
    }
   ],
   "source": [
    "#43. Remove duplicates from a list using sets.\n",
    "# Create a list with duplicates\n",
    "my_list = [1, 2, 2, 3, 4, 4, 5]\n",
    "\n",
    "# Remove duplicates using sets and convert back to a list\n",
    "my_list_without_duplicates = list(set(my_list))\n",
    "\n",
    "# Print the list without duplicates\n",
    "print(my_list_without_duplicates)\n"
   ]
  },
  {
   "cell_type": "code",
   "execution_count": 75,
   "metadata": {},
   "outputs": [
    {
     "name": "stdout",
     "output_type": "stream",
     "text": [
      "The sets have the same elements.\n"
     ]
    }
   ],
   "source": [
    "#44. Check if two sets have the same elements, regardless of their count.\n",
    "# Create two sets\n",
    "set1 = {1, 2, 3, 4, 5}\n",
    "set2 = {5, 4, 3, 2, 1}\n",
    "\n",
    "# Check if the sets have the same elements\n",
    "have_same_elements = set1 == set2\n",
    "\n",
    "if have_same_elements:\n",
    "    print(\"The sets have the same elements.\")\n",
    "else:\n",
    "    print(\"The sets do not have the same elements.\")\n"
   ]
  },
  {
   "cell_type": "code",
   "execution_count": 76,
   "metadata": {},
   "outputs": [
    {
     "name": "stdout",
     "output_type": "stream",
     "text": [
      "{1, 2, 4, 8, 16}\n"
     ]
    }
   ],
   "source": [
    "#45. Create a set of the first `n` powers of 2.\n",
    "# Define the value of 'n' (the number of powers of 2 you want)\n",
    "n = 5\n",
    "\n",
    "# Create a set of the first 'n' powers of 2 using a set comprehension\n",
    "powers_of_2_set = {2 ** i for i in range(n)}\n",
    "\n",
    "# Print the set of powers of 2\n",
    "print(powers_of_2_set)\n"
   ]
  },
  {
   "cell_type": "code",
   "execution_count": 77,
   "metadata": {},
   "outputs": [
    {
     "name": "stdout",
     "output_type": "stream",
     "text": [
      "Common elements: [3, 4, 5]\n"
     ]
    }
   ],
   "source": [
    "#46. Find the common elements between a set and a list.\n",
    "# Create a set\n",
    "my_set = {1, 2, 3, 4, 5}\n",
    "\n",
    "# Create a list\n",
    "my_list = [3, 4, 5, 6, 7]\n",
    "\n",
    "# Find the common elements between the set and the list\n",
    "common_elements = my_set.intersection(my_list)\n",
    "\n",
    "# Convert the result back to a list if needed\n",
    "common_elements_list = list(common_elements)\n",
    "\n",
    "# Print the common elements\n",
    "print(\"Common elements:\", common_elements_list)\n"
   ]
  },
  {
   "cell_type": "code",
   "execution_count": 79,
   "metadata": {},
   "outputs": [
    {
     "name": "stdout",
     "output_type": "stream",
     "text": [
      "{1, 3, 6, 10, 15}\n"
     ]
    }
   ],
   "source": [
    "#47. Create a set of the first `n` triangular numbers.\n",
    "# Define the value of 'n' (the number of triangular numbers you want)\n",
    "n = 5\n",
    "\n",
    "# Create a set of the first 'n' triangular numbers\n",
    "triangular_numbers_set = set()\n",
    "triangular_number = 0\n",
    "\n",
    "for i in range(1, n + 1):\n",
    "    triangular_number += i\n",
    "    triangular_numbers_set.add(triangular_number)\n",
    "\n",
    "# Print the set of triangular numbers\n",
    "print(triangular_numbers_set)\n"
   ]
  },
  {
   "cell_type": "code",
   "execution_count": 80,
   "metadata": {},
   "outputs": [
    {
     "name": "stdout",
     "output_type": "stream",
     "text": [
      "set2 is a subset of set1.\n"
     ]
    }
   ],
   "source": [
    "#48. Check if a set contains another set as a subset.\n",
    "# Create two sets\n",
    "set1 = {1, 2, 3, 4, 5}\n",
    "set2 = {2, 3}\n",
    "\n",
    "# Check if set2 is a subset of set1 using the 'issubset()' method\n",
    "is_subset = set2.issubset(set1)\n",
    "\n",
    "if is_subset:\n",
    "    print(\"set2 is a subset of set1.\")\n",
    "else:\n",
    "    print(\"set2 is not a subset of set1.\")\n"
   ]
  },
  {
   "cell_type": "code",
   "execution_count": 83,
   "metadata": {},
   "outputs": [
    {
     "name": "stdout",
     "output_type": "stream",
     "text": [
      "{0, 1}\n"
     ]
    }
   ],
   "source": [
    "#49. Create a set of alternating 1s and 0s of length `n`.\n",
    "# Define the length 'n'\n",
    "n = 15\n",
    "\n",
    "# Create a set of alternating 1s and 0s of length 'n' using a set comprehension\n",
    "alternating_set = {1 if i % 2 == 0 else 0 for i in range(n)}\n",
    "\n",
    "# Print the resulting set\n",
    "print(alternating_set)\n"
   ]
  },
  {
   "cell_type": "code",
   "execution_count": 84,
   "metadata": {},
   "outputs": [
    {
     "name": "stdout",
     "output_type": "stream",
     "text": [
      "{1, 2, 3, 4, 5, 6, 7}\n"
     ]
    }
   ],
   "source": [
    "#50. Merge multiple sets into one.\n",
    "def merge_sets(*sets):\n",
    "\n",
    "    merged_set = set()\n",
    "    for s in sets:\n",
    "        merged_set.update(s)\n",
    "    return merged_set\n",
    "\n",
    "# Example usage:\n",
    "set1 = {1, 2, 3}\n",
    "set2 = {3, 4, 5}\n",
    "set3 = {5, 6, 7}\n",
    "\n",
    "merged_set = merge_sets(set1, set2, set3)\n",
    "print(merged_set)\n"
   ]
  },
  {
   "cell_type": "code",
   "execution_count": null,
   "metadata": {},
   "outputs": [],
   "source": [
    "########################################      DONE               ###################################################"
   ]
  }
 ],
 "metadata": {
  "kernelspec": {
   "display_name": "Python 3",
   "language": "python",
   "name": "python3"
  },
  "language_info": {
   "codemirror_mode": {
    "name": "ipython",
    "version": 3
   },
   "file_extension": ".py",
   "mimetype": "text/x-python",
   "name": "python",
   "nbconvert_exporter": "python",
   "pygments_lexer": "ipython3",
   "version": "3.11.5"
  },
  "orig_nbformat": 4
 },
 "nbformat": 4,
 "nbformat_minor": 2
}
