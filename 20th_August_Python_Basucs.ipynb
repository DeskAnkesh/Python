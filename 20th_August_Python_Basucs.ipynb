{
 "cells": [
  {
   "cell_type": "code",
   "execution_count": 7,
   "metadata": {},
   "outputs": [
    {
     "name": "stdout",
     "output_type": "stream",
     "text": [
      "era woh uoy era woh olleH\n"
     ]
    }
   ],
   "source": [
    "\"\"\"\n",
    "1. Write a program to reverse a string.\n",
    "\"\"\"\n",
    "string=input(\"Enter the String you want to reverese: \")\n",
    "string=string[::-1]\n",
    "print(string)"
   ]
  },
  {
   "cell_type": "code",
   "execution_count": 8,
   "metadata": {},
   "outputs": [
    {
     "name": "stdout",
     "output_type": "stream",
     "text": [
      "The given String  are is not a Palindrome\n"
     ]
    }
   ],
   "source": [
    "\"\"\"\n",
    "2. Check if a string is a palindrome.\n",
    "\"\"\"\n",
    "string=input(\"Enter the String you want to check pallindrome: \").lower()\n",
    "string_reversed=string[::-1]\n",
    "if string_reversed == string:\n",
    "  print(f\"The given String  {string} is a Palindrome\" )\n",
    "else:\n",
    "  print(f\"The given String  {string} is not a Palindrome\" )"
   ]
  },
  {
   "cell_type": "code",
   "execution_count": 9,
   "metadata": {},
   "outputs": [
    {
     "name": "stdout",
     "output_type": "stream",
     "text": [
      "upper case of the given string is : \n"
     ]
    }
   ],
   "source": [
    "\"\"\"\n",
    "3.Convert a string to uppercase.\n",
    "\"\"\"\n",
    "string=input(\"Enter the String you want to convert to  uppercase: \")\n",
    "\n",
    "print(\"upper case of the given string is : \" +string.upper())"
   ]
  },
  {
   "cell_type": "code",
   "execution_count": 10,
   "metadata": {},
   "outputs": [
    {
     "name": "stdout",
     "output_type": "stream",
     "text": [
      "lower case of the given string is : \n"
     ]
    }
   ],
   "source": [
    "\"\"\"\n",
    "4. Convert a string to lowercase.\n",
    "\"\"\"\n",
    "string=input(\"Enter the String you want to convert to  uppercase: \")\n",
    "\n",
    "print(\"lower case of the given string is : \" +string.lower())"
   ]
  },
  {
   "cell_type": "code",
   "execution_count": 11,
   "metadata": {},
   "outputs": [
    {
     "name": "stdout",
     "output_type": "stream",
     "text": [
      "Number of vowel in the String  is 0\n"
     ]
    }
   ],
   "source": [
    "\"\"\"\n",
    "5. Count the number of vowels in a string.\n",
    "\"\"\"\n",
    "string=input(\"Enter the String you want to count  to  vowel: \").lower()\n",
    "\n",
    "count =0\n",
    "vowels=['a','e','i','o','u']\n",
    "for v in string:\n",
    "  if v in vowels:\n",
    "    count+=1\n",
    "\n",
    "print(f\"Number of vowel in the String {string} is {count}\")"
   ]
  },
  {
   "cell_type": "code",
   "execution_count": 12,
   "metadata": {},
   "outputs": [
    {
     "name": "stdout",
     "output_type": "stream",
     "text": [
      "Number of consonent in the String  is 0\n"
     ]
    }
   ],
   "source": [
    "\"\"\"\n",
    "6. Count the number of consonants in a string.\n",
    "\"\"\"\n",
    "string=input(\"Enter the String you want to count  to  consonant: \").lower()\n",
    "\n",
    "count =0\n",
    "vowels=['a','e','i','o','u']\n",
    "for v in string:\n",
    "  if v not in vowels:\n",
    "    count+=1\n",
    "  \n",
    "  \n",
    "print(f\"Number of consonent in the String {string} is {count}\")\n"
   ]
  },
  {
   "cell_type": "code",
   "execution_count": 13,
   "metadata": {},
   "outputs": [
    {
     "name": "stdout",
     "output_type": "stream",
     "text": [
      "String without white spaces is \n"
     ]
    }
   ],
   "source": [
    "\"\"\"\n",
    "7. Remove all whitespaces from a string.\n",
    "\"\"\"\n",
    "# Input a string from the user\n",
    "input_string = input(\"Enter a string: \")\n",
    "\n",
    "# Remove spaces and convert the string to lowercase for case-insensitive comparison\n",
    "cleaned_string = input_string.replace(\" \", \"\")\n",
    "print(f\"String without white spaces is {cleaned_string}\")"
   ]
  },
  {
   "cell_type": "code",
   "execution_count": 14,
   "metadata": {},
   "outputs": [
    {
     "name": "stdout",
     "output_type": "stream",
     "text": [
      "The lenth of the string is 0\n"
     ]
    }
   ],
   "source": [
    "\"\"\"\n",
    "8 Find the length of a string without using the `len()` function.\n",
    "\"\"\"\n",
    "# Input a string from the user\n",
    "input_string = input(\"Enter a string: \")\n",
    "count =0\n",
    "for character in input_string:\n",
    "  count+=1\n",
    "print(f\"The lenth of the string is {count}\")"
   ]
  },
  {
   "cell_type": "code",
   "execution_count": 15,
   "metadata": {},
   "outputs": [
    {
     "name": "stdout",
     "output_type": "stream",
     "text": [
      "the word  is there is the \n"
     ]
    }
   ],
   "source": [
    "\"\"\"\n",
    "9. Check if a string contains a specific word.\n",
    "\"\"\"\n",
    "# Input a string from the user\n",
    "input_string = input(\"Enter a string: \")\n",
    "specific_word=input(\"Enter the word you are looking: \")\n",
    "if specific_word in input_string:\n",
    "  print(f\"the word {specific_word} is there is the {input_string}\")\n",
    "else:\n",
    "    print(f\"the word {specific_word} is there is not in the {input_string}\")"
   ]
  },
  {
   "cell_type": "code",
   "execution_count": 16,
   "metadata": {},
   "outputs": [
    {
     "name": "stdout",
     "output_type": "stream",
     "text": [
      "Hi\n"
     ]
    }
   ],
   "source": [
    "\"\"\"  \n",
    "10. Replace a word in a string with another word.\n",
    "\"\"\"\n",
    "input_string = input(\"Enter a string: \")\n",
    "old_word=input(\"Enter the word you want to replace: \")\n",
    "new_word=input(\"Enter the word you want to replace with: \")\n",
    "\n",
    "new_string = input_string.replace(old_word, new_word)\n",
    "print(new_string)"
   ]
  },
  {
   "cell_type": "code",
   "execution_count": 20,
   "metadata": {},
   "outputs": [
    {
     "name": "stdout",
     "output_type": "stream",
     "text": [
      "The word 'sample' last appears at index 75.\n"
     ]
    }
   ],
   "source": [
    "\"\"\"\n",
    "11 Find first occurance\n",
    "\n",
    "\"\"\"\n",
    "sentence=input(\"Enter the sentence : \")\n",
    "word=input(\"Enter the word you were looking: \")\n",
    "def find_first_occurrence(word, sentence):\n",
    "    index = sentence.find(word)\n",
    "    return index\n",
    "\n",
    "\n",
    "index = find_first_occurrence(word, sentence)\n",
    "if index != -1:\n",
    "    print(f\"The word '{word}' first appears at index {index}.\")\n",
    "else:\n",
    "    print(f\"The word '{word}' was not found in the sentence.\")\n"
   ]
  },
  {
   "cell_type": "code",
   "execution_count": 18,
   "metadata": {},
   "outputs": [
    {
     "data": {
      "text/plain": [
       "18"
      ]
     },
     "execution_count": 18,
     "metadata": {},
     "output_type": "execute_result"
    }
   ],
   "source": [
    "\"\"\"\n",
    "12 Find Last Occurance\n",
    "\"\"\"\n",
    "sentence=input(\"Enter the Sentence : \")\n",
    "word=input(\"Enter the target word: \")\n",
    "\n",
    "def find_last_occurrence(word, sentence):\n",
    "    index = sentence.rfind(word)\n",
    "    return index\n",
    "\n",
    "\n",
    "index = find_last_occurrence(word, sentence)\n",
    "if index != -1:\n",
    "    print(f\"The word '{word}' last appears at index {index}.\")\n",
    "else:\n",
    "    print(f\"The word '{word}' was not found in the sentence.\")\n"
   ]
  },
  {
   "cell_type": "code",
   "execution_count": 21,
   "metadata": {},
   "outputs": [
    {
     "name": "stdout",
     "output_type": "stream",
     "text": [
      "the splited word fron the setntence is ['Hello', 'how', 'are', 'you', 'doing?']\n"
     ]
    }
   ],
   "source": [
    "\"\"\"\n",
    "13 Split String into words\n",
    "\"\"\"\n",
    "sentence=input(\"Enter the sentence: \")\n",
    "def split_string_into_words(input_string):\n",
    "    words_list = input_string.split()\n",
    "    return words_list\n",
    "print(f\"the splited word fron the setntence is {split_string_into_words(sentence)}\")"
   ]
  },
  {
   "cell_type": "code",
   "execution_count": 1,
   "metadata": {},
   "outputs": [
    {
     "name": "stdout",
     "output_type": "stream",
     "text": [
      "The word 'things' appears 1 times in the text.\n"
     ]
    }
   ],
   "source": [
    "\"\"\"\n",
    "14 Count the occurance of the word\n",
    "\"\"\"\n",
    "def count_word_occurrences(text, word):\n",
    "    words = text.lower().split()  # Split the text into words and convert to lowercase\n",
    "    word_count = words.count(word.lower())  # Count the occurrences of the word\n",
    "    \n",
    "    return word_count\n",
    "\n",
    "input_text = input(\"Enter the String\")\n",
    "target_word = input(\"Enter the target word\")\n",
    "result = count_word_occurrences(input_text, target_word)\n",
    "print(f\"The word '{target_word}' appears {result} times in the text.\")\n",
    "\n"
   ]
  },
  {
   "cell_type": "code",
   "execution_count": 3,
   "metadata": {},
   "outputs": [
    {
     "name": "stdout",
     "output_type": "stream",
     "text": [
      "['This', 'is', 'a', 'list']\n",
      "Joined string: This is a list\n"
     ]
    }
   ],
   "source": [
    "\"\"\"\n",
    "15. Join a list of words into a string.\n",
    "\"\"\"\n",
    "word_list = input(\"Enter a list of words, separated by spaces: \").split()\n",
    "print(word_list)\n",
    "separator = \" \"  # This is the string that will be used to separate the words\n",
    "\n",
    "result_string = separator.join(word_list)\n",
    "print(\"Joined string:\", result_string)\n"
   ]
  },
  {
   "cell_type": "code",
   "execution_count": 4,
   "metadata": {},
   "outputs": [
    {
     "name": "stdout",
     "output_type": "stream",
     "text": [
      "Converted string: Hello_how_are_you_doing?\n"
     ]
    }
   ],
   "source": [
    "\"\"\"\n",
    "16. Convert a string where words are separated by spaces to one where words\n",
    "are separated by underscores.\n",
    "\"\"\"\n",
    "input_string = input(\"Enter a string with words separated by spaces: \")\n",
    "output_string = input_string.replace(\" \", \"_\")\n",
    "\n",
    "print(\"Converted string:\", output_string)\n",
    "\n"
   ]
  },
  {
   "cell_type": "code",
   "execution_count": 5,
   "metadata": {},
   "outputs": [
    {
     "name": "stdout",
     "output_type": "stream",
     "text": [
      "The string starts with 'Hello'.\n"
     ]
    }
   ],
   "source": [
    "\"\"\"\n",
    "17. Check if a string starts with a specific word or phrase.\n",
    "\"\"\"\n",
    "input_string = input(\"Enter a string: \")\n",
    "target_word = input(\"Enter the Target word\")\n",
    "\n",
    "if input_string.startswith(target_word):\n",
    "    print(f\"The string starts with '{target_word}'.\")\n",
    "else:\n",
    "    print(f\"The string does not start with '{target_word}'.\")\n"
   ]
  },
  {
   "cell_type": "code",
   "execution_count": 6,
   "metadata": {},
   "outputs": [
    {
     "name": "stdout",
     "output_type": "stream",
     "text": [
      "The string does not end with 'Hello how'.\n"
     ]
    }
   ],
   "source": [
    "\"\"\"\n",
    "18. Check if a string ends with a specific word or phrase\n",
    "\"\"\"\n",
    "input_string = input(\"Enter a string: \")\n",
    "target_word =input(\"Enter the target word \")  # The word or phrase you want to check for\n",
    "\n",
    "if input_string.endswith(target_word):\n",
    "    print(f\"The string ends with '{target_word}'.\")\n",
    "else:\n",
    "    print(f\"The string does not end with '{target_word}'.\")\n"
   ]
  },
  {
   "cell_type": "code",
   "execution_count": 7,
   "metadata": {},
   "outputs": [
    {
     "name": "stdout",
     "output_type": "stream",
     "text": [
      "Title case: Hello World How Are You Doing?\n"
     ]
    }
   ],
   "source": [
    "\"\"\"\n",
    "19. Convert a string to title case (e.g., \"hello world\" to \"Hello World\").\n",
    "\"\"\"\n",
    "input_string = input(\"Enter a string: \")\n",
    "title_case_string = input_string.title()\n",
    "\n",
    "print(\"Title case:\", title_case_string)\n"
   ]
  },
  {
   "cell_type": "code",
   "execution_count": 8,
   "metadata": {},
   "outputs": [
    {
     "name": "stdout",
     "output_type": "stream",
     "text": [
      "Longest word: missicccipii?\n"
     ]
    }
   ],
   "source": [
    "\"\"\"\n",
    "20. Find the longest word in a string.\n",
    "\"\"\"\n",
    "def find_longest_word(input_string):\n",
    "    words = input_string.split()  # Split the string into words\n",
    "    longest_word = max(words, key=len)  # Find the word with the maximum length\n",
    "    return longest_word\n",
    "\n",
    "input_string = input(\"Enter a string: \")\n",
    "longest_word = find_longest_word(input_string)\n",
    "print(\"Longest word:\", longest_word)\n"
   ]
  },
  {
   "cell_type": "code",
   "execution_count": 9,
   "metadata": {},
   "outputs": [
    {
     "name": "stdout",
     "output_type": "stream",
     "text": [
      "Shortest word: is\n"
     ]
    }
   ],
   "source": [
    "#21. Find the shortest word in a string.\n",
    "def find_shortest_word(input_string):\n",
    "    words = input_string.split()  # Split the string into words\n",
    "    shortest_word = min(words, key=len)  # Find the word with the minimum length\n",
    "    return shortest_word\n",
    "\n",
    "input_string = input(\"Enter a string: \")\n",
    "shortest_word = find_shortest_word(input_string)\n",
    "print(\"Shortest word:\", shortest_word)\n"
   ]
  },
  {
   "cell_type": "code",
   "execution_count": 10,
   "metadata": {},
   "outputs": [
    {
     "name": "stdout",
     "output_type": "stream",
     "text": [
      "Reversed string: entence reversed is This\n"
     ]
    }
   ],
   "source": [
    "#22. Reverse the order of words in a string.\n",
    "def reverse_words(input_string):\n",
    "    words = input_string.split()  # Split the string into words\n",
    "    reversed_words = \" \".join(reversed(words))  # Join the reversed words with spaces\n",
    "    return reversed_words\n",
    "\n",
    "input_string = input(\"Enter a string: \")\n",
    "reversed_string = reverse_words(input_string)\n",
    "print(\"Reversed string:\", reversed_string)\n"
   ]
  },
  {
   "cell_type": "code",
   "execution_count": 11,
   "metadata": {},
   "outputs": [
    {
     "name": "stdout",
     "output_type": "stream",
     "text": [
      "The string is not alphanumeric.\n"
     ]
    }
   ],
   "source": [
    "#23. Check if a string is alphanumeric.\n",
    "input_string = input(\"Enter a string: \")\n",
    "\n",
    "if input_string.isalnum():\n",
    "    print(\"The string is alphanumeric.\")\n",
    "else:\n",
    "    print(\"The string is not alphanumeric.\")\n"
   ]
  },
  {
   "cell_type": "code",
   "execution_count": 12,
   "metadata": {},
   "outputs": [
    {
     "name": "stdout",
     "output_type": "stream",
     "text": [
      "Extracted digits: 114240\n"
     ]
    }
   ],
   "source": [
    "#24. Extract all digits from a string.\n",
    "def extract_digits(input_string):\n",
    "    digits = \"\"\n",
    "    for char in input_string:\n",
    "        if char.isdigit():\n",
    "            digits += char\n",
    "    return digits\n",
    "\n",
    "input_string = input(\"Enter a string: \")\n",
    "extracted_digits = extract_digits(input_string)\n",
    "print(\"Extracted digits:\", extracted_digits)\n"
   ]
  },
  {
   "cell_type": "code",
   "execution_count": 13,
   "metadata": {},
   "outputs": [
    {
     "name": "stdout",
     "output_type": "stream",
     "text": [
      "Extracted letters: Helloworld\n"
     ]
    }
   ],
   "source": [
    "#25. Extract all alphabets from a string.\n",
    "def extract_letters(input_string):\n",
    "    letters = \"\"\n",
    "    for char in input_string:\n",
    "        if char.isalpha():\n",
    "            letters += char\n",
    "    return letters\n",
    "\n",
    "input_string = input(\"Enter a string: \")\n",
    "extracted_letters = extract_letters(input_string)\n",
    "print(\"Extracted letters:\", extracted_letters)\n"
   ]
  },
  {
   "cell_type": "code",
   "execution_count": 14,
   "metadata": {},
   "outputs": [
    {
     "name": "stdout",
     "output_type": "stream",
     "text": [
      "Number of uppercase letters: 3\n"
     ]
    }
   ],
   "source": [
    "#26. Count the number of uppercase letters in a string.\n",
    "def count_uppercase_letters(input_string):\n",
    "    count = 0\n",
    "    for char in input_string:\n",
    "        if char.isupper():\n",
    "            count += 1\n",
    "    return count\n",
    "\n",
    "input_string = input(\"Enter a string: \")\n",
    "uppercase_count = count_uppercase_letters(input_string)\n",
    "print(\"Number of uppercase letters:\", uppercase_count)\n"
   ]
  },
  {
   "cell_type": "code",
   "execution_count": 15,
   "metadata": {},
   "outputs": [
    {
     "name": "stdout",
     "output_type": "stream",
     "text": [
      "Number of lowercase letters: 40\n"
     ]
    }
   ],
   "source": [
    "#27. Count the number of lowercase letters in a string.\n",
    "def count_lowercase_letters(input_string):\n",
    "    count = 0\n",
    "    for char in input_string:\n",
    "        if char.islower():\n",
    "            count += 1\n",
    "    return count\n",
    "\n",
    "input_string = input(\"Enter a string: \")\n",
    "lowercase_count = count_lowercase_letters(input_string)\n",
    "print(\"Number of lowercase letters:\", lowercase_count)\n"
   ]
  },
  {
   "cell_type": "code",
   "execution_count": 16,
   "metadata": {},
   "outputs": [
    {
     "name": "stdout",
     "output_type": "stream",
     "text": [
      "Swapped case string: 28. sWAP THE CASE OF EACH CHARACTER IN A STRING.\n"
     ]
    }
   ],
   "source": [
    "#28. Swap the case of each character in a string.\n",
    "input_string = input(\"Enter a string: \")\n",
    "swapped_string = input_string.swapcase()\n",
    "print(\"Swapped case string:\", swapped_string)\n"
   ]
  },
  {
   "cell_type": "code",
   "execution_count": 18,
   "metadata": {},
   "outputs": [
    {
     "name": "stdout",
     "output_type": "stream",
     "text": [
      "Modified string: 29. Remove a specific  from a string.\n"
     ]
    }
   ],
   "source": [
    "#29. Remove a specific word from a string\n",
    "input_string = input(\"Enter a string: \")\n",
    "word_to_remove = input(\"Enter the word to remove: \")\n",
    "\n",
    "modified_string = input_string.replace(word_to_remove, \"\")\n",
    "print(\"Modified string:\", modified_string)\n"
   ]
  },
  {
   "cell_type": "code",
   "execution_count": 21,
   "metadata": {},
   "outputs": [
    {
     "name": "stdout",
     "output_type": "stream",
     "text": [
      "Valid email address.ankesh@gmail.com"
     ]
    }
   ],
   "source": [
    "#30. Check if a string is a valid email address.\n",
    "import re\n",
    "\n",
    "def is_valid_email(email):\n",
    "    pattern = r'^[\\w\\.-]+@[\\w\\.-]+\\.\\w+$'\n",
    "    return re.match(pattern, email) is not None\n",
    "\n",
    "input_email = input(\"Enter an email address: \")\n",
    "if is_valid_email(input_email):\n",
    "    print(\"Valid email address. \",end=input_email)\n",
    "else:\n",
    "    print(\"Invalid email address. \",end=input_email)\n"
   ]
  },
  {
   "cell_type": "code",
   "execution_count": 22,
   "metadata": {},
   "outputs": [
    {
     "name": "stdout",
     "output_type": "stream",
     "text": [
      "Extracted username: ankesh\n"
     ]
    }
   ],
   "source": [
    "#31. Extract the username from an email address string.\n",
    "def extract_username(email):\n",
    "    username = email.split('@')[0]\n",
    "    return username\n",
    "\n",
    "input_email = input(\"Enter an email address: \")\n",
    "username = extract_username(input_email)\n",
    "print(\"Extracted username:\", username)\n"
   ]
  },
  {
   "cell_type": "code",
   "execution_count": 23,
   "metadata": {},
   "outputs": [
    {
     "name": "stdout",
     "output_type": "stream",
     "text": [
      "Extracted domain: gmail.com\n"
     ]
    }
   ],
   "source": [
    "#32. Extract the domain name from an email address string.\n",
    "def extract_domain(email):\n",
    "    domain = email.split('@')[1]\n",
    "    return domain\n",
    "\n",
    "input_email = input(\"Enter an email address: \")\n",
    "domain = extract_domain(input_email)\n",
    "print(\"Extracted domain:\", domain)\n"
   ]
  },
  {
   "cell_type": "code",
   "execution_count": 24,
   "metadata": {},
   "outputs": [
    {
     "name": "stdout",
     "output_type": "stream",
     "text": [
      "This is input String This is space       and very space  I am wrtiting this too test \n",
      "Modified string: This is space and very space I am wrtiting this too test \n"
     ]
    }
   ],
   "source": [
    "#33. Replace multiple spaces in a string with a single space.\n",
    "def replace_multiple_spaces(input_string):\n",
    "    while \"  \" in input_string:\n",
    "        input_string = input_string.replace(\"  \", \" \")\n",
    "    return input_string\n",
    "\n",
    "input_string = input(\"Enter a string: \")\n",
    "modified_string = replace_multiple_spaces(input_string)\n",
    "print(f\"This is input String {input_string}\")\n",
    "print(\"Modified string:\", modified_string)\n"
   ]
  },
  {
   "cell_type": "code",
   "execution_count": 27,
   "metadata": {},
   "outputs": [
    {
     "name": "stdout",
     "output_type": "stream",
     "text": [
      "Valid URL. https://drive.google.com/file/d/1q2FG27cypBxxldsz32YjxCtHlupki8jJ/view"
     ]
    }
   ],
   "source": [
    "#34. Check if a string is a valid URL.\n",
    "import re\n",
    "\n",
    "def is_valid_url(url):\n",
    "    pattern = r'^(http|https|ftp)://[a-zA-Z0-9.-]+\\.[a-zA-Z]{2,4}(/.*)?$'\n",
    "    return re.match(pattern, url) is not None\n",
    "\n",
    "input_url = input(\"Enter a URL: \")\n",
    "if is_valid_url(input_url):\n",
    "    print(\"Valid URL. \",end=input_url)\n",
    "else:\n",
    "    print(\"Invalid URL. \",end=index)\n"
   ]
  },
  {
   "cell_type": "code",
   "execution_count": 28,
   "metadata": {},
   "outputs": [
    {
     "name": "stdout",
     "output_type": "stream",
     "text": [
      "Extracted protocol: https\n"
     ]
    }
   ],
   "source": [
    "#35. Extract the protocol (http or https) from a URL string.\n",
    "from urllib.parse import urlparse\n",
    "\n",
    "def extract_protocol(url):\n",
    "    parsed_url = urlparse(url)\n",
    "    return parsed_url.scheme\n",
    "\n",
    "input_url = input(\"Enter a URL: \")\n",
    "protocol = extract_protocol(input_url)\n",
    "print(\"Extracted protocol:\", protocol)\n"
   ]
  },
  {
   "cell_type": "code",
   "execution_count": 29,
   "metadata": {},
   "outputs": [
    {
     "name": "stdout",
     "output_type": "stream",
     "text": [
      "Character frequencies:\n",
      "'H': 1\n",
      "'h': 1\n",
      "'e': 1\n",
      "'l': 3\n",
      "'o': 2\n",
      "' ': 1\n",
      "'w': 1\n",
      "'r': 1\n",
      "'d': 1\n"
     ]
    }
   ],
   "source": [
    "#36. Find the frequency of each character in a string.\n",
    "def character_frequency(input_string):\n",
    "    frequency = {}\n",
    "\n",
    "    for char in input_string:\n",
    "        if char in frequency:\n",
    "            frequency[char] += 1\n",
    "        else:\n",
    "            frequency[char] = 1\n",
    "\n",
    "    return frequency\n",
    "\n",
    "input_string = input(\"Enter a string: \")\n",
    "frequency_dict = character_frequency(input_string)\n",
    "\n",
    "print(\"Character frequencies:\")\n",
    "for char, count in frequency_dict.items():\n",
    "    print(f\"'{char}': {count}\")\n"
   ]
  },
  {
   "cell_type": "code",
   "execution_count": 33,
   "metadata": {},
   "outputs": [
    {
     "name": "stdout",
     "output_type": "stream",
     "text": [
      "Original String 37. Remove all :punctuation !from a ?string.\n",
      "Cleaned string: 37 Remove all punctuation from a string\n"
     ]
    }
   ],
   "source": [
    "#37. Remove all punctuation from a string.\n",
    "import string\n",
    "\n",
    "def remove_punctuation(input_string):\n",
    "    translator = str.maketrans('', '', string.punctuation)\n",
    "    clean_string = input_string.translate(translator)\n",
    "    return clean_string\n",
    "\n",
    "input_string = input(\"Enter a string: \")\n",
    "cleaned_string = remove_punctuation(input_string)\n",
    "print(f\"Original String {input_string}\")\n",
    "print(\"Cleaned string:\", cleaned_string)\n"
   ]
  },
  {
   "cell_type": "code",
   "execution_count": 34,
   "metadata": {},
   "outputs": [
    {
     "name": "stdout",
     "output_type": "stream",
     "text": [
      "input string is Hellow world\n",
      "The string does not contain only digits.\n"
     ]
    }
   ],
   "source": [
    "#38. Check if a string contains only digits.\n",
    "input_string = input(\"Enter a string: \")\n",
    "print(f\"input string is {input_string}\")\n",
    "\n",
    "if input_string.isdigit():\n",
    "    print(\"The string contains only digits.\")\n",
    "else:\n",
    "    print(\"The string does not contain only digits.\")\n"
   ]
  },
  {
   "cell_type": "code",
   "execution_count": 35,
   "metadata": {},
   "outputs": [
    {
     "name": "stdout",
     "output_type": "stream",
     "text": [
      "The string does not contain only alphabetic characters.\n"
     ]
    }
   ],
   "source": [
    "#39. Check if a string contains only alphabets. \n",
    "input_string = input(\"Enter a string: \")\n",
    "\n",
    "if input_string.isalpha():\n",
    "    print(\"The string contains only alphabetic characters.\")\n",
    "else:\n",
    "    print(\"The string does not contain only alphabetic characters.\")\n"
   ]
  },
  {
   "cell_type": "code",
   "execution_count": null,
   "metadata": {},
   "outputs": [],
   "source": [
    "#40. Convert a string to a list of characters.\n",
    "input_string = input(\"Enter a string: \")\n",
    "character_list = list(input_string)\n",
    "print(\"List of characters:\", character_list)\n"
   ]
  },
  {
   "cell_type": "code",
   "execution_count": 36,
   "metadata": {},
   "outputs": [
    {
     "name": "stdout",
     "output_type": "stream",
     "text": [
      "The strings are anagrams.\n"
     ]
    }
   ],
   "source": [
    "#41. Check if two strings are anagrams.\n",
    "def are_anagrams(str1, str2):\n",
    "    return sorted(str1) == sorted(str2)\n",
    "\n",
    "input_str1 = input(\"Enter the first string: \")\n",
    "input_str2 = input(\"Enter the second string: \")\n",
    "\n",
    "if are_anagrams(input_str1, input_str2):\n",
    "    print(\"The strings are anagrams.\")\n",
    "else:\n",
    "    print(\"The strings are not anagrams.\")\n",
    "\n"
   ]
  },
  {
   "cell_type": "code",
   "execution_count": 37,
   "metadata": {},
   "outputs": [
    {
     "name": "stdout",
     "output_type": "stream",
     "text": [
      "Original text Hello world\n",
      "Khoor zruog\n"
     ]
    }
   ],
   "source": [
    "#42. Encode a string using a Caesar cipher.\n",
    "def caesar_cipher_encode(text, shift):\n",
    "    encoded_text = \"\"\n",
    "\n",
    "    for char in text:\n",
    "        if char.isalpha():\n",
    "            if char.islower():\n",
    "                encoded_char = chr((ord(char) - ord('a' ) + shift) % 26 + ord('a'))\n",
    "            else:\n",
    "                encoded_char = chr((ord(char) - ord('A') + shift) % 26 + ord('A'))\n",
    "        else:\n",
    "            encoded_char = char\n",
    "        encoded_text += encoded_char\n",
    "\n",
    "    return encoded_text\n",
    "\n",
    "# Example usage\n",
    "plaintext =input(\"Enter the string\")\n",
    "shift = 3\n",
    "encoded_text = caesar_cipher_encode(plaintext, shift)\n",
    "print(f\"Original text {plaintext}\")\n",
    "print(encoded_text)\n"
   ]
  },
  {
   "cell_type": "code",
   "execution_count": 38,
   "metadata": {},
   "outputs": [
    {
     "name": "stdout",
     "output_type": "stream",
     "text": [
      "Original String Hello world\n",
      "Hello, World!\n"
     ]
    }
   ],
   "source": [
    "#43. Decode a Caesar cipher encoded string.\n",
    "def caesar_cipher_decode(encoded_text, shift):\n",
    "    decoded_text = \"\"\n",
    "\n",
    "    for char in encoded_text:\n",
    "        if char.isalpha():\n",
    "            if char.islower():\n",
    "                decoded_char = chr((ord(char) - ord('a' ) - shift) % 26 + ord('a'))\n",
    "            else:\n",
    "                decoded_char = chr((ord(char) - ord('A') - shift) % 26 + ord('A'))\n",
    "        else:\n",
    "            decoded_char = char\n",
    "        decoded_text += decoded_char\n",
    "\n",
    "    return decoded_text\n",
    "\n",
    "# Example usage\n",
    "encoded_text = input(\"Enter string \") \n",
    "shift = 3\n",
    "decoded_text = caesar_cipher_decode(encoded_text, shift)\n",
    "print(\"Original String \"+plaintext)\n",
    "print(decoded_text)\n"
   ]
  },
  {
   "cell_type": "code",
   "execution_count": 39,
   "metadata": {},
   "outputs": [
    {
     "name": "stdout",
     "output_type": "stream",
     "text": [
      "The most frequent word is: this\n",
      "It appears 2 times.\n"
     ]
    }
   ],
   "source": [
    "#44. Find the most frequent word in a string.\n",
    "from collections import Counter\n",
    "import re\n",
    "\n",
    "def most_frequent_word(text):\n",
    "    # Remove punctuation and convert to lowercase\n",
    "    cleaned_text = re.sub(r'[^\\w\\s]', '', text).lower()\n",
    "\n",
    "    # Split the cleaned text into words\n",
    "    words = cleaned_text.split()\n",
    "\n",
    "    # Count the frequency of each word\n",
    "    word_counts = Counter(words)\n",
    "\n",
    "    # Find the most common word\n",
    "    most_common_word = word_counts.most_common(1)[0]\n",
    "\n",
    "    return most_common_word\n",
    "\n",
    "# Example usage\n",
    "input_text =input(\"Enter the String\") \n",
    "result = most_frequent_word(input_text)\n",
    "print(\"The most frequent word is:\", result[0])\n",
    "print(\"It appears\", result[1], \"times.\")\n"
   ]
  },
  {
   "cell_type": "code",
   "execution_count": 40,
   "metadata": {},
   "outputs": [
    {
     "name": "stdout",
     "output_type": "stream",
     "text": [
      "Unique words: {'test', 'this', 'is', 'only', 'a'}\n"
     ]
    }
   ],
   "source": [
    "#45. Find all unique words in a string.\n",
    "import re\n",
    "\n",
    "def unique_words(text):\n",
    "    # Remove punctuation and convert to lowercase\n",
    "    cleaned_text = re.sub(r'[^\\w\\s]', '', text).lower()\n",
    "\n",
    "    # Split the cleaned text into words\n",
    "    words = cleaned_text.split()\n",
    "\n",
    "    # Get unique words using set\n",
    "    unique_words_set = set(words)\n",
    "\n",
    "    return unique_words_set\n",
    "\n",
    "# Example usage\n",
    "input_text = input(\"Enter the string\")\n",
    "unique_words_set = unique_words(input_text)\n",
    "print(\"Unique words:\", unique_words_set)\n"
   ]
  },
  {
   "cell_type": "code",
   "execution_count": 44,
   "metadata": {},
   "outputs": [
    {
     "name": "stdout",
     "output_type": "stream",
     "text": [
      "Total syllables: 11\n"
     ]
    }
   ],
   "source": [
    "#46. Count the number of syllables in a string.\n",
    "import re\n",
    "\n",
    "def count_syllables(word):\n",
    "    # Using a regular expression to identify vowel sequences\n",
    "    vowels = re.findall(r'[aeiouy]+', word, re.IGNORECASE)\n",
    "    return len(vowels)\n",
    "\n",
    "def total_syllables(text):\n",
    "    words = text.split()\n",
    "    total = sum(count_syllables(word) for word in words)\n",
    "    return total\n",
    "\n",
    "# Example usage\n",
    "input_text = \"The quick brown fox jumps over the lazy dog.\"\n",
    "syllable_count = total_syllables(input_text)\n",
    "print(\"Total syllables:\", syllable_count)\n"
   ]
  },
  {
   "cell_type": "code",
   "execution_count": 45,
   "metadata": {},
   "outputs": [
    {
     "name": "stdout",
     "output_type": "stream",
     "text": [
      "The text contains special characters.\n"
     ]
    }
   ],
   "source": [
    "#47. Check if a string contains any special characters.\n",
    "import re\n",
    "\n",
    "def contains_special_characters(text):\n",
    "    # Define a regular expression pattern to match special characters\n",
    "    pattern = r'[^\\w\\s]'\n",
    "    \n",
    "    # Search for the pattern in the text\n",
    "    match = re.search(pattern, text)\n",
    "    \n",
    "    # Return True if a special character is found, False otherwise\n",
    "    return bool(match)\n",
    "\n",
    "# Example usage\n",
    "input_text = \"Hello, World!\"\n",
    "contains_special = contains_special_characters(input_text)\n",
    "if contains_special:\n",
    "    print(\"The text contains special characters.\")\n",
    "else:\n",
    "    print(\"The text does not contain special characters.\")\n"
   ]
  },
  {
   "cell_type": "code",
   "execution_count": 47,
   "metadata": {},
   "outputs": [
    {
     "name": "stdout",
     "output_type": "stream",
     "text": [
      "This is an example sentence for demonstration.\"\n",
      "This is example sentence for demonstration.\"\n"
     ]
    }
   ],
   "source": [
    "#48. Remove the nth word from a string.\n",
    "def remove_nth_word(text, n):\n",
    "    words = text.split()\n",
    "    if 1 <= n <= len(words):\n",
    "        words.pop(n - 1)\n",
    "        return ' '.join(words)\n",
    "    else:\n",
    "        return text\n",
    "\n",
    "# Example usage\n",
    "input_text = input(\"Enter the sentence \")\n",
    "print(input_text)\n",
    "nth_word_to_remove = int(input(\"Enter the position of word that you want to remove.\"))\n",
    "new_text = remove_nth_word(input_text, nth_word_to_remove)\n",
    "print(new_text)\n"
   ]
  },
  {
   "cell_type": "code",
   "execution_count": 48,
   "metadata": {},
   "outputs": [
    {
     "name": "stdout",
     "output_type": "stream",
     "text": [
      "This is new a sentence.\n"
     ]
    }
   ],
   "source": [
    "#49. Insert a word at the nth position in a string.\n",
    "def insert_word_at_nth_position(text, n, word_to_insert):\n",
    "    words = text.split()\n",
    "    if 0 <= n <= len(words):\n",
    "        words.insert(n, word_to_insert)\n",
    "        return ' '.join(words)\n",
    "    else:\n",
    "        return text\n",
    "\n",
    "# Example usage\n",
    "input_text = input(\"Enter the value \")\n",
    "nth_position = int(input(\"Enter the position \"))\n",
    "word_to_insert = \"new\"\n",
    "new_text = insert_word_at_nth_position(input_text, nth_position, word_to_insert)\n",
    "print(new_text)\n"
   ]
  },
  {
   "cell_type": "code",
   "execution_count": 50,
   "metadata": {},
   "outputs": [
    {
     "name": "stdout",
     "output_type": "stream",
     "text": [
      "['1', 'Ankesh', 'Mishra']\n",
      "['2', 'Prahant', 'Bhadula']\n",
      "['3', 'Bobby', 'jhaa']\n"
     ]
    }
   ],
   "source": [
    "#50. Convert a CSV string to a list of lists.\n",
    "import csv\n",
    "from io import StringIO\n",
    "\n",
    "def csv_string_to_list_of_lists(csv_string):\n",
    "    csv_io = StringIO(csv_string)  # Create a file-like object from the CSV string\n",
    "    csv_reader = csv.reader(csv_io)  # Create a CSV reader object\n",
    "\n",
    "    list_of_lists = []\n",
    "    for row in csv_reader:\n",
    "        list_of_lists.append(row)\n",
    "\n",
    "    return list_of_lists\n",
    "\n",
    "# Example usage\n",
    "csv_string = \"1,Ankesh,Mishra\\n2,Prahant,Bhadula\\n3,Bobby,jhaa\"\n",
    "list_of_lists = csv_string_to_list_of_lists(csv_string)\n",
    "for row in list_of_lists:\n",
    "    print(row)\n",
    "\n"
   ]
  },
  {
   "cell_type": "code",
   "execution_count": null,
   "metadata": {},
   "outputs": [],
   "source": [
    "\"\"\"       \n",
    "            STRING SECTION ENDS THE NEXT SECTION IS OF LIST\n",
    "\"\"\""
   ]
  },
  {
   "cell_type": "code",
   "execution_count": 1,
   "metadata": {},
   "outputs": [
    {
     "name": "stdout",
     "output_type": "stream",
     "text": [
      "[1, 2, 3, 4, 5, 6, 7, 8, 9, 10]\n"
     ]
    }
   ],
   "source": [
    "#1. Create a list with integers from 1 to 10.\n",
    "integer_list = list(range(1, 11))\n",
    "print(integer_list)\n"
   ]
  },
  {
   "cell_type": "code",
   "execution_count": 2,
   "metadata": {},
   "outputs": [
    {
     "name": "stdout",
     "output_type": "stream",
     "text": [
      "Length: 10\n"
     ]
    }
   ],
   "source": [
    "my_list = [1, 2, 3, 4, 5, 6, 7, 8, 9, 10]\n",
    "length = sum(1 for _ in my_list)\n",
    "print(\"Length:\", length)\n"
   ]
  },
  {
   "cell_type": "code",
   "execution_count": 4,
   "metadata": {},
   "outputs": [
    {
     "name": "stdout",
     "output_type": "stream",
     "text": [
      "[1, 21, 21, 13, 42, 53, 56, 78]\n",
      "[1, 21, 21, 5555, 13, 42, 53, 56, 78]\n"
     ]
    }
   ],
   "source": [
    "#4. Insert an element at a specific index in a list.\n",
    "my_list = input(\"Enter the list (comma-separated numbers): \").split(',')\n",
    "my_list = [int(num) for num in my_list]\n",
    "\n",
    "element_to_insert = int(input(\"Enter the element to insert: \"))\n",
    "index_to_insert = int(input(\"Enter the index at which to insert: \"))\n",
    "print(my_list)\n",
    "my_list.insert(index_to_insert, element_to_insert)\n",
    "print(my_list)\n"
   ]
  },
  {
   "cell_type": "code",
   "execution_count": 5,
   "metadata": {},
   "outputs": [
    {
     "name": "stdout",
     "output_type": "stream",
     "text": [
      "Element 22 not found in the list.\n",
      "[1, 21, 34, 431, 34, 32, 56, 435, 67, 424]\n"
     ]
    }
   ],
   "source": [
    "#5. Remove an element from a list by its value.\n",
    "my_list = input(\"Enter the list (comma-separated numbers): \").split(',')\n",
    "my_list = [int(num) for num in my_list]\n",
    "\n",
    "element_to_remove = int(input(\"Enter the element to remove: \"))\n",
    "\n",
    "if element_to_remove in my_list:\n",
    "    my_list.remove(element_to_remove)\n",
    "    print(f\"Element {element_to_remove} removed.\")\n",
    "else:\n",
    "    print(f\"Element {element_to_remove} not found in the list.\")\n",
    "\n",
    "print(my_list)\n"
   ]
  },
  {
   "cell_type": "code",
   "execution_count": 6,
   "metadata": {},
   "outputs": [
    {
     "name": "stdout",
     "output_type": "stream",
     "text": [
      "[1, 2, 3, 4, 5, 6]\n",
      "Element 3 at index 2 removed.\n",
      "[1, 2, 4, 5, 6]\n"
     ]
    }
   ],
   "source": [
    "#6. Remove an element from a list by its index.\n",
    "my_list = [1, 2, 3, 4, 5, 6]\n",
    "print(my_list)\n",
    "index_to_remove = int(input(\"Enter the index to remove: \"))\n",
    "\n",
    "if 0 <= index_to_remove < len(my_list):\n",
    "    removed_element = my_list.pop(index_to_remove)\n",
    "    print(f\"Element {removed_element} at index {index_to_remove} removed.\")\n",
    "else:\n",
    "    print(\"Invalid index.\")\n",
    "\n",
    "print(my_list)\n"
   ]
  },
  {
   "cell_type": "code",
   "execution_count": 7,
   "metadata": {},
   "outputs": [
    {
     "name": "stdout",
     "output_type": "stream",
     "text": [
      "Element 5 exists in the list.\n"
     ]
    }
   ],
   "source": [
    "#7. Check if an element exists in a list.\n",
    "my_list = [1, 2, 3, 4, 5, 6]\n",
    "element_to_check = int(input(\"Enter the element to check: \"))\n",
    "\n",
    "if element_to_check in my_list:\n",
    "    print(f\"Element {element_to_check} exists in the list.\")\n",
    "else:\n",
    "    print(f\"Element {element_to_check} does not exist in the list.\")\n"
   ]
  },
  {
   "cell_type": "code",
   "execution_count": 8,
   "metadata": {},
   "outputs": [
    {
     "name": "stdout",
     "output_type": "stream",
     "text": [
      "Element 6 found at index 5.\n"
     ]
    }
   ],
   "source": [
    "#8. Find the index of the first occurrence of an element in a list.\n",
    "my_list = [1, 2, 3, 4, 5, 6]\n",
    "element_to_find = int(input(\"Enter the element to find: \"))\n",
    "\n",
    "try:\n",
    "    index = my_list.index(element_to_find)\n",
    "    print(f\"Element {element_to_find} found at index {index}.\")\n",
    "except ValueError:\n",
    "    print(f\"Element {element_to_find} not found in the list.\")\n"
   ]
  },
  {
   "cell_type": "code",
   "execution_count": 9,
   "metadata": {},
   "outputs": [
    {
     "name": "stdout",
     "output_type": "stream",
     "text": [
      "Element 2 appears 3 times in the list.\n"
     ]
    }
   ],
   "source": [
    "#9. Count the occurrences of an element in a list.\n",
    "my_list = [1, 2, 2, 3, 4, 2, 5, 6]\n",
    "element_to_count = int(input(\"Enter the element to count: \"))\n",
    "\n",
    "count = my_list.count(element_to_count)\n",
    "print(f\"Element {element_to_count} appears {count} times in the list.\")\n"
   ]
  },
  {
   "cell_type": "code",
   "execution_count": 11,
   "metadata": {},
   "outputs": [
    {
     "name": "stdout",
     "output_type": "stream",
     "text": [
      "[1, 2, 3, 4, 5, 6]\n",
      "[6, 5, 4, 3, 2, 1]\n"
     ]
    }
   ],
   "source": [
    "#10. Reverse the order of elements in a list.\n",
    "my_list = [1, 2, 3, 4, 5, 6]\n",
    "print(my_list)\n",
    "my_list.reverse()\n",
    "print(my_list)\n"
   ]
  },
  {
   "cell_type": "code",
   "execution_count": 13,
   "metadata": {},
   "outputs": [
    {
     "name": "stdout",
     "output_type": "stream",
     "text": [
      "[4, 1, 6, 3, 2, 5]\n",
      "[1, 2, 3, 4, 5, 6]\n"
     ]
    }
   ],
   "source": [
    "#11. Sort a list in ascending order.\n",
    "my_list = [4, 1, 6, 3, 2, 5]\n",
    "print(my_list)\n",
    "my_list.sort()\n",
    "print(my_list)\n",
    "\n",
    "\n"
   ]
  },
  {
   "cell_type": "code",
   "execution_count": 14,
   "metadata": {},
   "outputs": [
    {
     "name": "stdout",
     "output_type": "stream",
     "text": [
      "[4, 1, 6, 3, 2, 5]\n",
      "[6, 5, 4, 3, 2, 1]\n"
     ]
    }
   ],
   "source": [
    "#12. Sort a list in descending order.\n",
    "my_list = [4, 1, 6, 3, 2, 5]\n",
    "print(my_list)\n",
    "my_list.sort(reverse=True)\n",
    "print(my_list)\n"
   ]
  },
  {
   "cell_type": "code",
   "execution_count": 15,
   "metadata": {},
   "outputs": [
    {
     "name": "stdout",
     "output_type": "stream",
     "text": [
      "[2, 4, 6, 8, 10, 12, 14, 16, 18, 20]\n"
     ]
    }
   ],
   "source": [
    "#13. Create a list of even numbers from 1 to 20.\n",
    "even_numbers = [x for x in range(2, 21, 2)]\n",
    "print(even_numbers)\n"
   ]
  },
  {
   "cell_type": "code",
   "execution_count": 16,
   "metadata": {},
   "outputs": [
    {
     "name": "stdout",
     "output_type": "stream",
     "text": [
      "[1, 3, 5, 7, 9, 11, 13, 15, 17, 19]\n"
     ]
    }
   ],
   "source": [
    "#14. Create a list of odd numbers from 1 to 20.\n",
    "odd_numbers = [x for x in range(1, 21, 2)]\n",
    "print(odd_numbers)\n"
   ]
  },
  {
   "cell_type": "code",
   "execution_count": 17,
   "metadata": {},
   "outputs": [
    {
     "name": "stdout",
     "output_type": "stream",
     "text": [
      "Sum: 15\n"
     ]
    }
   ],
   "source": [
    "#15. Find the sum of all elements in a list.\n",
    "my_list = [1, 2, 3, 4, 5]\n",
    "total_sum = sum(my_list)\n",
    "print(\"Sum:\", total_sum)\n"
   ]
  },
  {
   "cell_type": "code",
   "execution_count": 18,
   "metadata": {},
   "outputs": [
    {
     "name": "stdout",
     "output_type": "stream",
     "text": [
      "Maximum value: 9\n"
     ]
    }
   ],
   "source": [
    "#16. Find the maximum value in a list.\n",
    "my_list = [4, 9, 2, 7, 5]\n",
    "max_value = max(my_list)\n",
    "print(\"Maximum value:\", max_value)\n"
   ]
  },
  {
   "cell_type": "code",
   "execution_count": 19,
   "metadata": {},
   "outputs": [
    {
     "name": "stdout",
     "output_type": "stream",
     "text": [
      "Minimum value: 2\n"
     ]
    }
   ],
   "source": [
    "#17. Find the minimum value in a list.\n",
    "my_list = [4, 9, 2, 7, 5]\n",
    "min_value = min(my_list)\n",
    "print(\"Minimum value:\", min_value)\n"
   ]
  },
  {
   "cell_type": "code",
   "execution_count": 20,
   "metadata": {},
   "outputs": [
    {
     "name": "stdout",
     "output_type": "stream",
     "text": [
      "[1, 4, 9, 16, 25, 36, 49, 64, 81, 100]\n"
     ]
    }
   ],
   "source": [
    "#18. Create a list of squares of numbers from 1 to 10.\n",
    "squares = [x ** 2 for x in range(1, 11)]\n",
    "print(squares)\n"
   ]
  },
  {
   "cell_type": "code",
   "execution_count": 21,
   "metadata": {},
   "outputs": [
    {
     "name": "stdout",
     "output_type": "stream",
     "text": [
      "[59, 53, 90, 81, 70, 57, 1, 80, 15, 20]\n"
     ]
    }
   ],
   "source": [
    "#19. Create a list of random numbers.\n",
    "import random\n",
    "\n",
    "num_of_random_numbers = 10  \n",
    "min_value = 1  \n",
    "max_value = 100  \n",
    "\n",
    "random_numbers = [random.randint(min_value, max_value) for _ in range(num_of_random_numbers)]\n",
    "print(random_numbers)\n",
    "\n"
   ]
  },
  {
   "cell_type": "code",
   "execution_count": 25,
   "metadata": {},
   "outputs": [
    {
     "name": "stdout",
     "output_type": "stream",
     "text": [
      "original list:  [1, 2, 2, 3, 4, 4, 5, 6, 6]\n",
      "unique list:  [1, 2, 3, 4, 5, 6]\n"
     ]
    }
   ],
   "source": [
    "#20. Remove duplicates from a list.\n",
    "my_list = [1, 2, 2, 3, 4, 4, 5, 6, 6]\n",
    "print(\"original list: \",my_list)\n",
    "unique_list = list(set(my_list))\n",
    "print(\"unique list: \",unique_list)\n"
   ]
  },
  {
   "cell_type": "code",
   "execution_count": 26,
   "metadata": {},
   "outputs": [
    {
     "name": "stdout",
     "output_type": "stream",
     "text": [
      "[3, 4, 5]\n"
     ]
    }
   ],
   "source": [
    "#21. Find the common elements between two lists.\n",
    "list1 = [1, 2, 3, 4, 5]\n",
    "list2 = [3, 4, 5, 6, 7]\n",
    "\n",
    "common_elements = list(set(list1).intersection(list2))\n",
    "print(common_elements)\n"
   ]
  },
  {
   "cell_type": "code",
   "execution_count": 27,
   "metadata": {},
   "outputs": [
    {
     "name": "stdout",
     "output_type": "stream",
     "text": [
      "[1, 2]\n"
     ]
    }
   ],
   "source": [
    "#22. Find the difference between two lists.\n",
    "list1 = [1, 2, 3, 4, 5]\n",
    "list2 = [3, 4, 5, 6, 7]\n",
    "\n",
    "difference_elements = []\n",
    "for item in list1:\n",
    "    if item not in list2:\n",
    "        difference_elements.append(item)\n",
    "        \n",
    "print(difference_elements)\n"
   ]
  },
  {
   "cell_type": "code",
   "execution_count": 28,
   "metadata": {},
   "outputs": [
    {
     "name": "stdout",
     "output_type": "stream",
     "text": [
      "[1, 2, 3, 4, 5, 6]\n"
     ]
    }
   ],
   "source": [
    "#23. Merge two lists.\n",
    "list1 = [1, 2, 3]\n",
    "list2 = [4, 5, 6]\n",
    "\n",
    "merged_list = list1 + list2\n",
    "print(merged_list)\n"
   ]
  },
  {
   "cell_type": "code",
   "execution_count": 29,
   "metadata": {},
   "outputs": [
    {
     "name": "stdout",
     "output_type": "stream",
     "text": [
      "[2, 4, 6, 8, 10]\n"
     ]
    }
   ],
   "source": [
    "#24. Multiply all elements in a list by 2.\n",
    "my_list = [1, 2, 3, 4, 5]\n",
    "\n",
    "multiplied_list = list(map(lambda x: x * 2, my_list))\n",
    "print(multiplied_list)\n"
   ]
  },
  {
   "cell_type": "code",
   "execution_count": 30,
   "metadata": {},
   "outputs": [
    {
     "name": "stdout",
     "output_type": "stream",
     "text": [
      "[1, 3, 5]\n"
     ]
    }
   ],
   "source": [
    "#25. Filter out all even numbers from a list.\n",
    "my_list = [1, 2, 3, 4, 5, 6]\n",
    "\n",
    "filtered_list = list(filter(lambda x: x % 2 != 0, my_list))\n",
    "print(filtered_list)\n"
   ]
  },
  {
   "cell_type": "code",
   "execution_count": 31,
   "metadata": {},
   "outputs": [
    {
     "name": "stdout",
     "output_type": "stream",
     "text": [
      "[1, 2, 3, 4, 5]\n"
     ]
    }
   ],
   "source": [
    "#26. Convert a list of strings to a list of integers.\n",
    "string_list = ['1', '2', '3', '4', '5']\n",
    "int_list = list(map(int, string_list))\n",
    "print(int_list)\n"
   ]
  },
  {
   "cell_type": "code",
   "execution_count": 33,
   "metadata": {},
   "outputs": [
    {
     "name": "stdout",
     "output_type": "stream",
     "text": [
      "[1, 2, 3, 4, 5, 6, 7, 8, 9]\n"
     ]
    }
   ],
   "source": [
    "#27. Convert a list of integers to a list of strings.\n",
    "nested_list = [[1, 2, 3], [4, 5], [6, 7, 8, 9]]\n",
    "flattened_list = []\n",
    "\n",
    "for sublist in nested_list:\n",
    "\n",
    "    for element in sublist:\n",
    "\n",
    "        flattened_list.append(element)\n",
    "\n",
    "print(flattened_list)\n"
   ]
  },
  {
   "cell_type": "code",
   "execution_count": 34,
   "metadata": {},
   "outputs": [
    {
     "name": "stdout",
     "output_type": "stream",
     "text": [
      "[0, 1, 1, 2, 3, 5, 8, 13, 21, 34]\n"
     ]
    }
   ],
   "source": [
    "#29. Create a list of the first 10 Fibonacci numbers.\n",
    "fibonacci_list = [0, 1]  # Initialize with the first two Fibonacci numbers\n",
    "\n",
    "while len(fibonacci_list) < 10:\n",
    "    next_fibonacci = fibonacci_list[-1] + fibonacci_list[-2]\n",
    "    fibonacci_list.append(next_fibonacci)\n",
    "\n",
    "print(fibonacci_list)\n"
   ]
  },
  {
   "cell_type": "code",
   "execution_count": 36,
   "metadata": {},
   "outputs": [
    {
     "name": "stdout",
     "output_type": "stream",
     "text": [
      "[1, 3, 5, 7, 9]\n",
      "True\n",
      "[3, 1, 5, 7, 9]\n",
      "False\n"
     ]
    }
   ],
   "source": [
    "#30. Check if a list is sorted.\n",
    "def is_sorted_ascending(lst):\n",
    "    return all(lst[i] <= lst[i + 1] for i in range(len(lst) - 1))\n",
    "\n",
    "my_list = [1, 3, 5, 7, 9]\n",
    "print(my_list)\n",
    "print(is_sorted_ascending(my_list))  # Output: True\n",
    "\n",
    "my_list = [3, 1, 5, 7, 9]\n",
    "print(my_list)\n",
    "\n",
    "print(is_sorted_ascending(my_list))  # Output: False\n"
   ]
  },
  {
   "cell_type": "code",
   "execution_count": 38,
   "metadata": {},
   "outputs": [
    {
     "name": "stdout",
     "output_type": "stream",
     "text": [
      "[1, 2, 3, 4, 5]\n",
      "[3, 4, 5, 1, 2]\n"
     ]
    }
   ],
   "source": [
    "#31. Rotate a list to the left by `n` positions.\n",
    "def rotate_left(lst, n):\n",
    "    return lst[n:] + lst[:n]\n",
    "\n",
    "my_list = [1, 2, 3, 4, 5]\n",
    "n = 2\n",
    "rotated_list = rotate_left(my_list, n)\n",
    "print(my_list)\n",
    "print(rotated_list)\n"
   ]
  },
  {
   "cell_type": "code",
   "execution_count": 39,
   "metadata": {},
   "outputs": [
    {
     "name": "stdout",
     "output_type": "stream",
     "text": [
      "[1, 2, 3, 4, 5]\n",
      "[4, 5, 1, 2, 3]\n"
     ]
    }
   ],
   "source": [
    "#32. Rotate a list to the right by `n` positions.\n",
    "def rotate_right(lst, n):\n",
    "    return lst[-n:] + lst[:-n]\n",
    "\n",
    "my_list = [1, 2, 3, 4, 5]\n",
    "n = 2\n",
    "rotated_list = rotate_right(my_list, n)\n",
    "print(my_list)\n",
    "print(rotated_list)\n"
   ]
  },
  {
   "cell_type": "code",
   "execution_count": 40,
   "metadata": {},
   "outputs": [
    {
     "name": "stdout",
     "output_type": "stream",
     "text": [
      "[2, 3, 5, 7, 11, 13, 17, 19, 23, 29, 31, 37, 41, 43, 47]\n"
     ]
    }
   ],
   "source": [
    "#33. Create a list of prime numbers up to 50.\n",
    "def is_prime(num):\n",
    "    if num <= 1:\n",
    "        return False\n",
    "    if num <= 3:\n",
    "        return True\n",
    "    if num % 2 == 0 or num % 3 == 0:\n",
    "        return False\n",
    "    i = 5\n",
    "    while i * i <= num:\n",
    "        if num % i == 0 or num % (i + 2) == 0:\n",
    "            return False\n",
    "        i += 6\n",
    "    return True\n",
    "\n",
    "prime_numbers = [num for num in range(2, 51) if is_prime(num)]\n",
    "print(prime_numbers)\n"
   ]
  },
  {
   "cell_type": "code",
   "execution_count": 42,
   "metadata": {},
   "outputs": [
    {
     "name": "stdout",
     "output_type": "stream",
     "text": [
      "[[1, 2, 3], [4, 5, 6], [7, 8, 9], [10]]\n"
     ]
    }
   ],
   "source": [
    "#34. Split a list into chunks of size `n`.\n",
    "def split_into_chunks(lst, n):\n",
    "    return [lst[i:i + n] for i in range(0, len(lst), n)]\n",
    "\n",
    "my_list = [1, 2, 3, 4, 5, 6, 7, 8, 9, 10]\n",
    "chunk_size = 3\n",
    "chunked_list = split_into_chunks(my_list, chunk_size)\n",
    "print(chunked_list)\n"
   ]
  },
  {
   "cell_type": "code",
   "execution_count": null,
   "metadata": {},
   "outputs": [],
   "source": []
  },
  {
   "cell_type": "code",
   "execution_count": null,
   "metadata": {},
   "outputs": [],
   "source": []
  },
  {
   "cell_type": "code",
   "execution_count": null,
   "metadata": {},
   "outputs": [],
   "source": []
  },
  {
   "cell_type": "code",
   "execution_count": null,
   "metadata": {},
   "outputs": [],
   "source": []
  },
  {
   "cell_type": "code",
   "execution_count": null,
   "metadata": {},
   "outputs": [],
   "source": []
  },
  {
   "cell_type": "code",
   "execution_count": null,
   "metadata": {},
   "outputs": [],
   "source": []
  },
  {
   "cell_type": "code",
   "execution_count": null,
   "metadata": {},
   "outputs": [],
   "source": []
  },
  {
   "cell_type": "code",
   "execution_count": null,
   "metadata": {},
   "outputs": [],
   "source": []
  },
  {
   "cell_type": "code",
   "execution_count": null,
   "metadata": {},
   "outputs": [],
   "source": []
  },
  {
   "cell_type": "code",
   "execution_count": null,
   "metadata": {},
   "outputs": [],
   "source": []
  },
  {
   "cell_type": "code",
   "execution_count": null,
   "metadata": {},
   "outputs": [],
   "source": []
  },
  {
   "cell_type": "code",
   "execution_count": null,
   "metadata": {},
   "outputs": [],
   "source": []
  },
  {
   "cell_type": "code",
   "execution_count": null,
   "metadata": {},
   "outputs": [],
   "source": []
  },
  {
   "cell_type": "code",
   "execution_count": null,
   "metadata": {},
   "outputs": [],
   "source": []
  }
 ],
 "metadata": {
  "kernelspec": {
   "display_name": "Python 3",
   "language": "python",
   "name": "python3"
  },
  "language_info": {
   "codemirror_mode": {
    "name": "ipython",
    "version": 3
   },
   "file_extension": ".py",
   "mimetype": "text/x-python",
   "name": "python",
   "nbconvert_exporter": "python",
   "pygments_lexer": "ipython3",
   "version": "3.11.5"
  },
  "orig_nbformat": 4
 },
 "nbformat": 4,
 "nbformat_minor": 2
}
